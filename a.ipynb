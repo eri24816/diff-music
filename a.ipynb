{
 "cells": [
  {
   "cell_type": "code",
   "execution_count": 1,
   "metadata": {},
   "outputs": [],
   "source": [
    "%load_ext autoreload\n",
    "%autoreload 2\n"
   ]
  },
  {
   "cell_type": "code",
   "execution_count": 2,
   "metadata": {},
   "outputs": [],
   "source": [
    "from torch import Tensor, nn\n",
    "import torch\n",
    "\n",
    "class ResBlock(nn.Module):\n",
    "    def __init__(self, channels: int):\n",
    "        super().__init__()\n",
    "        self.net = nn.Sequential(\n",
    "            nn.Conv2d(channels, channels, 3, padding=1),\n",
    "            nn.LeakyReLU(0.01),\n",
    "            nn.GroupNorm(32, channels),\n",
    "        )\n",
    "\n",
    "    def forward(self, x: Tensor) -> Tensor:\n",
    "        return x + self.net(x)\n",
    "    \n",
    "class Downsample(nn.Module):\n",
    "    def __init__(self, in_channels: int, out_channels: int):\n",
    "        super().__init__()\n",
    "        self.net = nn.Sequential(\n",
    "            nn.Conv2d(in_channels, out_channels, kernel_size=4, stride=2, padding=1),\n",
    "            nn.LeakyReLU(0.01),\n",
    "            nn.GroupNorm(32, out_channels),\n",
    "        )\n",
    "\n",
    "    def forward(self, x: Tensor) -> Tensor:\n",
    "        return self.net(x)\n",
    "    \n",
    "class Upsample(nn.Module):\n",
    "    def __init__(self, in_channels: int, out_channels: int):\n",
    "        super().__init__()\n",
    "        self.net = nn.Sequential(\n",
    "            nn.ConvTranspose2d(in_channels, out_channels, kernel_size=4, stride=2, padding=1),\n",
    "            nn.LeakyReLU(0.01),\n",
    "        )\n",
    "\n",
    "    def forward(self, x: Tensor) -> Tensor:\n",
    "        return self.net(x)\n",
    "    \n",
    "class DownBlock(nn.Module):\n",
    "    def __init__(self, in_channels: int, out_channels: int):\n",
    "        super().__init__()\n",
    "        self.net = nn.Sequential(\n",
    "            Downsample(in_channels, out_channels),\n",
    "            ResBlock(out_channels),\n",
    "        )\n",
    "\n",
    "    def forward(self, x: Tensor) -> Tensor:\n",
    "        return self.net(x)\n",
    "    \n",
    "class UpBlock(nn.Module):\n",
    "    def __init__(self, in_channels: int, out_channels: int):\n",
    "        super().__init__()\n",
    "        self.net = nn.Sequential(\n",
    "            ResBlock(in_channels),\n",
    "            Upsample(in_channels, out_channels),\n",
    "        )\n",
    "\n",
    "    def forward(self, x: Tensor) -> Tensor:\n",
    "        return self.net(x)\n",
    "\n",
    "class UnetDenoiser(nn.Module):\n",
    "    def __init__(self, in_channels: int, start_channels: int, channels_mult: list[int]):\n",
    "        super().__init__()\n",
    "        self.num_blocks = len(channels_mult) - 1\n",
    "        channels = [start_channels * m for m in channels_mult]\n",
    "        \n",
    "        self.in_block = nn.Sequential(\n",
    "            nn.Conv2d(in_channels + 1, channels[0], 3, padding=1),\n",
    "            nn.LeakyReLU(0.01),\n",
    "            nn.GroupNorm(32, channels[0]),\n",
    "            ResBlock(channels[0]),\n",
    "        )\n",
    "        self.downs = nn.ModuleList()\n",
    "        for i in range(self.num_blocks):\n",
    "            self.downs.append(\n",
    "                DownBlock(channels[i], channels[i+1]),\n",
    "            )\n",
    "\n",
    "        self.ups = nn.ModuleList()\n",
    "        for i in range(self.num_blocks):\n",
    "            self.ups.append(\n",
    "                UpBlock(channels[i+1] * 2 if i != self.num_blocks - 1 else channels[i+1], channels[i]),\n",
    "            )\n",
    "\n",
    "        self.out_block = nn.Sequential(\n",
    "            ResBlock(channels[0] * 2),\n",
    "            nn.GroupNorm(32, channels[0]* 2),\n",
    "            nn.LeakyReLU(0.01),\n",
    "            nn.Conv2d(channels[0]* 2, in_channels, 3, padding=1),\n",
    "        )\n",
    "        \n",
    "\n",
    "    def forward(self, x: Tensor, time_steps: Tensor) -> Tensor:\n",
    "        '''\n",
    "        x: (b, c, h, w)\n",
    "        t: (b)\n",
    "        '''\n",
    "\n",
    "        time_steps = time_steps.unsqueeze(-1).unsqueeze(-1).unsqueeze(-1).expand(-1, 1, x.shape[2], x.shape[3])\n",
    "        x = torch.cat([x, time_steps], dim=1)\n",
    "        x = self.in_block(x) # (b, start_channels, h, w)\n",
    "\n",
    "        skip_connections = []\n",
    "        for down in self.downs:\n",
    "            skip_connections.append(x)\n",
    "            x = down(x)\n",
    "            \n",
    "        for up in reversed(self.ups):\n",
    "            x = up(x)\n",
    "            x = torch.cat([x, skip_connections.pop()], dim=1)\n",
    "\n",
    "        x = self.out_block(x)\n",
    "        \n",
    "        return x\n"
   ]
  },
  {
   "cell_type": "code",
   "execution_count": 3,
   "metadata": {},
   "outputs": [
    {
     "name": "stdout",
     "output_type": "stream",
     "text": [
      "Noise scheduler with linear:\n",
      "Diffusion 1.0 -> 0.5:\n",
      "1.0000 0.9922 0.9844 0.9766 0.9688 0.9609 0.9531 0.9453 0.9375 0.9297 0.9219 0.9141 0.9062 0.8984 0.8906 0.8828 0.8750 0.8672 0.8594 0.8516 0.8438 0.8359 0.8281 0.8203 0.8125 0.8047 0.7969 0.7891 0.7812 0.7734 0.7656 0.7578 0.7500 0.7422 0.7344 0.7266 0.7188 0.7109 0.7031 0.6953 0.6875 0.6797 0.6719 0.6641 0.6562 0.6484 0.6406 0.6328 0.6250 0.6172 0.6094 0.6016 0.5938 0.5859 0.5781 0.5703 0.5625 0.5547 0.5469 0.5391 0.5312 0.5234 0.5156 0.5078 0.5000\n",
      "Diffusion 0.0 -> 0.5:\n",
      "0.0000 0.0078 0.0156 0.0234 0.0312 0.0391 0.0469 0.0547 0.0625 0.0703 0.0781 0.0859 0.0938 0.1016 0.1094 0.1172 0.1250 0.1328 0.1406 0.1484 0.1562 0.1641 0.1719 0.1797 0.1875 0.1953 0.2031 0.2109 0.2188 0.2266 0.2344 0.2422 0.2500 0.2578 0.2656 0.2734 0.2812 0.2891 0.2969 0.3047 0.3125 0.3203 0.3281 0.3359 0.3438 0.3516 0.3594 0.3672 0.3750 0.3828 0.3906 0.3984 0.4062 0.4141 0.4219 0.4297 0.4375 0.4453 0.4531 0.4609 0.4688 0.4766 0.4844 0.4922 0.5000\n",
      "Beta:\n",
      "1.0000 0.9844 0.9841 0.9839 0.9836 0.9833 0.9831 0.9828 0.9825 0.9821 0.9818 0.9815 0.9811 0.9808 0.9804 0.9800 0.9796 0.9792 0.9787 0.9783 0.9778 0.9773 0.9767 0.9762 0.9756 0.9750 0.9744 0.9737 0.9730 0.9722 0.9714 0.9706 0.9697 0.9688 0.9677 0.9667 0.9655 0.9643 0.9630 0.9615 0.9600 0.9583 0.9565 0.9545 0.9524 0.9500 0.9474 0.9444 0.9412 0.9375 0.9333 0.9286 0.9231 0.9167 0.9091 0.9000 0.8889 0.8750 0.8571 0.8333 0.8000 0.7500 0.6667 0.5000 0.0000\n"
     ]
    }
   ],
   "source": [
    "from diff_music.binary_diffusion import BinaryDiffusion, BinDiffParams\n",
    "import torchvision\n",
    "import torchvision.transforms as transforms\n",
    "from torch.utils.data import DataLoader\n",
    "params = BinDiffParams(\n",
    "    total_steps=64,\n",
    "    loss_final='weighted',\n",
    "    use_softmax=True,\n",
    "    beta_type='linear',\n",
    "    p_flip=False,\n",
    "    focal=0.0,\n",
    "    aux=0.0,\n",
    "    use_label=False,\n",
    "    guidance=0.0,\n",
    "    channels=1,\n",
    ")\n",
    "\n",
    "device = torch.device('cuda' if torch.cuda.is_available() else 'cpu')\n",
    "denoizer = UnetDenoiser(1, 64, [1, 2, 4])\n",
    "diff = BinaryDiffusion(params, denoizer).to(device)\n",
    "# mnist\n",
    "ds = torchvision.datasets.MNIST(root='./data', train=True, transform=transforms.ToTensor(), download=True)"
   ]
  },
  {
   "cell_type": "code",
   "execution_count": 4,
   "metadata": {},
   "outputs": [
    {
     "name": "stderr",
     "output_type": "stream",
     "text": [
      "100%|██████████| 938/938 [00:12<00:00, 73.31it/s, loss=0.0527]\n",
      "100%|██████████| 938/938 [00:12<00:00, 75.96it/s, loss=0.0663]\n",
      "100%|██████████| 938/938 [00:12<00:00, 75.27it/s, loss=0.0489]\n",
      "100%|██████████| 938/938 [00:12<00:00, 74.71it/s, loss=0.0525]\n",
      "100%|██████████| 938/938 [00:12<00:00, 74.75it/s, loss=0.0473]\n",
      "100%|██████████| 938/938 [00:12<00:00, 73.80it/s, loss=0.0536]\n",
      "100%|██████████| 938/938 [00:12<00:00, 75.30it/s, loss=0.0672]\n",
      "100%|██████████| 938/938 [00:12<00:00, 75.78it/s, loss=0.0523]\n",
      "100%|██████████| 938/938 [00:12<00:00, 75.78it/s, loss=0.0529]\n",
      "100%|██████████| 938/938 [00:12<00:00, 75.40it/s, loss=0.0562]\n"
     ]
    }
   ],
   "source": [
    "from tqdm import tqdm\n",
    "dataloader = DataLoader(ds, batch_size=64, shuffle=True)\n",
    "\n",
    "\n",
    "\n",
    "optim = torch.optim.Adam(denoizer.parameters(), lr=1e-3)\n",
    "\n",
    "def binarize(x: Tensor) -> Tensor:\n",
    "    return (x > 0.5).float()\n",
    "\n",
    "for epoch in range(10):\n",
    "    progress = tqdm(dataloader)\n",
    "    for x, _ in progress:\n",
    "        x = binarize(x.to(device))\n",
    "        loss = diff(x)['loss']\n",
    "        optim.zero_grad()\n",
    "        loss.backward()\n",
    "        optim.step()\n",
    "        progress.set_postfix(loss=loss.item())\n",
    "\n",
    "\n"
   ]
  },
  {
   "cell_type": "code",
   "execution_count": 30,
   "metadata": {},
   "outputs": [
    {
     "data": {
      "text/plain": [
       "<matplotlib.image.AxesImage at 0x1b39faed990>"
      ]
     },
     "execution_count": 30,
     "metadata": {},
     "output_type": "execute_result"
    },
    {
     "data": {
      "image/png": "[encoded data removed]",
      "text/plain": [
       "<Figure size 640x480 with 1 Axes>"
      ]
     },
     "metadata": {},
     "output_type": "display_data"
    }
   ],
   "source": [
    "import einops\n",
    "import matplotlib.pyplot as plt\n",
    "sampled = diff.sample((5, 1, 24, 24),return_all=True).detach().cpu()\n",
    "T = sampled.shape[1]\n",
    "num_display_steps = 4\n",
    "display_steps = [0] + list(reversed([T -1 - i * (T // num_display_steps) for i in range(num_display_steps)]))\n",
    "\n",
    "sampled = einops.rearrange(sampled[:,display_steps], 'b t c h w -> (t h) (b w) c')\n",
    "plt.imshow(sampled.detach().cpu().numpy(), cmap='gray', interpolation='none')"
   ]
  },
  {
   "cell_type": "code",
   "execution_count": 30,
   "metadata": {},
   "outputs": [
    {
     "data": {
      "text/plain": [
       "65"
      ]
     },
     "execution_count": 30,
     "metadata": {},
     "output_type": "execute_result"
    }
   ],
   "source": [
    "T"
   ]
  }
 ],
 "metadata": {
  "kernelspec": {
   "display_name": "gr",
   "language": "python",
   "name": "python3"
  },
  "language_info": {
   "codemirror_mode": {
    "name": "ipython",
    "version": 3
   },
   "file_extension": ".py",
   "mimetype": "text/x-python",
   "name": "python",
   "nbconvert_exporter": "python",
   "pygments_lexer": "ipython3",
   "version": "3.11.9"
  }
 },
 "nbformat": 4,
 "nbformat_minor": 2
}
