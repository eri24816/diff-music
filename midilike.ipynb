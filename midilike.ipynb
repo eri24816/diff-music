{
 "cells": [
  {
   "cell_type": "code",
   "execution_count": 1,
   "metadata": {},
   "outputs": [],
   "source": [
    "%load_ext autoreload\n",
    "%autoreload 2"
   ]
  },
  {
   "cell_type": "code",
   "execution_count": 2,
   "metadata": {},
   "outputs": [
    {
     "name": "stdout",
     "output_type": "stream",
     "text": [
      "PianorollDataset initialized with 5509242 segments from 82613 songs\n"
     ]
    }
   ],
   "source": [
    "import torch\n",
    "\n",
    "import matplotlib.pyplot as plt\n",
    "from diff_music.data.dataset import PianorollDataset\n",
    "\n",
    "from pathlib import Path\n",
    "\n",
    "from diff_music.models.midilike_transformer import MidiLikeTransformer\n",
    "from dataclasses import dataclass\n",
    "\n",
    "@dataclass\n",
    "class TrainingParams:\n",
    "    batch_size: int\n",
    "    learning_rate: float\n",
    "    num_epochs: int\n",
    "    num_workers: int\n",
    "    generate_steps: int\n",
    "    save_steps: int\n",
    "@dataclass\n",
    "class DataParams:\n",
    "    max_tokens: int\n",
    "    path: str\n",
    "\n",
    "training_params = TrainingParams(\n",
    "    batch_size=24,\n",
    "    learning_rate=1e-4,\n",
    "    num_epochs=100,\n",
    "    num_workers=10,\n",
    "    generate_steps=200,\n",
    "    save_steps=10000,\n",
    ")\n",
    "\n",
    "model_params = MidiLikeTransformer.Params(\n",
    "    hidden_dim=512,\n",
    "    num_layers=8,\n",
    "    pitch_range=[21, 109],\n",
    "    max_len=32*8, # 8 bars\n",
    ")\n",
    "\n",
    "data_params = DataParams(\n",
    "    max_tokens=700,\n",
    "    path='W:/piano-ai/pop80k_k'\n",
    ")\n",
    "ds = PianorollDataset(Path(data_params.path), frames_per_beat=8, length=model_params.max_len)\n"
   ]
  },
  {
   "cell_type": "code",
   "execution_count": 3,
   "metadata": {},
   "outputs": [],
   "source": [
    "from torch.utils.data import DataLoader\n",
    "from functools import partial\n",
    "\n",
    "from diff_music.models.midilike_transformer import collate_fn\n",
    "\n",
    "max_tokens = data_params.max_tokens\n",
    "my_collate_fn = partial(collate_fn, max_tokens=max_tokens)\n",
    "dataloader = DataLoader(ds, batch_size=training_params.batch_size, shuffle=True, drop_last=True, collate_fn=my_collate_fn, num_workers=training_params.num_workers, persistent_workers=training_params.num_workers > 0)"
   ]
  },
  {
   "cell_type": "code",
   "execution_count": 4,
   "metadata": {},
   "outputs": [
    {
     "name": "stdout",
     "output_type": "stream",
     "text": [
      "params 25.585626 M\n"
     ]
    }
   ],
   "source": [
    "device = torch.device('cuda')\n",
    "\n",
    "model = MidiLikeTransformer(model_params)\n",
    "model.to(device)\n",
    "\n",
    "print('params', sum(p.numel() for p in model.parameters())/1e6, 'M')\n",
    "\n",
    "optim = torch.optim.Adam(model.parameters(), lr=training_params.learning_rate)"
   ]
  },
  {
   "cell_type": "code",
   "execution_count": 5,
   "metadata": {},
   "outputs": [
    {
     "name": "stderr",
     "output_type": "stream",
     "text": [
      "\u001b[34m\u001b[1mwandb\u001b[0m: Using wandb-core as the SDK backend.  Please refer to https://wandb.me/wandb-core for more information.\n",
      "\u001b[34m\u001b[1mwandb\u001b[0m: Currently logged in as: \u001b[33meri24816\u001b[0m (\u001b[33mtanchihpin0517-team\u001b[0m) to \u001b[32mhttps://api.wandb.ai\u001b[0m. Use \u001b[1m`wandb login --relogin`\u001b[0m to force relogin\n"
     ]
    },
    {
     "data": {
      "text/html": [
       "Tracking run with wandb version 0.19.8"
      ],
      "text/plain": [
       "<IPython.core.display.HTML object>"
      ]
     },
     "metadata": {},
     "output_type": "display_data"
    },
    {
     "data": {
      "text/html": [
       "Run data is saved locally in <code>w:\\piano-ai\\diff_music\\wandb\\run-20250317_003641-20250317_003641</code>"
      ],
      "text/plain": [
       "<IPython.core.display.HTML object>"
      ]
     },
     "metadata": {},
     "output_type": "display_data"
    },
    {
     "data": {
      "text/html": [
       "Syncing run <strong><a href='https://wandb.ai/tanchihpin0517-team/vqpiano/runs/20250317_003641' target=\"_blank\">20250317_003641</a></strong> to <a href='https://wandb.ai/tanchihpin0517-team/vqpiano' target=\"_blank\">Weights & Biases</a> (<a href='https://wandb.me/developer-guide' target=\"_blank\">docs</a>)<br>"
      ],
      "text/plain": [
       "<IPython.core.display.HTML object>"
      ]
     },
     "metadata": {},
     "output_type": "display_data"
    },
    {
     "data": {
      "text/html": [
       " View project at <a href='https://wandb.ai/tanchihpin0517-team/vqpiano' target=\"_blank\">https://wandb.ai/tanchihpin0517-team/vqpiano</a>"
      ],
      "text/plain": [
       "<IPython.core.display.HTML object>"
      ]
     },
     "metadata": {},
     "output_type": "display_data"
    },
    {
     "data": {
      "text/html": [
       " View run at <a href='https://wandb.ai/tanchihpin0517-team/vqpiano/runs/20250317_003641' target=\"_blank\">https://wandb.ai/tanchihpin0517-team/vqpiano/runs/20250317_003641</a>"
      ],
      "text/plain": [
       "<IPython.core.display.HTML object>"
      ]
     },
     "metadata": {},
     "output_type": "display_data"
    }
   ],
   "source": [
    "from datetime import datetime\n",
    "import wandb\n",
    "run = wandb.init(\n",
    "    # Set the project where this run will be logged\n",
    "    project=\"vqpiano\",\n",
    "    group=\"midilike-scratch\",\n",
    "    id=datetime.now().strftime(\"%Y%m%d_%H%M%S\"),\n",
    "    # Track hyperparameters and run metadata\n",
    "    config={\n",
    "        \"data\": data_params,\n",
    "        \"model\": model_params,\n",
    "        \"training\": training_params,\n",
    "    },\n",
    ")\n",
    "step = 0"
   ]
  },
  {
   "cell_type": "code",
   "execution_count": null,
   "metadata": {},
   "outputs": [
    {
     "name": "stderr",
     "output_type": "stream",
     "text": [
      "100%|██████████| 256/256 [00:04<00:00, 57.31it/s]s, loss=3.5, pitch_acc=0.00113, pitch_loss=1.28, token_type_acc=0.286, token_type_loss=0.857]\n",
      "Epoch 0:   0%|          | 187/229551 [01:16<14:59:58,  4.25it/s, loss=2.14, pitch_acc=0.0372, pitch_loss=0.811, token_type_acc=0.841, token_type_loss=0.342]"
     ]
    }
   ],
   "source": [
    "from tqdm import tqdm\n",
    "import torch_util.wandb\n",
    "\n",
    "for epoch in range(training_params.num_epochs):\n",
    "    pbar = tqdm(dataloader, desc=f\"Epoch {epoch}\")\n",
    "    for token, token_type, pos in pbar:\n",
    "        model.train()\n",
    "\n",
    "        token = token.to(device)\n",
    "        token_type = token_type.to(device)\n",
    "        pos = pos.to(device)\n",
    "\n",
    "        loss = model.calculate_loss(token, token_type, pos)\n",
    "        \n",
    "        optim.zero_grad()\n",
    "        loss.total_loss.backward()\n",
    "        optim.step()\n",
    "\n",
    "        pbar.set_postfix(loss=loss.total_loss.item(), pitch_loss=loss.pitch_loss.item(), token_type_loss=loss.token_type_loss.item(), pitch_acc=loss.pitch_acc, token_type_acc=loss.token_type_acc)\n",
    "        wandb.log({\n",
    "            \"loss\": loss.total_loss.item(),\n",
    "            \"pitch_loss\": loss.pitch_loss.item(),\n",
    "            \"token_type_loss\": loss.token_type_loss.item(),\n",
    "            \"pitch_acc\": loss.pitch_acc,\n",
    "            \"token_type_acc\": loss.token_type_acc,\n",
    "            \"velocity_acc\": loss.velocity_acc,\n",
    "            \"velocity_loss\": loss.velocity_loss,\n",
    "        }, step=step)\n",
    "\n",
    "        if (step % training_params.generate_steps == 0):\n",
    "            model.eval()\n",
    "            pr = model.sample_midi(model_params.max_len)\n",
    "            torch_util.wandb.log_midi_as_audio(pr.to_midi(), 'audio', step, soundfont_path=Path(\"./ignore/Essential Keys-sforzando-v9.6.sf2\"))\n",
    "            torch_util.wandb.log_image(pr.to_tensor().t().flip(0), 'pr', step)\n",
    "\n",
    "            torch.cuda.empty_cache()\n",
    "\n",
    "        \n",
    "        step += 1\n",
    "        \n",
    "        if training_params.save_steps > 0 and step % training_params.save_steps == 0:\n",
    "            torch.save(model.state_dict(), Path(wandb.run.dir) / f'{step:06d}.pth')"
   ]
  },
  {
   "cell_type": "code",
   "execution_count": 17,
   "metadata": {},
   "outputs": [
    {
     "data": {
      "text/plain": [
       "3706"
      ]
     },
     "execution_count": 17,
     "metadata": {},
     "output_type": "execute_result"
    }
   ],
   "source": [
    "step"
   ]
  },
  {
   "cell_type": "code",
   "execution_count": 18,
   "metadata": {},
   "outputs": [
    {
     "data": {
      "text/plain": [
       "<wandb.sdk.data_types.audio.Audio at 0x1764ab454f0>"
      ]
     },
     "execution_count": 18,
     "metadata": {},
     "output_type": "execute_result"
    }
   ],
   "source": [
    "\n",
    "torch_util.wandb.log_midi_as_audio(pr.to_midi(), 'audio', step, soundfont_path=Path(\"./ignore/Essential Keys-sforzando-v9.6.sf2\"))\n"
   ]
  },
  {
   "cell_type": "code",
   "execution_count": null,
   "metadata": {},
   "outputs": [
    {
     "name": "stderr",
     "output_type": "stream",
     "text": [
      "100%|██████████| 256/256 [00:05<00:00, 46.86it/s]\n"
     ]
    },
    {
     "data": {
      "text/plain": [
       "<wandb.sdk.data_types.image.Image at 0x176b1e243e0>"
      ]
     },
     "execution_count": 7,
     "metadata": {},
     "output_type": "execute_result"
    }
   ],
   "source": [
    "model.eval()\n",
    "pr = model.sample_midi(model_params.max_len)\n",
    "torch_util.wandb.log_midi_as_audio(pr.to_midi(), 'audio', step, soundfont_path=Path(\"./ignore/Essential Keys-sforzando-v9.6.sf2\"))\n",
    "torch_util.wandb.log_image(pr.to_tensor().t().flip(0), 'pr', step)\n"
   ]
  },
  {
   "cell_type": "code",
   "execution_count": 8,
   "metadata": {},
   "outputs": [
    {
     "data": {
      "text/plain": [
       "548"
      ]
     },
     "execution_count": 8,
     "metadata": {},
     "output_type": "execute_result"
    }
   ],
   "source": [
    "step"
   ]
  },
  {
   "cell_type": "code",
   "execution_count": 10,
   "metadata": {},
   "outputs": [
    {
     "name": "stderr",
     "output_type": "stream",
     "text": [
      "100%|██████████| 256/256 [00:03<00:00, 78.72it/s]\n"
     ]
    }
   ],
   "source": [
    "pr = model.sample_midi(256)"
   ]
  },
  {
   "cell_type": "code",
   "execution_count": null,
   "metadata": {},
   "outputs": [
    {
     "data": {
      "text/plain": [
       "'fluidsynth -R1 -F a.wav ./ignore/Essential Keys-sforzando-v9.6.sf2 sample.mid'"
      ]
     },
     "execution_count": 12,
     "metadata": {},
     "output_type": "execute_result"
    }
   ],
   "source": [
    "from torch_util.os import run_command\n",
    "\n",
    "audio_path = \"a.wav\"\n",
    "# pr.to_midi('sample.mid')\n",
    "f\"fluidsynth -R1 -F {audio_path} ./ignore/Essential Keys-sforzando-v9.6.sf2 sample.mid\""
   ]
  },
  {
   "cell_type": "code",
   "execution_count": null,
   "metadata": {},
   "outputs": [],
   "source": [
    "%load_ext autoreload\n",
    "%autoreload 2"
   ]
  },
  {
   "cell_type": "code",
   "execution_count": null,
   "metadata": {},
   "outputs": [
    {
     "name": "stdout",
     "output_type": "stream",
     "text": [
      "PianorollDataset initialized with 5509242 segments from 82613 songs\n"
     ]
    }
   ],
   "source": [
    "import torch\n",
    "\n",
    "import matplotlib.pyplot as plt\n",
    "from diff_music.data.dataset import PianorollDataset\n",
    "\n",
    "from pathlib import Path\n",
    "\n",
    "from diff_music.models.midilike_transformer import MidiLikeTransformer\n",
    "from dataclasses import dataclass\n",
    "\n",
    "@dataclass\n",
    "class TrainingParams:\n",
    "    batch_size: int\n",
    "    learning_rate: float\n",
    "    num_epochs: int\n",
    "    num_workers: int\n",
    "    generate_steps: int\n",
    "    save_steps: int\n",
    "@dataclass\n",
    "class DataParams:\n",
    "    max_tokens: int\n",
    "    path: str\n",
    "\n",
    "training_params = TrainingParams(\n",
    "    batch_size=24,\n",
    "    learning_rate=1e-4,\n",
    "    num_epochs=100,\n",
    "    num_workers=10,\n",
    "    generate_steps=200,\n",
    "    save_steps=10000,\n",
    ")\n",
    "\n",
    "model_params = MidiLikeTransformer.Params(\n",
    "    hidden_dim=512,\n",
    "    num_layers=8,\n",
    "    pitch_range=[21, 109],\n",
    "    max_len=32*8, # 8 bars\n",
    ")\n",
    "\n",
    "data_params = DataParams(\n",
    "    max_tokens=700,\n",
    "    path='W:/piano-ai/pop80k_k'\n",
    ")\n",
    "ds = PianorollDataset(Path(data_params.path), frames_per_beat=8, length=model_params.max_len)\n"
   ]
  },
  {
   "cell_type": "code",
   "execution_count": null,
   "metadata": {},
   "outputs": [],
   "source": [
    "from torch.utils.data import DataLoader\n",
    "from functools import partial\n",
    "\n",
    "from diff_music.models.midilike_transformer import collate_fn\n",
    "\n",
    "max_tokens = data_params.max_tokens\n",
    "my_collate_fn = partial(collate_fn, max_tokens=max_tokens)\n",
    "dataloader = DataLoader(ds, batch_size=training_params.batch_size, shuffle=True, drop_last=True, collate_fn=my_collate_fn, num_workers=training_params.num_workers, persistent_workers=training_params.num_workers > 0)"
   ]
  },
  {
   "cell_type": "code",
   "execution_count": null,
   "metadata": {},
   "outputs": [
    {
     "name": "stdout",
     "output_type": "stream",
     "text": [
      "params 25.52009 M\n"
     ]
    }
   ],
   "source": [
    "device = torch.device('cuda')\n",
    "\n",
    "model = MidiLikeTransformer(model_params)\n",
    "model.to(device)\n",
    "\n",
    "print('params', sum(p.numel() for p in model.parameters())/1e6, 'M')\n",
    "\n",
    "optim = torch.optim.Adam(model.parameters(), lr=training_params.learning_rate)"
   ]
  },
  {
   "cell_type": "code",
   "execution_count": null,
   "metadata": {},
   "outputs": [
    {
     "name": "stderr",
     "output_type": "stream",
     "text": [
      "\u001b[34m\u001b[1mwandb\u001b[0m: Using wandb-core as the SDK backend.  Please refer to https://wandb.me/wandb-core for more information.\n",
      "\u001b[34m\u001b[1mwandb\u001b[0m: Currently logged in as: \u001b[33meri24816\u001b[0m (\u001b[33mtanchihpin0517-team\u001b[0m) to \u001b[32mhttps://api.wandb.ai\u001b[0m. Use \u001b[1m`wandb login --relogin`\u001b[0m to force relogin\n"
     ]
    },
    {
     "data": {
      "text/html": [
       "Tracking run with wandb version 0.19.8"
      ],
      "text/plain": [
       "<IPython.core.display.HTML object>"
      ]
     },
     "metadata": {},
     "output_type": "display_data"
    },
    {
     "data": {
      "text/html": [
       "Run data is saved locally in <code>w:\\piano-ai\\diff_music\\wandb\\run-20250316_231117-20250316_231116</code>"
      ],
      "text/plain": [
       "<IPython.core.display.HTML object>"
      ]
     },
     "metadata": {},
     "output_type": "display_data"
    },
    {
     "data": {
      "text/html": [
       "Syncing run <strong><a href='https://wandb.ai/tanchihpin0517-team/vqpiano/runs/20250316_231116' target=\"_blank\">20250316_231116</a></strong> to <a href='https://wandb.ai/tanchihpin0517-team/vqpiano' target=\"_blank\">Weights & Biases</a> (<a href='https://wandb.me/developer-guide' target=\"_blank\">docs</a>)<br>"
      ],
      "text/plain": [
       "<IPython.core.display.HTML object>"
      ]
     },
     "metadata": {},
     "output_type": "display_data"
    },
    {
     "data": {
      "text/html": [
       " View project at <a href='https://wandb.ai/tanchihpin0517-team/vqpiano' target=\"_blank\">https://wandb.ai/tanchihpin0517-team/vqpiano</a>"
      ],
      "text/plain": [
       "<IPython.core.display.HTML object>"
      ]
     },
     "metadata": {},
     "output_type": "display_data"
    },
    {
     "data": {
      "text/html": [
       " View run at <a href='https://wandb.ai/tanchihpin0517-team/vqpiano/runs/20250316_231116' target=\"_blank\">https://wandb.ai/tanchihpin0517-team/vqpiano/runs/20250316_231116</a>"
      ],
      "text/plain": [
       "<IPython.core.display.HTML object>"
      ]
     },
     "metadata": {},
     "output_type": "display_data"
    }
   ],
   "source": [
    "from datetime import datetime\n",
    "import wandb\n",
    "run = wandb.init(\n",
    "    # Set the project where this run will be logged\n",
    "    project=\"vqpiano\",\n",
    "    group=\"midilike-scratch\",\n",
    "    id=datetime.now().strftime(\"%Y%m%d_%H%M%S\"),\n",
    "    # Track hyperparameters and run metadata\n",
    "    config={\n",
    "        \"data\": data_params,\n",
    "        \"model\": model_params,\n",
    "        \"training\": training_params,\n",
    "    },\n",
    ")\n",
    "step = 0"
   ]
  },
  {
   "cell_type": "code",
   "execution_count": 21,
   "metadata": {},
   "outputs": [
    {
     "name": "stderr",
     "output_type": "stream",
     "text": [
      "100%|██████████| 256/256 [00:03<00:00, 81.37it/s]6,  7.45it/s, loss=1.92, pitch_acc=0.105, pitch_loss=0.553, token_type_acc=0.883, token_type_loss=0.266]  \n",
      "100%|██████████| 256/256 [00:07<00:00, 36.26it/s]:02,  5.58it/s, loss=1.78, pitch_acc=0.1, pitch_loss=0.519, token_type_acc=0.895, token_type_loss=0.232]   \n",
      "100%|██████████| 256/256 [00:04<00:00, 58.54it/s]:10,  3.54it/s, loss=1.44, pitch_acc=0.0895, pitch_loss=0.4, token_type_acc=0.91, token_type_loss=0.197]   \n",
      "100%|██████████| 256/256 [00:02<00:00, 88.54it/s]38,  7.65it/s, loss=1.83, pitch_acc=0.106, pitch_loss=0.539, token_type_acc=0.901, token_type_loss=0.222]  \n",
      "100%|██████████| 256/256 [00:03<00:00, 76.19it/s]22,  6.73it/s, loss=1.98, pitch_acc=0.142, pitch_loss=0.549, token_type_acc=0.91, token_type_loss=0.221]   \n",
      "100%|██████████| 256/256 [00:03<00:00, 69.91it/s]7:09,  3.08it/s, loss=1.82, pitch_acc=0.111, pitch_loss=0.53, token_type_acc=0.903, token_type_loss=0.223]  \n",
      "100%|██████████| 256/256 [00:03<00:00, 64.24it/s]2:23,  3.83it/s, loss=1.82, pitch_acc=0.13, pitch_loss=0.488, token_type_acc=0.895, token_type_loss=0.24]   \n",
      "100%|██████████| 256/256 [00:03<00:00, 73.79it/s]2:41,  4.03it/s, loss=1.59, pitch_acc=0.104, pitch_loss=0.442, token_type_acc=0.915, token_type_loss=0.197] \n",
      "100%|██████████| 256/256 [00:03<00:00, 77.90it/s]2:58,  4.16it/s, loss=1.4, pitch_acc=0.0926, pitch_loss=0.406, token_type_acc=0.932, token_type_loss=0.167] \n",
      "100%|██████████| 256/256 [00:04<00:00, 57.16it/s]7:13,  1.98it/s, loss=1.49, pitch_acc=0.0881, pitch_loss=0.397, token_type_acc=0.91, token_type_loss=0.21]  \n",
      "100%|██████████| 256/256 [00:08<00:00, 28.96it/s]9:25,  3.61it/s, loss=1.76, pitch_acc=0.111, pitch_loss=0.504, token_type_acc=0.905, token_type_loss=0.223] \n",
      "100%|██████████| 256/256 [00:03<00:00, 68.74it/s]7:57,  3.19it/s, loss=1.47, pitch_acc=0.0877, pitch_loss=0.44, token_type_acc=0.924, token_type_loss=0.172] \n",
      "100%|██████████| 256/256 [00:07<00:00, 32.21it/s]0:17,  2.56it/s, loss=2.06, pitch_acc=0.147, pitch_loss=0.584, token_type_acc=0.89, token_type_loss=0.25]   \n",
      "Epoch 0:   1%|          | 2692/229551 [13:02<18:19:44,  3.44it/s, loss=1.84, pitch_acc=0.122, pitch_loss=0.505, token_type_acc=0.894, token_type_loss=0.244] \n"
     ]
    },
    {
     "ename": "KeyboardInterrupt",
     "evalue": "",
     "output_type": "error",
     "traceback": [
      "\u001b[31m---------------------------------------------------------------------------\u001b[39m",
      "\u001b[31mKeyboardInterrupt\u001b[39m                         Traceback (most recent call last)",
      "\u001b[36mCell\u001b[39m\u001b[36m \u001b[39m\u001b[32mIn[21]\u001b[39m\u001b[32m, line 19\u001b[39m\n\u001b[32m     16\u001b[39m loss.total_loss.backward()\n\u001b[32m     17\u001b[39m optim.step()\n\u001b[32m---> \u001b[39m\u001b[32m19\u001b[39m pbar.set_postfix(loss=\u001b[43mloss\u001b[49m\u001b[43m.\u001b[49m\u001b[43mtotal_loss\u001b[49m\u001b[43m.\u001b[49m\u001b[43mitem\u001b[49m\u001b[43m(\u001b[49m\u001b[43m)\u001b[49m, pitch_loss=loss.pitch_loss.item(), token_type_loss=loss.token_type_loss.item(), pitch_acc=loss.pitch_acc, token_type_acc=loss.token_type_acc)\n\u001b[32m     20\u001b[39m wandb.log({\n\u001b[32m     21\u001b[39m     \u001b[33m\"\u001b[39m\u001b[33mloss\u001b[39m\u001b[33m\"\u001b[39m: loss.total_loss.item(),\n\u001b[32m     22\u001b[39m     \u001b[33m\"\u001b[39m\u001b[33mpitch_loss\u001b[39m\u001b[33m\"\u001b[39m: loss.pitch_loss.item(),\n\u001b[32m   (...)\u001b[39m\u001b[32m     25\u001b[39m     \u001b[33m\"\u001b[39m\u001b[33mtoken_type_acc\u001b[39m\u001b[33m\"\u001b[39m: loss.token_type_acc,\n\u001b[32m     26\u001b[39m }, step=step)\n\u001b[32m     28\u001b[39m \u001b[38;5;28;01mif\u001b[39;00m (step % training_params.generate_steps == \u001b[32m0\u001b[39m):\n",
      "\u001b[31mKeyboardInterrupt\u001b[39m: "
     ]
    }
   ],
   "source": [
    "from tqdm import tqdm\n",
    "import torch_util.wandb\n",
    "\n",
    "for epoch in range(training_params.num_epochs):\n",
    "    pbar = tqdm(dataloader, desc=f\"Epoch {epoch}\")\n",
    "    for token, token_type, pos in pbar:\n",
    "        model.train()\n",
    "\n",
    "        token = token.to(device)\n",
    "        token_type = token_type.to(device)\n",
    "        pos = pos.to(device)\n",
    "\n",
    "        loss = model.calculate_loss(token, token_type, pos)\n",
    "        \n",
    "        optim.zero_grad()\n",
    "        loss.total_loss.backward()\n",
    "        optim.step()\n",
    "\n",
    "        pbar.set_postfix(loss=loss.total_loss.item(), pitch_loss=loss.pitch_loss.item(), token_type_loss=loss.token_type_loss.item(), pitch_acc=loss.pitch_acc, token_type_acc=loss.token_type_acc)\n",
    "        wandb.log({\n",
    "            \"loss\": loss.total_loss.item(),\n",
    "            \"pitch_loss\": loss.pitch_loss.item(),\n",
    "            \"token_type_loss\": loss.token_type_loss.item(),\n",
    "            \"pitch_acc\": loss.pitch_acc,\n",
    "            \"token_type_acc\": loss.token_type_acc,\n",
    "        }, step=step)\n",
    "\n",
    "        if (step % training_params.generate_steps == 0):\n",
    "            model.eval()\n",
    "            pr = model.sample_midi(model_params.max_len)\n",
    "            torch_util.wandb.log_midi_as_audio(pr.to_midi(), 'audio', step, soundfont_path=Path(\"./ignore/Essential Keys-sforzando-v9.6.sf2\"))\n",
    "            torch_util.wandb.log_image(pr.to_tensor().t().flip(0), 'pr', step)\n",
    "\n",
    "            torch.cuda.empty_cache()\n",
    "\n",
    "        \n",
    "        step += 1\n",
    "        \n",
    "        if training_params.save_steps > 0 and step % training_params.save_steps == 0:\n",
    "            torch.save(model.state_dict(), Path(wandb.run.dir) / f'{step:06d}.pth')"
   ]
  },
  {
   "cell_type": "code",
   "execution_count": null,
   "metadata": {},
   "outputs": [],
   "source": [
    "torch.save(model.state_dict(), Path(wandb.run.dir) / f'{step:06d}.pth')"
   ]
  },
  {
   "cell_type": "code",
   "execution_count": null,
   "metadata": {},
   "outputs": [
    {
     "data": {
      "text/plain": [
       "torch.Size([128, 88])"
      ]
     },
     "metadata": {},
     "output_type": "display_data"
    }
   ],
   "source": [
    "pr.to_tensor().shape"
   ]
  },
  {
   "cell_type": "code",
   "execution_count": 20,
   "metadata": {},
   "outputs": [
    {
     "name": "stderr",
     "output_type": "stream",
     "text": [
      "100%|██████████| 256/256 [00:02<00:00, 95.71it/s] \n"
     ]
    },
    {
     "data": {
      "text/plain": [
       "<wandb.sdk.data_types.image.Image at 0x1764ab1ea80>"
      ]
     },
     "execution_count": 20,
     "metadata": {},
     "output_type": "execute_result"
    }
   ],
   "source": [
    "model.eval()\n",
    "pr = model.sample_midi(model_params.max_len)\n",
    "torch_util.wandb.log_midi_as_audio(pr.to_midi(), 'audio', step, soundfont_path=Path(\"./ignore/Essential Keys-sforzando-v9.6.sf2\"))\n",
    "torch_util.wandb.log_image(pr.to_tensor().t().flip(0), 'pr', step)\n"
   ]
  },
  {
   "cell_type": "code",
   "execution_count": 19,
   "metadata": {},
   "outputs": [
    {
     "data": {
      "text/plain": [
       "ticks per beat: 480\n",
       "max tick: 0\n",
       "tempo changes: 1\n",
       "time sig: 0\n",
       "key sig: 0\n",
       "markers: 0\n",
       "lyrics: False\n",
       "instruments: 1"
      ]
     },
     "execution_count": 19,
     "metadata": {},
     "output_type": "execute_result"
    }
   ],
   "source": [
    "pr.to_midi('sample.mid')"
   ]
  },
  {
   "cell_type": "code",
   "execution_count": null,
   "metadata": {},
   "outputs": [
    {
     "data": {
      "text/plain": [
       "tensor([[ 0,  0],\n",
       "        [34, 47],\n",
       "        [51, 61],\n",
       "        [53, 63],\n",
       "        [58, 67],\n",
       "        [ 0,  0],\n",
       "        [ 0,  0],\n",
       "        [ 0,  0],\n",
       "        [ 0,  0],\n",
       "        [41, 50],\n",
       "        [ 0,  0],\n",
       "        [ 0,  0],\n",
       "        [46, 58],\n",
       "        [ 0,  0],\n",
       "        [ 0,  0],\n",
       "        [58, 69],\n",
       "        [ 0,  0],\n",
       "        [ 0,  0],\n",
       "        [ 0,  0],\n",
       "        [ 0,  0],\n",
       "        [41, 55],\n",
       "        [ 0,  0],\n",
       "        [ 0,  0],\n",
       "        [46, 65],\n",
       "        [ 0,  0],\n",
       "        [ 0,  0],\n",
       "        [58, 58],\n",
       "        [65, 75],\n",
       "        [69, 83],\n",
       "        [ 0,  0],\n",
       "        [63, 58],\n",
       "        [ 0,  0],\n",
       "        [ 0,  0],\n",
       "        [ 0,  0],\n",
       "        [41, 53],\n",
       "        [ 0,  0],\n",
       "        [ 0,  0],\n",
       "        [46, 63],\n",
       "        [ 0,  0],\n",
       "        [ 0,  0],\n",
       "        [58, 53],\n",
       "        [65, 79],\n",
       "        [ 0,  0],\n",
       "        [ 0,  0],\n",
       "        [ 0,  0],\n",
       "        [ 0,  0],\n",
       "        [41, 53],\n",
       "        [ 0,  0],\n",
       "        [ 0,  0],\n",
       "        [46, 62],\n",
       "        [ 0,  0],\n",
       "        [ 0,  0],\n",
       "        [34, 49],\n",
       "        [51, 64],\n",
       "        [53, 68],\n",
       "        [58, 76],\n",
       "        [ 0,  0],\n",
       "        [ 0,  0],\n",
       "        [ 0,  0],\n",
       "        [ 0,  0],\n",
       "        [41, 56],\n",
       "        [57, 75],\n",
       "        [ 0,  0],\n",
       "        [ 0,  0],\n",
       "        [46, 66],\n",
       "        [ 0,  0],\n",
       "        [ 0,  0],\n",
       "        [55, 78],\n",
       "        [ 0,  0],\n",
       "        [ 0,  0],\n",
       "        [ 0,  0],\n",
       "        [ 0,  0],\n",
       "        [41, 61],\n",
       "        [53, 67],\n",
       "        [58, 74],\n",
       "        [60, 81],\n",
       "        [ 0,  0],\n",
       "        [ 0,  0],\n",
       "        [46, 62],\n",
       "        [ 0,  0],\n",
       "        [ 0,  0],\n",
       "        [57, 69],\n",
       "        [ 0,  0],\n",
       "        [ 0,  0],\n",
       "        [ 0,  0],\n",
       "        [ 0,  0],\n",
       "        [41, 50],\n",
       "        [53, 45],\n",
       "        [58, 65],\n",
       "        [62, 76],\n",
       "        [ 0,  0],\n",
       "        [ 0,  0],\n",
       "        [46, 62],\n",
       "        [ 0,  0],\n",
       "        [ 0,  0],\n",
       "        [60, 69],\n",
       "        [65, 85],\n",
       "        [ 0,  0],\n",
       "        [ 0,  0],\n",
       "        [ 0,  0],\n",
       "        [ 0,  0],\n",
       "        [41, 59],\n",
       "        [58, 75],\n",
       "        [ 0,  0],\n",
       "        [ 0,  0],\n",
       "        [46, 65],\n",
       "        [ 0,  0],\n",
       "        [ 0,  0],\n",
       "        [34, 54],\n",
       "        [51, 68],\n",
       "        [53, 72],\n",
       "        [58, 82],\n",
       "        [ 0,  0],\n",
       "        [ 0,  0],\n",
       "        [ 0,  0],\n",
       "        [ 0,  0],\n",
       "        [41, 59],\n",
       "        [ 0,  0],\n",
       "        [ 0,  0],\n",
       "        [46, 65],\n",
       "        [ 0,  0],\n",
       "        [ 0,  0],\n",
       "        [58, 74],\n",
       "        [ 0,  0],\n",
       "        [46, 33],\n",
       "        [ 0,  0],\n",
       "        [ 0,  0],\n",
       "        [ 0,  0],\n",
       "        [41, 59],\n",
       "        [ 0,  0],\n",
       "        [ 0,  0],\n",
       "        [46, 64],\n",
       "        [ 0,  0],\n",
       "        [ 0,  0],\n",
       "        [58, 55],\n",
       "        [63, 68],\n",
       "        [65, 80],\n",
       "        [69, 87],\n",
       "        [ 0,  0],\n",
       "        [ 0,  0],\n",
       "        [ 0,  0],\n",
       "        [ 0,  0],\n",
       "        [41, 51],\n",
       "        [ 0,  0],\n",
       "        [ 0,  0],\n",
       "        [46, 62],\n",
       "        [ 0,  0],\n",
       "        [ 0,  0],\n",
       "        [58, 63],\n",
       "        [65, 81],\n",
       "        [ 0,  0],\n",
       "        [ 0,  0],\n",
       "        [ 0,  0],\n",
       "        [ 0,  0],\n",
       "        [41, 59],\n",
       "        [ 0,  0],\n",
       "        [ 0,  0],\n",
       "        [46, 62],\n",
       "        [ 0,  0],\n",
       "        [ 0,  0],\n",
       "        [51, 67],\n",
       "        [53, 69],\n",
       "        [58, 82],\n",
       "        [ 0,  0],\n",
       "        [ 0,  0],\n",
       "        [ 0,  0],\n",
       "        [ 0,  0],\n",
       "        [41, 57],\n",
       "        [53, 51],\n",
       "        [57, 79],\n",
       "        [ 0,  0],\n",
       "        [ 0,  0],\n",
       "        [46, 57],\n",
       "        [ 0,  0],\n",
       "        [ 0,  0],\n",
       "        [55, 78],\n",
       "        [ 0,  0],\n",
       "        [ 0,  0],\n",
       "        [ 0,  0],\n",
       "        [ 0,  0],\n",
       "        [41, 60],\n",
       "        [53, 73],\n",
       "        [58, 74],\n",
       "        [60, 83],\n",
       "        [ 0,  0],\n",
       "        [ 0,  0],\n",
       "        [46, 56],\n",
       "        [ 0,  0],\n",
       "        [ 0,  0],\n",
       "        [57, 73],\n",
       "        [ 0,  0],\n",
       "        [ 0,  0],\n",
       "        [ 0,  0],\n",
       "        [ 0,  0],\n",
       "        [41, 61],\n",
       "        [58, 70],\n",
       "        [62, 82],\n",
       "        [ 0,  0],\n",
       "        [ 0,  0],\n",
       "        [46, 65],\n",
       "        [ 0,  0],\n",
       "        [ 0,  0],\n",
       "        [60, 69],\n",
       "        [65, 85],\n",
       "        [ 0,  0],\n",
       "        [ 0,  0],\n",
       "        [ 0,  0],\n",
       "        [ 0,  0],\n",
       "        [58, 74],\n",
       "        [ 0,  0],\n",
       "        [ 0,  0],\n",
       "        [ 0,  0],\n",
       "        [ 0,  0],\n",
       "        [ 0,  0],\n",
       "        [ 0,  0],\n",
       "        [ 0,  0],\n",
       "        [ 0,  0],\n",
       "        [ 0,  0],\n",
       "        [ 0,  0],\n",
       "        [ 0,  0],\n",
       "        [ 0,  0],\n",
       "        [ 0,  0],\n",
       "        [ 0,  0],\n",
       "        [ 0,  0],\n",
       "        [ 0,  0],\n",
       "        [ 0,  0],\n",
       "        [ 0,  0],\n",
       "        [ 0,  0],\n",
       "        [ 0,  0],\n",
       "        [ 0,  0],\n",
       "        [ 0,  0],\n",
       "        [ 0,  0],\n",
       "        [ 0,  0],\n",
       "        [ 0,  0],\n",
       "        [ 0,  0],\n",
       "        [ 0,  0],\n",
       "        [ 0,  0],\n",
       "        [ 0,  0],\n",
       "        [ 0,  0],\n",
       "        [ 0,  0],\n",
       "        [ 0,  0],\n",
       "        [ 0,  0],\n",
       "        [ 0,  0],\n",
       "        [ 0,  0],\n",
       "        [ 0,  0],\n",
       "        [ 0,  0],\n",
       "        [ 0,  0],\n",
       "        [ 0,  0],\n",
       "        [ 0,  0],\n",
       "        [ 0,  0],\n",
       "        [ 0,  0],\n",
       "        [ 0,  0],\n",
       "        [ 0,  0],\n",
       "        [ 0,  0],\n",
       "        [ 0,  0],\n",
       "        [ 0,  0],\n",
       "        [ 0,  0],\n",
       "        [ 0,  0],\n",
       "        [ 0,  0],\n",
       "        [ 0,  0],\n",
       "        [ 0,  0],\n",
       "        [ 0,  0],\n",
       "        [ 0,  0],\n",
       "        [ 0,  0],\n",
       "        [ 0,  0],\n",
       "        [ 0,  0],\n",
       "        [ 0,  0],\n",
       "        [ 0,  0],\n",
       "        [ 0,  0],\n",
       "        [ 0,  0],\n",
       "        [ 0,  0],\n",
       "        [ 0,  0],\n",
       "        [ 0,  0],\n",
       "        [ 0,  0],\n",
       "        [ 0,  0],\n",
       "        [ 0,  0],\n",
       "        [ 0,  0],\n",
       "        [ 0,  0],\n",
       "        [ 0,  0],\n",
       "        [ 0,  0],\n",
       "        [ 0,  0],\n",
       "        [ 0,  0],\n",
       "        [ 0,  0],\n",
       "        [ 0,  0],\n",
       "        [ 0,  0],\n",
       "        [ 0,  0],\n",
       "        [ 0,  0],\n",
       "        [ 0,  0],\n",
       "        [ 0,  0]], device='cuda:0')"
      ]
     },
     "metadata": {},
     "output_type": "display_data"
    }
   ],
   "source": [
    "token[0]"
   ]
  },
  {
   "cell_type": "code",
   "execution_count": null,
   "metadata": {},
   "outputs": [
    {
     "name": "stderr",
     "output_type": "stream",
     "text": [
      "100%|██████████| 256/256 [00:03<00:00, 78.72it/s]\n"
     ]
    }
   ],
   "source": [
    "pr = model.sample_midi(256)"
   ]
  },
  {
   "cell_type": "code",
   "execution_count": null,
   "metadata": {},
   "outputs": [
    {
     "data": {
      "text/plain": [
       "tensor([[0, 1],\n",
       "        [0, 1],\n",
       "        [0, 1],\n",
       "        [0, 1],\n",
       "        [0, 1],\n",
       "        [0, 1],\n",
       "        [0, 1],\n",
       "        [0, 1],\n",
       "        [0, 0],\n",
       "        [0, 1],\n",
       "        [0, 1],\n",
       "        [0, 1],\n",
       "        [0, 1],\n",
       "        [0, 1],\n",
       "        [0, 1],\n",
       "        [0, 1],\n",
       "        [0, 1],\n",
       "        [0, 1],\n",
       "        [0, 1],\n",
       "        [0, 1],\n",
       "        [0, 0],\n",
       "        [0, 1],\n",
       "        [0, 1],\n",
       "        [0, 1],\n",
       "        [0, 1],\n",
       "        [0, 1],\n",
       "        [0, 1],\n",
       "        [0, 1],\n",
       "        [0, 1],\n",
       "        [0, 1],\n",
       "        [0, 1],\n",
       "        [0, 1]], device='cuda:0')"
      ]
     },
     "metadata": {},
     "output_type": "display_data"
    }
   ],
   "source": [
    "token_type[:,:2]"
   ]
  },
  {
   "cell_type": "code",
   "execution_count": null,
   "metadata": {},
   "outputs": [
    {
     "name": "stdout",
     "output_type": "stream",
     "text": [
      "tensor([[[ 4.0581, -4.0700]],\n",
      "\n",
      "        [[ 4.0581, -4.0700]],\n",
      "\n",
      "        [[ 4.0581, -4.0700]],\n",
      "\n",
      "        [[ 4.0581, -4.0700]],\n",
      "\n",
      "        [[ 4.0581, -4.0700]],\n",
      "\n",
      "        [[ 4.0581, -4.0700]],\n",
      "\n",
      "        [[ 4.0581, -4.0700]],\n",
      "\n",
      "        [[ 4.0581, -4.0700]],\n",
      "\n",
      "        [[ 4.0581, -4.0700]],\n",
      "\n",
      "        [[ 4.0581, -4.0700]],\n",
      "\n",
      "        [[ 4.0581, -4.0700]],\n",
      "\n",
      "        [[ 4.0581, -4.0700]],\n",
      "\n",
      "        [[ 4.0581, -4.0700]],\n",
      "\n",
      "        [[ 4.0581, -4.0700]],\n",
      "\n",
      "        [[ 4.0581, -4.0700]],\n",
      "\n",
      "        [[ 4.0581, -4.0700]],\n",
      "\n",
      "        [[ 4.0581, -4.0700]],\n",
      "\n",
      "        [[ 4.0581, -4.0700]],\n",
      "\n",
      "        [[ 4.0581, -4.0700]],\n",
      "\n",
      "        [[ 4.0581, -4.0700]],\n",
      "\n",
      "        [[ 4.0581, -4.0700]],\n",
      "\n",
      "        [[ 4.0581, -4.0700]],\n",
      "\n",
      "        [[ 4.0581, -4.0700]],\n",
      "\n",
      "        [[ 4.0581, -4.0700]],\n",
      "\n",
      "        [[ 4.0581, -4.0700]],\n",
      "\n",
      "        [[ 4.0581, -4.0700]],\n",
      "\n",
      "        [[ 4.0581, -4.0700]],\n",
      "\n",
      "        [[ 4.0581, -4.0700]],\n",
      "\n",
      "        [[ 4.0581, -4.0700]],\n",
      "\n",
      "        [[ 4.0581, -4.0700]],\n",
      "\n",
      "        [[ 4.0581, -4.0700]],\n",
      "\n",
      "        [[ 4.0581, -4.0700]]], device='cuda:0', grad_fn=<SliceBackward0>) tensor([[1],\n",
      "        [1],\n",
      "        [1],\n",
      "        [1],\n",
      "        [1],\n",
      "        [1],\n",
      "        [1],\n",
      "        [1],\n",
      "        [0],\n",
      "        [1],\n",
      "        [1],\n",
      "        [1],\n",
      "        [1],\n",
      "        [1],\n",
      "        [1],\n",
      "        [1],\n",
      "        [1],\n",
      "        [1],\n",
      "        [1],\n",
      "        [1],\n",
      "        [0],\n",
      "        [1],\n",
      "        [1],\n",
      "        [1],\n",
      "        [1],\n",
      "        [1],\n",
      "        [1],\n",
      "        [1],\n",
      "        [1],\n",
      "        [1],\n",
      "        [1],\n",
      "        [1]], device='cuda:0')\n"
     ]
    }
   ],
   "source": [
    "a = model.calculate_loss(token[:,:2], token_type[:,:2], pos[:,:2])"
   ]
  },
  {
   "cell_type": "code",
   "execution_count": null,
   "metadata": {},
   "outputs": [
    {
     "data": {
      "text/plain": [
       "<matplotlib.image.AxesImage at 0x1fc2a0c47d0>"
      ]
     },
     "metadata": {},
     "output_type": "display_data"
    },
    {
     "data": {
      "image/png": "[encoded data removed]",
      "text/plain": [
       "<Figure size 640x480 with 1 Axes>"
      ]
     },
     "metadata": {},
     "output_type": "display_data"
    }
   ],
   "source": [
    "import einops\n",
    "\n",
    "\n",
    "pe = one_hot_pe # (len, dim)\n",
    "pos = torch.tensor([ # (batch_size, len)\n",
    "    [0,1,2,3,4],\n",
    "    [0,1,1,1,2]\n",
    "])\n",
    "pe_extracted = pe[pos]\n",
    "plt.imshow(pe_extracted[1])"
   ]
  },
  {
   "cell_type": "code",
   "execution_count": null,
   "metadata": {},
   "outputs": [
    {
     "data": {
      "text/plain": [
       "(torch.Size([128, 32]), torch.Size([2, 5]))"
      ]
     },
     "metadata": {},
     "output_type": "display_data"
    }
   ],
   "source": [
    "pe.shape, pos.shape"
   ]
  },
  {
   "cell_type": "code",
   "execution_count": null,
   "metadata": {},
   "outputs": [],
   "source": [
    "from torch.utils.data import DataLoader\n",
    "\n",
    "\n",
    "dataloader = DataLoader(ds, batch_size=10, collate_fn=lambda x: collate_fn(x, max_tokens=model_params.max_tokens))"
   ]
  },
  {
   "cell_type": "code",
   "execution_count": null,
   "metadata": {},
   "outputs": [
    {
     "data": {
      "text/plain": [
       "torch.Size([10, 268, 2])"
      ]
     },
     "metadata": {},
     "output_type": "display_data"
    }
   ],
   "source": [
    "next(iter(dataloader))[0].shape"
   ]
  },
  {
   "cell_type": "code",
   "execution_count": null,
   "metadata": {},
   "outputs": [
    {
     "data": {
      "image/png": "[encoded data removed]",
      "text/plain": [
       "<Figure size 640x480 with 1 Axes>"
      ]
     },
     "metadata": {},
     "output_type": "display_data"
    }
   ],
   "source": [
    "for token, token_type, pos in dataloader:\n",
    "    print(token.shape, token_type.shape, pos.shape)\n",
    "    break"
   ]
  },
  {
   "cell_type": "code",
   "execution_count": null,
   "metadata": {},
   "outputs": [
    {
     "ename": "NameError",
     "evalue": "name 'audio_path' is not defined",
     "output_type": "error",
     "traceback": [
      "\u001b[31m---------------------------------------------------------------------------\u001b[39m",
      "\u001b[31mNameError\u001b[39m                                 Traceback (most recent call last)",
      "\u001b[36mCell\u001b[39m\u001b[36m \u001b[39m\u001b[32mIn[1]\u001b[39m\u001b[32m, line 1\u001b[39m\n\u001b[32m----> \u001b[39m\u001b[32m1\u001b[39m \u001b[33mf\u001b[39m\u001b[33m\"\u001b[39m\u001b[33mfluidsynth -R1 -F \u001b[39m\u001b[38;5;132;01m{\u001b[39;00m\u001b[43maudio_path\u001b[49m\u001b[38;5;132;01m}\u001b[39;00m\u001b[33m \u001b[39m\u001b[38;5;132;01m{\u001b[39;00m\u001b[33m'\u001b[39m\u001b[33m./ignore/Essential Keys-sforzando-v9.6.sf2\u001b[39m\u001b[33m'\u001b[39m\u001b[38;5;132;01m}\u001b[39;00m\u001b[33m \u001b[39m\u001b[38;5;132;01m{\u001b[39;00m\u001b[33m'\u001b[39m\u001b[33msample.mid\u001b[39m\u001b[33m'\u001b[39m\u001b[38;5;132;01m}\u001b[39;00m\u001b[33m\"\u001b[39m\n",
      "\u001b[31mNameError\u001b[39m: name 'audio_path' is not defined"
     ]
    }
   ],
   "source": [
    "f\"fluidsynth -R1 -F {audio_path} {'./ignore/Essential Keys-sforzando-v9.6.sf2'} {'sample.mid'}\""
   ]
  },
  {
   "cell_type": "code",
   "execution_count": 47,
   "metadata": {},
   "outputs": [
    {
     "data": {
      "text/plain": [
       "<matplotlib.image.AxesImage at 0x1fc2a0c47d0>"
      ]
     },
     "execution_count": 47,
     "metadata": {},
     "output_type": "execute_result"
    },
    {
     "data": {
      "image/png": "[encoded data removed]",
      "text/plain": [
       "<Figure size 640x480 with 1 Axes>"
      ]
     },
     "metadata": {},
     "output_type": "display_data"
    }
   ],
   "source": [
    "import einops\n",
    "\n",
    "\n",
    "pe = one_hot_pe # (len, dim)\n",
    "pos = torch.tensor([ # (batch_size, len)\n",
    "    [0,1,2,3,4],\n",
    "    [0,1,1,1,2]\n",
    "])\n",
    "pe_extracted = pe[pos]\n",
    "plt.imshow(pe_extracted[1])"
   ]
  },
  {
   "cell_type": "code",
   "execution_count": 49,
   "metadata": {},
   "outputs": [
    {
     "data": {
      "text/plain": [
       "(torch.Size([128, 32]), torch.Size([2, 5]))"
      ]
     },
     "execution_count": 49,
     "metadata": {},
     "output_type": "execute_result"
    }
   ],
   "source": [
    "pe.shape, pos.shape"
   ]
  },
  {
   "cell_type": "code",
   "execution_count": 59,
   "metadata": {},
   "outputs": [],
   "source": [
    "from torch.utils.data import DataLoader\n",
    "\n",
    "\n",
    "dataloader = DataLoader(ds, batch_size=10, collate_fn=lambda x: collate_fn(x, max_tokens=model_params.max_tokens))"
   ]
  },
  {
   "cell_type": "code",
   "execution_count": 58,
   "metadata": {},
   "outputs": [
    {
     "data": {
      "text/plain": [
       "torch.Size([10, 268, 2])"
      ]
     },
     "execution_count": 58,
     "metadata": {},
     "output_type": "execute_result"
    }
   ],
   "source": [
    "next(iter(dataloader))[0].shape"
   ]
  },
  {
   "cell_type": "code",
   "execution_count": 36,
   "metadata": {},
   "outputs": [
    {
     "data": {
      "image/png": "[encoded data removed]",
      "text/plain": [
       "<Figure size 640x480 with 1 Axes>"
      ]
     },
     "metadata": {},
     "output_type": "display_data"
    }
   ],
   "source": [
    "for token, token_type, pos in dataloader:\n",
    "    print(token.shape, token_type.shape, pos.shape)\n",
    "    break"
   ]
  }
 ],
 "metadata": {
  "kernelspec": {
   "display_name": "13",
   "language": "python",
   "name": "python3"
  },
  "language_info": {
   "codemirror_mode": {
    "name": "ipython",
    "version": 3
   },
   "file_extension": ".py",
   "mimetype": "text/x-python",
   "name": "python",
   "nbconvert_exporter": "python",
   "pygments_lexer": "ipython3",
   "version": "3.13.2"
  }
 },
 "nbformat": 4,
 "nbformat_minor": 2
}
