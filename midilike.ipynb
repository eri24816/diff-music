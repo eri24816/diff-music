{
 "cells": [
  {
   "cell_type": "code",
   "execution_count": 1,
   "metadata": {},
   "outputs": [],
   "source": [
    "%load_ext autoreload\n",
    "%autoreload 2"
   ]
  },
  {
   "cell_type": "code",
   "execution_count": 2,
   "metadata": {},
   "outputs": [
    {
     "name": "stdout",
     "output_type": "stream",
     "text": [
      "PianorollDataset initialized with 5509242 segments from 82613 songs\n"
     ]
    }
   ],
   "source": [
    "import torch\n",
    "\n",
    "import matplotlib.pyplot as plt\n",
    "from diff_music.data.dataset import PianorollDataset\n",
    "\n",
    "from pathlib import Path\n",
    "\n",
    "from diff_music.models.midilike_transformer import MidiLikeTransformer\n",
    "from dataclasses import dataclass\n",
    "\n",
    "@dataclass\n",
    "class TrainingParams:\n",
    "    batch_size: int\n",
    "    learning_rate: float\n",
    "    num_epochs: int\n",
    "    num_workers: int\n",
    "    generate_steps: int\n",
    "    save_steps: int\n",
    "@dataclass\n",
    "class DataParams:\n",
    "    max_tokens: int\n",
    "    path: str\n",
    "\n",
    "training_params = TrainingParams(\n",
    "    batch_size=24,\n",
    "    learning_rate=1e-4,\n",
    "    num_epochs=100,\n",
    "    num_workers=10,\n",
    "    generate_steps=200,\n",
    "    save_steps=10000,\n",
    ")\n",
    "\n",
    "model_params = MidiLikeTransformer.Params(\n",
    "    hidden_dim=512,\n",
    "    num_layers=8,\n",
    "    pitch_range=[21, 109],\n",
    "    max_len=32*8, # 8 bars\n",
    ")\n",
    "\n",
    "data_params = DataParams(\n",
    "    max_tokens=700,\n",
    "    path='W:/piano-ai/pop80k_k'\n",
    ")\n",
    "ds = PianorollDataset(Path(data_params.path), frames_per_beat=8, length=model_params.max_len)\n"
   ]
  },
  {
   "cell_type": "code",
   "execution_count": 3,
   "metadata": {},
   "outputs": [],
   "source": [
    "from torch.utils.data import DataLoader\n",
    "from functools import partial\n",
    "\n",
    "from diff_music.models.midilike_transformer import collate_fn\n",
    "\n",
    "max_tokens = data_params.max_tokens\n",
    "my_collate_fn = partial(collate_fn, max_tokens=max_tokens)\n",
    "dataloader = DataLoader(ds, batch_size=training_params.batch_size, shuffle=True, drop_last=True, collate_fn=my_collate_fn, num_workers=training_params.num_workers, persistent_workers=training_params.num_workers > 0)"
   ]
  },
  {
   "cell_type": "code",
   "execution_count": 4,
   "metadata": {},
   "outputs": [
    {
     "name": "stdout",
     "output_type": "stream",
     "text": [
      "params 25.585626 M\n"
     ]
    }
   ],
   "source": [
    "device = torch.device('cuda')\n",
    "\n",
    "model = MidiLikeTransformer(model_params)\n",
    "model.to(device)\n",
    "\n",
    "print('params', sum(p.numel() for p in model.parameters())/1e6, 'M')\n",
    "\n",
    "optim = torch.optim.Adam(model.parameters(), lr=training_params.learning_rate)"
   ]
  },
  {
   "cell_type": "code",
   "execution_count": 5,
   "metadata": {},
   "outputs": [
    {
     "name": "stderr",
     "output_type": "stream",
     "text": [
      "\u001b[34m\u001b[1mwandb\u001b[0m: Using wandb-core as the SDK backend.  Please refer to https://wandb.me/wandb-core for more information.\n",
      "\u001b[34m\u001b[1mwandb\u001b[0m: Currently logged in as: \u001b[33meri24816\u001b[0m (\u001b[33mtanchihpin0517-team\u001b[0m) to \u001b[32mhttps://api.wandb.ai\u001b[0m. Use \u001b[1m`wandb login --relogin`\u001b[0m to force relogin\n"
     ]
    },
    {
     "data": {
      "text/html": [
       "Tracking run with wandb version 0.19.8"
      ],
      "text/plain": [
       "<IPython.core.display.HTML object>"
      ]
     },
     "metadata": {},
     "output_type": "display_data"
    },
    {
     "data": {
      "text/html": [
       "Run data is saved locally in <code>w:\\piano-ai\\diff_music\\wandb\\run-20250317_145030-20250317_145030</code>"
      ],
      "text/plain": [
       "<IPython.core.display.HTML object>"
      ]
     },
     "metadata": {},
     "output_type": "display_data"
    },
    {
     "data": {
      "text/html": [
       "Syncing run <strong><a href='https://wandb.ai/tanchihpin0517-team/vqpiano/runs/20250317_145030' target=\"_blank\">20250317_145030</a></strong> to <a href='https://wandb.ai/tanchihpin0517-team/vqpiano' target=\"_blank\">Weights & Biases</a> (<a href='https://wandb.me/developer-guide' target=\"_blank\">docs</a>)<br>"
      ],
      "text/plain": [
       "<IPython.core.display.HTML object>"
      ]
     },
     "metadata": {},
     "output_type": "display_data"
    },
    {
     "data": {
      "text/html": [
       " View project at <a href='https://wandb.ai/tanchihpin0517-team/vqpiano' target=\"_blank\">https://wandb.ai/tanchihpin0517-team/vqpiano</a>"
      ],
      "text/plain": [
       "<IPython.core.display.HTML object>"
      ]
     },
     "metadata": {},
     "output_type": "display_data"
    },
    {
     "data": {
      "text/html": [
       " View run at <a href='https://wandb.ai/tanchihpin0517-team/vqpiano/runs/20250317_145030' target=\"_blank\">https://wandb.ai/tanchihpin0517-team/vqpiano/runs/20250317_145030</a>"
      ],
      "text/plain": [
       "<IPython.core.display.HTML object>"
      ]
     },
     "metadata": {},
     "output_type": "display_data"
    }
   ],
   "source": [
    "from datetime import datetime\n",
    "import wandb\n",
    "run = wandb.init(\n",
    "    # Set the project where this run will be logged\n",
    "    project=\"vqpiano\",\n",
    "    group=\"midilike-scratch\",\n",
    "    id=datetime.now().strftime(\"%Y%m%d_%H%M%S\"),\n",
    "    # Track hyperparameters and run metadata\n",
    "    config={\n",
    "        \"data\": data_params,\n",
    "        \"model\": model_params,\n",
    "        \"training\": training_params,\n",
    "    },\n",
    ")\n",
    "model.load_state_dict(torch.load('wandb/run-20250317_003641-20250317_003641/files/110000.pth'))\n",
    "step = 110000"
   ]
  },
  {
   "cell_type": "code",
   "execution_count": 6,
   "metadata": {},
   "outputs": [
    {
     "name": "stderr",
     "output_type": "stream",
     "text": [
      "100%|██████████| 256/256 [00:04<00:00, 57.31it/s]s, loss=3.5, pitch_acc=0.00113, pitch_loss=1.28, token_type_acc=0.286, token_type_loss=0.857]\n",
      "100%|██████████| 256/256 [00:02<00:00, 91.36it/s] 44,  5.20it/s, loss=2.43, pitch_acc=0.0386, pitch_loss=0.931, token_type_acc=0.827, token_type_loss=0.373]\n",
      "100%|██████████| 256/256 [00:05<00:00, 49.60it/s]:35,  5.48it/s, loss=2.3, pitch_acc=0.0626, pitch_loss=0.86, token_type_acc=0.842, token_type_loss=0.342]  \n",
      "100%|██████████| 256/256 [00:07<00:00, 35.06it/s]58,  6.36it/s, loss=2.15, pitch_acc=0.061, pitch_loss=0.772, token_type_acc=0.849, token_type_loss=0.33]    \n",
      "100%|██████████| 256/256 [00:06<00:00, 41.30it/s]:50,  2.58it/s, loss=1.97, pitch_acc=0.0718, pitch_loss=0.69, token_type_acc=0.871, token_type_loss=0.287]  \n",
      "100%|██████████| 256/256 [00:02<00:00, 89.66it/s] :57,  2.84it/s, loss=2.15, pitch_acc=0.0865, pitch_loss=0.738, token_type_acc=0.837, token_type_loss=0.339]\n",
      "100%|██████████| 256/256 [00:06<00:00, 39.79it/s]1:45,  2.04it/s, loss=1.9, pitch_acc=0.0723, pitch_loss=0.659, token_type_acc=0.884, token_type_loss=0.265]  \n",
      "100%|██████████| 256/256 [00:07<00:00, 36.04it/s]8:19,  5.45it/s, loss=1.79, pitch_acc=0.0855, pitch_loss=0.588, token_type_acc=0.884, token_type_loss=0.256] \n",
      "100%|██████████| 256/256 [00:03<00:00, 71.39it/s]4:09,  2.32it/s, loss=1.67, pitch_acc=0.0672, pitch_loss=0.592, token_type_acc=0.9, token_type_loss=0.235]   \n",
      "100%|██████████| 256/256 [00:16<00:00, 15.79it/s]9:23,  2.73it/s, loss=1.91, pitch_acc=0.0802, pitch_loss=0.646, token_type_acc=0.872, token_type_loss=0.286] \n",
      "100%|██████████| 256/256 [00:06<00:00, 38.75it/s]5:09,  1.68it/s, loss=1.81, pitch_acc=0.0915, pitch_loss=0.584, token_type_acc=0.885, token_type_loss=0.254] \n",
      "100%|██████████| 256/256 [00:05<00:00, 47.10it/s]5:30,  1.55it/s, loss=1.79, pitch_acc=0.0703, pitch_loss=0.622, token_type_acc=0.885, token_type_loss=0.255] \n",
      "100%|██████████| 256/256 [00:05<00:00, 46.61it/s]3:21,  3.89it/s, loss=1.73, pitch_acc=0.0832, pitch_loss=0.571, token_type_acc=0.89, token_type_loss=0.236]  \n",
      "100%|██████████| 256/256 [00:06<00:00, 41.89it/s]3:13,  1.11it/s, loss=1.8, pitch_acc=0.0994, pitch_loss=0.595, token_type_acc=0.888, token_type_loss=0.249]  \n",
      "100%|██████████| 256/256 [00:06<00:00, 39.32it/s]0:29,  1.08it/s, loss=1.62, pitch_acc=0.0889, pitch_loss=0.526, token_type_acc=0.911, token_type_loss=0.209] \n",
      "100%|██████████| 256/256 [00:07<00:00, 33.25it/s]0:12,  3.70it/s, loss=1.62, pitch_acc=0.0813, pitch_loss=0.553, token_type_acc=0.903, token_type_loss=0.217] \n",
      "100%|██████████| 256/256 [00:04<00:00, 54.27it/s]5:15,  2.43it/s, loss=1.48, pitch_acc=0.0793, pitch_loss=0.48, token_type_acc=0.907, token_type_loss=0.211]  \n",
      "100%|██████████| 256/256 [00:05<00:00, 48.96it/s]1:29,  3.84it/s, loss=1.4, pitch_acc=0.0925, pitch_loss=0.433, token_type_acc=0.924, token_type_loss=0.178]  \n",
      "100%|██████████| 256/256 [00:05<00:00, 42.67it/s]1:14,  5.45it/s, loss=1.48, pitch_acc=0.11, pitch_loss=0.445, token_type_acc=0.917, token_type_loss=0.194]   \n",
      "100%|██████████| 256/256 [00:05<00:00, 42.75it/s]6:12,  1.49s/it, loss=1.94, pitch_acc=0.106, pitch_loss=0.637, token_type_acc=0.877, token_type_loss=0.276]  \n",
      "100%|██████████| 256/256 [00:07<00:00, 35.79it/s]0:03,  3.55it/s, loss=1.46, pitch_acc=0.0992, pitch_loss=0.467, token_type_acc=0.923, token_type_loss=0.181]\n",
      "100%|██████████| 256/256 [00:05<00:00, 45.13it/s]3:28,  3.60it/s, loss=1.7, pitch_acc=0.125, pitch_loss=0.512, token_type_acc=0.891, token_type_loss=0.246]   \n",
      "100%|██████████| 256/256 [00:03<00:00, 69.82it/s]:37,  7.97it/s, loss=1.39, pitch_acc=0.0822, pitch_loss=0.436, token_type_acc=0.907, token_type_loss=0.212] \n",
      "100%|██████████| 256/256 [00:05<00:00, 44.99it/s]3:33,  1.70it/s, loss=1.82, pitch_acc=0.134, pitch_loss=0.559, token_type_acc=0.908, token_type_loss=0.215] \n",
      "100%|██████████| 256/256 [00:11<00:00, 22.97it/s]4:51,  2.39it/s, loss=1.77, pitch_acc=0.147, pitch_loss=0.513, token_type_acc=0.909, token_type_loss=0.216]  \n",
      "100%|██████████| 256/256 [00:05<00:00, 46.12it/s]5:19,  5.16it/s, loss=1.78, pitch_acc=0.127, pitch_loss=0.543, token_type_acc=0.911, token_type_loss=0.213]  \n",
      "100%|██████████| 256/256 [00:09<00:00, 25.68it/s]0:41,  2.11it/s, loss=1.5, pitch_acc=0.0926, pitch_loss=0.483, token_type_acc=0.916, token_type_loss=0.195]  \n",
      "100%|██████████| 256/256 [00:08<00:00, 30.91it/s]9:58,  3.97it/s, loss=1.79, pitch_acc=0.128, pitch_loss=0.551, token_type_acc=0.899, token_type_loss=0.232]  \n",
      "100%|██████████| 256/256 [00:09<00:00, 28.26it/s]9:03,  4.67it/s, loss=1.73, pitch_acc=0.119, pitch_loss=0.521, token_type_acc=0.897, token_type_loss=0.227] \n",
      "100%|██████████| 256/256 [00:06<00:00, 42.35it/s]5:57,  2.40it/s, loss=1.83, pitch_acc=0.14, pitch_loss=0.561, token_type_acc=0.911, token_type_loss=0.213]  \n",
      "100%|██████████| 256/256 [00:04<00:00, 56.34it/s]3:03,  5.98it/s, loss=1.56, pitch_acc=0.113, pitch_loss=0.486, token_type_acc=0.918, token_type_loss=0.192]  \n",
      "100%|██████████| 256/256 [00:05<00:00, 44.29it/s]1:29,  3.87it/s, loss=1.77, pitch_acc=0.132, pitch_loss=0.524, token_type_acc=0.903, token_type_loss=0.22]  \n",
      "100%|██████████| 256/256 [00:06<00:00, 38.97it/s]:43,  6.93it/s, loss=1.35, pitch_acc=0.0933, pitch_loss=0.418, token_type_acc=0.93, token_type_loss=0.168]  \n",
      "100%|██████████| 256/256 [00:06<00:00, 41.24it/s]9:06,  3.87it/s, loss=1.62, pitch_acc=0.114, pitch_loss=0.506, token_type_acc=0.91, token_type_loss=0.206]   \n",
      "100%|██████████| 256/256 [00:05<00:00, 44.48it/s]1:18,  1.39it/s, loss=1.91, pitch_acc=0.143, pitch_loss=0.577, token_type_acc=0.904, token_type_loss=0.229] \n",
      "100%|██████████| 256/256 [00:04<00:00, 55.58it/s]2:07,  3.63it/s, loss=1.53, pitch_acc=0.117, pitch_loss=0.452, token_type_acc=0.923, token_type_loss=0.182] \n",
      "100%|██████████| 256/256 [00:05<00:00, 46.93it/s]8:03,  5.81it/s, loss=1.86, pitch_acc=0.146, pitch_loss=0.565, token_type_acc=0.908, token_type_loss=0.216] \n",
      "100%|██████████| 256/256 [00:04<00:00, 57.74it/s]0:38,  1.03it/s, loss=1.72, pitch_acc=0.126, pitch_loss=0.519, token_type_acc=0.905, token_type_loss=0.222]  \n",
      "100%|██████████| 256/256 [00:06<00:00, 41.23it/s]0:13,  1.64it/s, loss=1.77, pitch_acc=0.125, pitch_loss=0.545, token_type_acc=0.908, token_type_loss=0.221] \n",
      "100%|██████████| 256/256 [00:06<00:00, 40.58it/s]3:30,  1.66it/s, loss=1.76, pitch_acc=0.122, pitch_loss=0.54, token_type_acc=0.896, token_type_loss=0.24]   \n",
      "100%|██████████| 256/256 [00:05<00:00, 46.48it/s]:29:21,  4.25it/s, loss=1.61, pitch_acc=0.121, pitch_loss=0.481, token_type_acc=0.915, token_type_loss=0.201] \n",
      "100%|██████████| 256/256 [00:06<00:00, 41.28it/s]:14:50,  1.53it/s, loss=1.72, pitch_acc=0.117, pitch_loss=0.519, token_type_acc=0.893, token_type_loss=0.253] \n",
      "100%|██████████| 256/256 [00:07<00:00, 33.72it/s]:14:35,  4.31it/s, loss=1.57, pitch_acc=0.135, pitch_loss=0.444, token_type_acc=0.914, token_type_loss=0.198] \n",
      "100%|██████████| 256/256 [00:05<00:00, 44.44it/s]:49:44,  2.13it/s, loss=1.75, pitch_acc=0.143, pitch_loss=0.515, token_type_acc=0.909, token_type_loss=0.217]  \n",
      "100%|██████████| 256/256 [00:06<00:00, 38.17it/s]:40:03,  2.97it/s, loss=1.56, pitch_acc=0.129, pitch_loss=0.461, token_type_acc=0.915, token_type_loss=0.192] \n",
      "100%|██████████| 256/256 [00:09<00:00, 28.00it/s]:16:46,  1.84it/s, loss=1.55, pitch_acc=0.132, pitch_loss=0.456, token_type_acc=0.924, token_type_loss=0.186] \n",
      "100%|██████████| 256/256 [00:08<00:00, 29.69it/s]:54:26,  5.14it/s, loss=1.81, pitch_acc=0.155, pitch_loss=0.527, token_type_acc=0.913, token_type_loss=0.211] \n",
      "100%|██████████| 256/256 [00:07<00:00, 34.29it/s]:02:25,  4.07it/s, loss=1.55, pitch_acc=0.117, pitch_loss=0.467, token_type_acc=0.916, token_type_loss=0.199] \n",
      "100%|██████████| 256/256 [00:05<00:00, 43.19it/s]:58:24,  1.02it/s, loss=1.85, pitch_acc=0.145, pitch_loss=0.547, token_type_acc=0.905, token_type_loss=0.233]  \n",
      "100%|██████████| 256/256 [00:08<00:00, 30.10it/s]:01:37,  2.54it/s, loss=1.47, pitch_acc=0.116, pitch_loss=0.44, token_type_acc=0.924, token_type_loss=0.185]  \n",
      "100%|██████████| 256/256 [00:06<00:00, 41.56it/s]4:35:47,  2.48it/s, loss=1.35, pitch_acc=0.106, pitch_loss=0.392, token_type_acc=0.922, token_type_loss=0.18] \n",
      "100%|██████████| 256/256 [00:05<00:00, 48.02it/s]1:10:45,  5.45it/s, loss=1.58, pitch_acc=0.133, pitch_loss=0.463, token_type_acc=0.918, token_type_loss=0.195] \n",
      "100%|██████████| 256/256 [00:07<00:00, 32.19it/s]9:07:01,  3.18it/s, loss=1.94, pitch_acc=0.132, pitch_loss=0.587, token_type_acc=0.881, token_type_loss=0.266] \n",
      "100%|██████████| 256/256 [00:06<00:00, 36.67it/s]7:49:38,  3.41it/s, loss=1.6, pitch_acc=0.128, pitch_loss=0.469, token_type_acc=0.918, token_type_loss=0.198]  \n",
      "100%|██████████| 256/256 [00:04<00:00, 51.55it/s]3:07:56,  1.41it/s, loss=1.78, pitch_acc=0.143, pitch_loss=0.534, token_type_acc=0.91, token_type_loss=0.215]  \n",
      "100%|██████████| 256/256 [00:06<00:00, 38.27it/s]6:08:24,  2.32it/s, loss=1.39, pitch_acc=0.103, pitch_loss=0.405, token_type_acc=0.918, token_type_loss=0.186] \n",
      "100%|██████████| 256/256 [00:07<00:00, 35.89it/s]5:52:20,  2.34it/s, loss=1.39, pitch_acc=0.108, pitch_loss=0.408, token_type_acc=0.925, token_type_loss=0.179] \n",
      "100%|██████████| 256/256 [00:06<00:00, 41.52it/s]5:51:05,  3.82it/s, loss=1.58, pitch_acc=0.121, pitch_loss=0.477, token_type_acc=0.919, token_type_loss=0.194] \n",
      "100%|██████████| 256/256 [00:10<00:00, 24.95it/s]3:37:03,  2.56it/s, loss=1.39, pitch_acc=0.131, pitch_loss=0.385, token_type_acc=0.922, token_type_loss=0.18]  \n",
      "100%|██████████| 256/256 [00:06<00:00, 37.08it/s]8:39:11,  1.03it/s, loss=1.42, pitch_acc=0.136, pitch_loss=0.4, token_type_acc=0.931, token_type_loss=0.165]   \n",
      "100%|██████████| 256/256 [00:07<00:00, 34.95it/s]4:45:38,  4.09it/s, loss=1.7, pitch_acc=0.131, pitch_loss=0.514, token_type_acc=0.908, token_type_loss=0.214]  \n",
      "100%|██████████| 256/256 [00:07<00:00, 36.24it/s]4:00:54,  4.31it/s, loss=1.39, pitch_acc=0.122, pitch_loss=0.393, token_type_acc=0.928, token_type_loss=0.167] \n",
      "100%|██████████| 256/256 [00:07<00:00, 36.08it/s]0:42:02,  2.91it/s, loss=1.63, pitch_acc=0.13, pitch_loss=0.468, token_type_acc=0.896, token_type_loss=0.24]   \n",
      "100%|██████████| 256/256 [00:04<00:00, 52.14it/s]4:17:35,  4.22it/s, loss=1.7, pitch_acc=0.15, pitch_loss=0.478, token_type_acc=0.897, token_type_loss=0.24]    \n",
      "100%|██████████| 256/256 [00:06<00:00, 37.82it/s]3:12:35,  4.56it/s, loss=1.68, pitch_acc=0.128, pitch_loss=0.505, token_type_acc=0.917, token_type_loss=0.204] \n",
      "100%|██████████| 256/256 [00:08<00:00, 29.90it/s]8:14:21,  1.57it/s, loss=1.48, pitch_acc=0.108, pitch_loss=0.459, token_type_acc=0.921, token_type_loss=0.182] \n",
      "100%|██████████| 256/256 [00:06<00:00, 40.23it/s]7:31:24,  1.60it/s, loss=1.53, pitch_acc=0.129, pitch_loss=0.437, token_type_acc=0.919, token_type_loss=0.195] \n",
      "100%|██████████| 256/256 [00:06<00:00, 40.38it/s]8:33:41,  1.56it/s, loss=1.74, pitch_acc=0.135, pitch_loss=0.515, token_type_acc=0.911, token_type_loss=0.213]  \n",
      "100%|██████████| 256/256 [00:05<00:00, 46.02it/s]8:53:43,  2.08it/s, loss=1.65, pitch_acc=0.138, pitch_loss=0.472, token_type_acc=0.904, token_type_loss=0.225]  \n",
      "100%|██████████| 256/256 [00:06<00:00, 38.68it/s]2:26:24,  1.41it/s, loss=1.8, pitch_acc=0.146, pitch_loss=0.524, token_type_acc=0.904, token_type_loss=0.227]  \n",
      "100%|██████████| 256/256 [00:10<00:00, 25.34it/s]3:41:00,  2.53it/s, loss=1.62, pitch_acc=0.124, pitch_loss=0.484, token_type_acc=0.915, token_type_loss=0.198] \n",
      "100%|██████████| 256/256 [00:07<00:00, 33.81it/s]8:56:29,  2.07it/s, loss=1.66, pitch_acc=0.121, pitch_loss=0.497, token_type_acc=0.911, token_type_loss=0.212] \n",
      "100%|██████████| 256/256 [00:06<00:00, 39.02it/s]0:11:19,  1.98it/s, loss=1.48, pitch_acc=0.117, pitch_loss=0.44, token_type_acc=0.922, token_type_loss=0.183]  \n",
      "100%|██████████| 256/256 [00:05<00:00, 46.38it/s]2:15:03,  2.68it/s, loss=1.3, pitch_acc=0.103, pitch_loss=0.381, token_type_acc=0.93, token_type_loss=0.167]   \n",
      "100%|██████████| 256/256 [00:06<00:00, 38.99it/s]3:47:53,  1.36it/s, loss=1.49, pitch_acc=0.133, pitch_loss=0.421, token_type_acc=0.927, token_type_loss=0.178] \n",
      "100%|██████████| 256/256 [00:04<00:00, 57.54it/s]4:16:13,  1.58s/it, loss=1.56, pitch_acc=0.136, pitch_loss=0.452, token_type_acc=0.916, token_type_loss=0.197]  \n",
      "100%|██████████| 256/256 [00:06<00:00, 36.94it/s]6:49:40,  3.54it/s, loss=1.39, pitch_acc=0.119, pitch_loss=0.403, token_type_acc=0.93, token_type_loss=0.168]  \n",
      "100%|██████████| 256/256 [00:05<00:00, 44.97it/s]3:00:31,  2.59it/s, loss=1.35, pitch_acc=0.129, pitch_loss=0.37, token_type_acc=0.928, token_type_loss=0.177]  \n",
      "100%|██████████| 256/256 [00:06<00:00, 39.04it/s]4:27:20,  4.11it/s, loss=1.64, pitch_acc=0.139, pitch_loss=0.474, token_type_acc=0.914, token_type_loss=0.199] \n",
      "100%|██████████| 256/256 [00:07<00:00, 35.65it/s]9:25:06,  3.06it/s, loss=1.53, pitch_acc=0.13, pitch_loss=0.455, token_type_acc=0.932, token_type_loss=0.168]  \n",
      "100%|██████████| 256/256 [00:04<00:00, 63.00it/s]1:14:10,  1.44it/s, loss=1.28, pitch_acc=0.109, pitch_loss=0.371, token_type_acc=0.936, token_type_loss=0.152] \n",
      "100%|██████████| 256/256 [00:06<00:00, 40.77it/s]3:00:07,  4.56it/s, loss=1.58, pitch_acc=0.133, pitch_loss=0.446, token_type_acc=0.912, token_type_loss=0.205] \n",
      "100%|██████████| 256/256 [00:06<00:00, 37.65it/s]0:51:04,  5.46it/s, loss=1.79, pitch_acc=0.162, pitch_loss=0.496, token_type_acc=0.901, token_type_loss=0.234] \n",
      "100%|██████████| 256/256 [00:06<00:00, 40.25it/s]7:46:57,  3.33it/s, loss=1.61, pitch_acc=0.147, pitch_loss=0.447, token_type_acc=0.917, token_type_loss=0.201] \n",
      "100%|██████████| 256/256 [00:06<00:00, 38.32it/s]0:26:03,  5.66it/s, loss=1.24, pitch_acc=0.105, pitch_loss=0.355, token_type_acc=0.935, token_type_loss=0.156] \n",
      "100%|██████████| 256/256 [00:07<00:00, 35.35it/s]5:45:55,  3.75it/s, loss=1.43, pitch_acc=0.112, pitch_loss=0.423, token_type_acc=0.926, token_type_loss=0.182] \n",
      "100%|██████████| 256/256 [00:06<00:00, 36.89it/s]9:59:03,  2.95it/s, loss=1.76, pitch_acc=0.135, pitch_loss=0.519, token_type_acc=0.904, token_type_loss=0.23]  \n",
      "100%|██████████| 256/256 [00:09<00:00, 27.26it/s]9:26:33,  3.03it/s, loss=1.22, pitch_acc=0.0953, pitch_loss=0.365, token_type_acc=0.935, token_type_loss=0.15] \n",
      "100%|██████████| 256/256 [00:07<00:00, 35.65it/s]0:55:53,  5.39it/s, loss=1.66, pitch_acc=0.147, pitch_loss=0.471, token_type_acc=0.92, token_type_loss=0.192]  \n",
      "100%|██████████| 256/256 [00:07<00:00, 34.11it/s]4:32:15,  1.08it/s, loss=1.59, pitch_acc=0.135, pitch_loss=0.443, token_type_acc=0.912, token_type_loss=0.207] \n",
      "100%|██████████| 256/256 [00:06<00:00, 41.94it/s]4:22:09,  1.71it/s, loss=1.41, pitch_acc=0.115, pitch_loss=0.399, token_type_acc=0.917, token_type_loss=0.192] \n",
      "100%|██████████| 256/256 [00:04<00:00, 56.66it/s]1:28:44,  1.22s/it, loss=1.25, pitch_acc=0.103, pitch_loss=0.372, token_type_acc=0.934, token_type_loss=0.158] \n",
      "100%|██████████| 256/256 [00:08<00:00, 29.38it/s]7:14:53,  2.15it/s, loss=1.41, pitch_acc=0.124, pitch_loss=0.394, token_type_acc=0.917, token_type_loss=0.192] \n",
      "100%|██████████| 256/256 [00:10<00:00, 23.90it/s]3:44:27,  4.26it/s, loss=1.59, pitch_acc=0.142, pitch_loss=0.456, token_type_acc=0.914, token_type_loss=0.2]   \n",
      "100%|██████████| 256/256 [00:07<00:00, 32.56it/s]8:15:28,  3.21it/s, loss=1.12, pitch_acc=0.0985, pitch_loss=0.311, token_type_acc=0.936, token_type_loss=0.148]\n",
      "100%|██████████| 256/256 [00:05<00:00, 44.65it/s]2:18:25,  4.75it/s, loss=1.58, pitch_acc=0.132, pitch_loss=0.454, token_type_acc=0.915, token_type_loss=0.197]  \n",
      "100%|██████████| 256/256 [00:07<00:00, 33.43it/s]0:28:36,  5.58it/s, loss=1.64, pitch_acc=0.156, pitch_loss=0.455, token_type_acc=0.913, token_type_loss=0.2]   \n",
      "100%|██████████| 256/256 [00:05<00:00, 47.88it/s]2:46:05,  2.56it/s, loss=1.58, pitch_acc=0.159, pitch_loss=0.436, token_type_acc=0.932, token_type_loss=0.162] \n",
      "100%|██████████| 256/256 [00:07<00:00, 35.10it/s]8:16:13,  2.06it/s, loss=1.53, pitch_acc=0.123, pitch_loss=0.446, token_type_acc=0.922, token_type_loss=0.183] \n",
      "100%|██████████| 256/256 [00:09<00:00, 25.81it/s]3:14:33,  4.40it/s, loss=1.52, pitch_acc=0.126, pitch_loss=0.447, token_type_acc=0.922, token_type_loss=0.19]  \n",
      "100%|██████████| 256/256 [00:03<00:00, 64.44it/s]7:17:17,  1.56it/s, loss=1.57, pitch_acc=0.14, pitch_loss=0.442, token_type_acc=0.914, token_type_loss=0.204]  \n",
      "100%|██████████| 256/256 [00:07<00:00, 32.74it/s]1:54:09,  1.82it/s, loss=1.73, pitch_acc=0.163, pitch_loss=0.478, token_type_acc=0.917, token_type_loss=0.199] \n",
      "100%|██████████| 256/256 [00:06<00:00, 42.04it/s]4:29:28,  4.01it/s, loss=1.52, pitch_acc=0.157, pitch_loss=0.416, token_type_acc=0.927, token_type_loss=0.171] \n",
      "100%|██████████| 256/256 [00:06<00:00, 39.63it/s]5:41:11,  3.70it/s, loss=1.55, pitch_acc=0.129, pitch_loss=0.449, token_type_acc=0.918, token_type_loss=0.193] \n",
      "100%|██████████| 256/256 [00:06<00:00, 37.36it/s]1:04:12,  1.14it/s, loss=1.39, pitch_acc=0.144, pitch_loss=0.362, token_type_acc=0.93, token_type_loss=0.171]   \n",
      "100%|██████████| 256/256 [00:04<00:00, 54.53it/s]8:56:31,  1.49it/s, loss=1.43, pitch_acc=0.151, pitch_loss=0.387, token_type_acc=0.933, token_type_loss=0.163] \n",
      "100%|██████████| 256/256 [00:05<00:00, 45.00it/s]5:20:33,  1.64it/s, loss=1.48, pitch_acc=0.126, pitch_loss=0.433, token_type_acc=0.927, token_type_loss=0.173] \n",
      "100%|██████████| 256/256 [00:05<00:00, 42.87it/s]7:47:44,  2.08it/s, loss=1.36, pitch_acc=0.115, pitch_loss=0.39, token_type_acc=0.928, token_type_loss=0.168]  \n",
      "100%|██████████| 256/256 [00:07<00:00, 32.84it/s]1:32:45,  5.00it/s, loss=1.45, pitch_acc=0.129, pitch_loss=0.408, token_type_acc=0.923, token_type_loss=0.183] \n",
      "100%|██████████| 256/256 [00:06<00:00, 41.31it/s]9:00:14,  1.18it/s, loss=1.29, pitch_acc=0.0962, pitch_loss=0.396, token_type_acc=0.941, token_type_loss=0.144]\n",
      "100%|██████████| 256/256 [00:06<00:00, 39.44it/s]3:14:09,  1.73it/s, loss=1.44, pitch_acc=0.132, pitch_loss=0.402, token_type_acc=0.927, token_type_loss=0.172]  \n",
      "100%|██████████| 256/256 [00:06<00:00, 39.92it/s]4:14:23,  4.04it/s, loss=1.7, pitch_acc=0.144, pitch_loss=0.477, token_type_acc=0.904, token_type_loss=0.223]  \n",
      "100%|██████████| 256/256 [00:07<00:00, 32.33it/s]2:40:13,  2.54it/s, loss=1.2, pitch_acc=0.11, pitch_loss=0.345, token_type_acc=0.937, token_type_loss=0.148]   \n",
      "100%|██████████| 256/256 [00:07<00:00, 35.35it/s]1:46:37,  1.11it/s, loss=1.34, pitch_acc=0.114, pitch_loss=0.397, token_type_acc=0.935, token_type_loss=0.152] \n",
      "100%|██████████| 256/256 [00:05<00:00, 43.76it/s]7:07:13,  1.01it/s, loss=1.64, pitch_acc=0.151, pitch_loss=0.453, token_type_acc=0.915, token_type_loss=0.201] \n",
      "100%|██████████| 256/256 [00:07<00:00, 33.11it/s]2:03:24,  4.76it/s, loss=1.52, pitch_acc=0.145, pitch_loss=0.419, token_type_acc=0.919, token_type_loss=0.19]  \n",
      "100%|██████████| 256/256 [00:06<00:00, 39.57it/s]5:42:14,  3.65it/s, loss=1.59, pitch_acc=0.132, pitch_loss=0.462, token_type_acc=0.922, token_type_loss=0.192] \n",
      "100%|██████████| 256/256 [00:06<00:00, 39.92it/s]8:44:23,  1.48it/s, loss=1.41, pitch_acc=0.133, pitch_loss=0.391, token_type_acc=0.922, token_type_loss=0.176] \n",
      "100%|██████████| 256/256 [00:07<00:00, 35.16it/s]5:12:44,  3.76it/s, loss=1.32, pitch_acc=0.117, pitch_loss=0.379, token_type_acc=0.929, token_type_loss=0.163] \n",
      "100%|██████████| 256/256 [00:08<00:00, 30.71it/s]6:03:06,  1.02it/s, loss=1.65, pitch_acc=0.154, pitch_loss=0.432, token_type_acc=0.908, token_type_loss=0.213] \n",
      "100%|██████████| 256/256 [00:05<00:00, 44.65it/s]4:24:23,  1.29it/s, loss=1.43, pitch_acc=0.144, pitch_loss=0.393, token_type_acc=0.929, token_type_loss=0.167] \n",
      "100%|██████████| 256/256 [00:09<00:00, 27.22it/s]6:06:49,  2.18it/s, loss=1.44, pitch_acc=0.144, pitch_loss=0.386, token_type_acc=0.929, token_type_loss=0.169] \n",
      "100%|██████████| 256/256 [00:05<00:00, 43.79it/s]1:12:27,  1.11it/s, loss=1.59, pitch_acc=0.128, pitch_loss=0.456, token_type_acc=0.908, token_type_loss=0.212] \n",
      "100%|██████████| 256/256 [00:08<00:00, 30.24it/s]0:47:08,  5.28it/s, loss=1.48, pitch_acc=0.141, pitch_loss=0.439, token_type_acc=0.941, token_type_loss=0.146] \n",
      "100%|██████████| 256/256 [00:07<00:00, 34.15it/s]1:42:40,  1.79it/s, loss=1.53, pitch_acc=0.158, pitch_loss=0.406, token_type_acc=0.923, token_type_loss=0.183] \n",
      "100%|██████████| 256/256 [00:09<00:00, 27.35it/s]3:47:26,  4.12it/s, loss=1.28, pitch_acc=0.133, pitch_loss=0.345, token_type_acc=0.941, token_type_loss=0.148] \n",
      "100%|██████████| 256/256 [00:06<00:00, 40.18it/s]5:40:39,  1.59it/s, loss=1.55, pitch_acc=0.142, pitch_loss=0.433, token_type_acc=0.921, token_type_loss=0.183] \n",
      "100%|██████████| 256/256 [00:05<00:00, 47.55it/s]7:50:14,  1.19it/s, loss=1.48, pitch_acc=0.132, pitch_loss=0.413, token_type_acc=0.925, token_type_loss=0.183] \n",
      "100%|██████████| 256/256 [00:11<00:00, 21.38it/s]0:14:15,  1.87it/s, loss=1.48, pitch_acc=0.136, pitch_loss=0.412, token_type_acc=0.922, token_type_loss=0.187]  \n",
      "100%|██████████| 256/256 [00:06<00:00, 40.37it/s]2:54:36,  4.38it/s, loss=1.56, pitch_acc=0.148, pitch_loss=0.434, token_type_acc=0.916, token_type_loss=0.2]   \n",
      "100%|██████████| 256/256 [00:05<00:00, 44.95it/s]5:26:55,  3.66it/s, loss=1.43, pitch_acc=0.136, pitch_loss=0.395, token_type_acc=0.925, token_type_loss=0.181] \n",
      "100%|██████████| 256/256 [00:04<00:00, 57.11it/s]4:43:16,  2.28it/s, loss=1.31, pitch_acc=0.144, pitch_loss=0.346, token_type_acc=0.937, token_type_loss=0.152] \n",
      "100%|██████████| 256/256 [00:06<00:00, 36.67it/s]5:15:51,  1.16s/it, loss=1.08, pitch_acc=0.107, pitch_loss=0.297, token_type_acc=0.951, token_type_loss=0.12]  \n",
      "100%|██████████| 256/256 [00:12<00:00, 21.14it/s]4:39:35,  2.29it/s, loss=1.6, pitch_acc=0.161, pitch_loss=0.433, token_type_acc=0.92, token_type_loss=0.189]   \n",
      "100%|██████████| 256/256 [00:07<00:00, 33.56it/s]:40:07,  7.34it/s, loss=1.66, pitch_acc=0.146, pitch_loss=0.461, token_type_acc=0.901, token_type_loss=0.226]  \n",
      "100%|██████████| 256/256 [00:06<00:00, 42.26it/s]1:28:26,  4.90it/s, loss=1.68, pitch_acc=0.156, pitch_loss=0.469, token_type_acc=0.907, token_type_loss=0.215] \n",
      "100%|██████████| 256/256 [00:07<00:00, 33.55it/s]3:05:18,  4.29it/s, loss=1.62, pitch_acc=0.143, pitch_loss=0.464, token_type_acc=0.927, token_type_loss=0.179] \n",
      "100%|██████████| 256/256 [00:10<00:00, 24.01it/s]3:53:35,  4.04it/s, loss=1.59, pitch_acc=0.143, pitch_loss=0.446, token_type_acc=0.91, token_type_loss=0.211]  \n",
      "100%|██████████| 256/256 [00:06<00:00, 39.45it/s]0:50:44,  1.08s/it, loss=1.59, pitch_acc=0.15, pitch_loss=0.441, token_type_acc=0.919, token_type_loss=0.192]  \n",
      "100%|██████████| 256/256 [00:07<00:00, 34.90it/s]2:37:24,  1.72it/s, loss=1.71, pitch_acc=0.161, pitch_loss=0.47, token_type_acc=0.92, token_type_loss=0.193]   \n",
      "100%|██████████| 256/256 [00:07<00:00, 36.16it/s]3:46:48,  4.06it/s, loss=1.52, pitch_acc=0.151, pitch_loss=0.418, token_type_acc=0.928, token_type_loss=0.171] \n",
      "100%|██████████| 256/256 [00:07<00:00, 32.42it/s]9:55:12,  2.81it/s, loss=1.47, pitch_acc=0.118, pitch_loss=0.424, token_type_acc=0.919, token_type_loss=0.189] \n",
      "100%|██████████| 256/256 [00:07<00:00, 33.55it/s]7:59:34,  1.47it/s, loss=1.24, pitch_acc=0.126, pitch_loss=0.339, token_type_acc=0.941, token_type_loss=0.142] \n",
      "100%|██████████| 256/256 [00:06<00:00, 38.15it/s]0:17:14,  5.43it/s, loss=1.52, pitch_acc=0.143, pitch_loss=0.423, token_type_acc=0.919, token_type_loss=0.196] \n",
      "100%|██████████| 256/256 [00:05<00:00, 43.14it/s]6:31:41,  3.37it/s, loss=1.35, pitch_acc=0.119, pitch_loss=0.37, token_type_acc=0.932, token_type_loss=0.167]  \n",
      "100%|██████████| 256/256 [00:05<00:00, 47.04it/s]3:16:56,  1.67it/s, loss=1.63, pitch_acc=0.151, pitch_loss=0.461, token_type_acc=0.917, token_type_loss=0.191] \n",
      "100%|██████████| 256/256 [00:10<00:00, 24.67it/s]2:10:43,  4.57it/s, loss=1.27, pitch_acc=0.115, pitch_loss=0.354, token_type_acc=0.942, token_type_loss=0.147] \n",
      "100%|██████████| 256/256 [00:10<00:00, 23.75it/s]6:09:56,  2.12it/s, loss=1.46, pitch_acc=0.14, pitch_loss=0.396, token_type_acc=0.924, token_type_loss=0.179]  \n",
      "100%|██████████| 256/256 [00:08<00:00, 31.10it/s]9:30:11,  1.25s/it, loss=1.57, pitch_acc=0.168, pitch_loss=0.415, token_type_acc=0.924, token_type_loss=0.18]  \n",
      "100%|██████████| 256/256 [00:07<00:00, 35.80it/s]2:26:34,  1.31it/s, loss=1.23, pitch_acc=0.126, pitch_loss=0.335, token_type_acc=0.941, token_type_loss=0.142] \n",
      "100%|██████████| 256/256 [00:05<00:00, 48.70it/s]5:36:15,  2.16it/s, loss=1.51, pitch_acc=0.123, pitch_loss=0.442, token_type_acc=0.921, token_type_loss=0.187] \n",
      "100%|██████████| 256/256 [00:06<00:00, 37.88it/s]4:34:52,  3.80it/s, loss=1.18, pitch_acc=0.11, pitch_loss=0.341, token_type_acc=0.941, token_type_loss=0.145]  \n",
      "100%|██████████| 256/256 [00:08<00:00, 30.29it/s]2:23:34,  1.71it/s, loss=1.56, pitch_acc=0.161, pitch_loss=0.41, token_type_acc=0.924, token_type_loss=0.18]   \n",
      "100%|██████████| 256/256 [00:06<00:00, 38.46it/s]6:10:11,  3.42it/s, loss=1.37, pitch_acc=0.127, pitch_loss=0.378, token_type_acc=0.937, token_type_loss=0.157] \n",
      "100%|██████████| 256/256 [00:07<00:00, 36.52it/s]:22:09,  5.89it/s, loss=1.61, pitch_acc=0.151, pitch_loss=0.444, token_type_acc=0.927, token_type_loss=0.181]  \n",
      "100%|██████████| 256/256 [00:08<00:00, 30.48it/s]9:04:18,  1.41it/s, loss=1.47, pitch_acc=0.148, pitch_loss=0.412, token_type_acc=0.931, token_type_loss=0.172] \n",
      "100%|██████████| 256/256 [00:06<00:00, 42.62it/s]0:20:26,  2.71it/s, loss=1.5, pitch_acc=0.149, pitch_loss=0.414, token_type_acc=0.929, token_type_loss=0.17]   \n",
      "100%|██████████| 256/256 [00:09<00:00, 26.48it/s]5:27:55,  3.56it/s, loss=1.39, pitch_acc=0.127, pitch_loss=0.396, token_type_acc=0.93, token_type_loss=0.166]  \n",
      "100%|██████████| 256/256 [00:07<00:00, 36.38it/s]9:43:50,  2.79it/s, loss=1.54, pitch_acc=0.153, pitch_loss=0.411, token_type_acc=0.918, token_type_loss=0.194] \n",
      "100%|██████████| 256/256 [00:03<00:00, 66.57it/s]8:09:01,  1.06s/it, loss=1.23, pitch_acc=0.0984, pitch_loss=0.355, token_type_acc=0.931, token_type_loss=0.162]\n",
      "100%|██████████| 256/256 [00:06<00:00, 36.92it/s]2:51:15,  1.33s/it, loss=1.51, pitch_acc=0.156, pitch_loss=0.411, token_type_acc=0.926, token_type_loss=0.176]  \n",
      "100%|██████████| 256/256 [00:06<00:00, 37.07it/s]2:10:01,  4.51it/s, loss=1.65, pitch_acc=0.131, pitch_loss=0.469, token_type_acc=0.907, token_type_loss=0.217] \n",
      "100%|██████████| 256/256 [00:08<00:00, 29.16it/s]4:11:44,  2.26it/s, loss=1.22, pitch_acc=0.134, pitch_loss=0.316, token_type_acc=0.939, token_type_loss=0.148] \n",
      "100%|██████████| 256/256 [00:07<00:00, 34.73it/s]2:55:01,  1.66it/s, loss=1.58, pitch_acc=0.142, pitch_loss=0.446, token_type_acc=0.923, token_type_loss=0.185] \n",
      "100%|██████████| 256/256 [00:08<00:00, 31.78it/s]6:34:42,  3.30it/s, loss=1.78, pitch_acc=0.164, pitch_loss=0.5, token_type_acc=0.915, token_type_loss=0.205]   \n",
      "100%|██████████| 256/256 [00:05<00:00, 46.15it/s]0:54:56,  1.77it/s, loss=1.27, pitch_acc=0.127, pitch_loss=0.339, token_type_acc=0.936, token_type_loss=0.15]  \n",
      "100%|██████████| 256/256 [00:05<00:00, 45.03it/s]3:39:18,  3.99it/s, loss=1.64, pitch_acc=0.149, pitch_loss=0.46, token_type_acc=0.922, token_type_loss=0.183]  \n",
      "100%|██████████| 256/256 [00:07<00:00, 34.08it/s]7:54:42,  1.95it/s, loss=1.31, pitch_acc=0.127, pitch_loss=0.358, token_type_acc=0.936, token_type_loss=0.155] \n",
      "100%|██████████| 256/256 [00:08<00:00, 28.88it/s]4:17:04,  3.81it/s, loss=1.48, pitch_acc=0.138, pitch_loss=0.414, token_type_acc=0.934, token_type_loss=0.166] \n",
      "100%|██████████| 256/256 [00:06<00:00, 39.25it/s]7:21:07,  1.05s/it, loss=1.46, pitch_acc=0.145, pitch_loss=0.402, token_type_acc=0.933, token_type_loss=0.159] \n",
      "100%|██████████| 256/256 [00:07<00:00, 35.73it/s]9:39:37,  1.37it/s, loss=1.51, pitch_acc=0.117, pitch_loss=0.45, token_type_acc=0.918, token_type_loss=0.192]  \n",
      "100%|██████████| 256/256 [00:05<00:00, 43.11it/s]3:43:00,  2.29it/s, loss=1.65, pitch_acc=0.143, pitch_loss=0.456, token_type_acc=0.907, token_type_loss=0.212] \n",
      "100%|██████████| 256/256 [00:05<00:00, 50.31it/s]2:47:55,  1.53s/it, loss=1.59, pitch_acc=0.163, pitch_loss=0.421, token_type_acc=0.923, token_type_loss=0.18]  \n",
      "100%|██████████| 256/256 [00:08<00:00, 31.22it/s]0:08:29,  2.69it/s, loss=1.16, pitch_acc=0.122, pitch_loss=0.301, token_type_acc=0.942, token_type_loss=0.134] \n",
      "100%|██████████| 256/256 [00:05<00:00, 50.33it/s]8:24:56,  1.41it/s, loss=1.71, pitch_acc=0.153, pitch_loss=0.48, token_type_acc=0.907, token_type_loss=0.224]  \n",
      "100%|██████████| 256/256 [00:05<00:00, 45.23it/s]2:43:37,  1.02it/s, loss=1.38, pitch_acc=0.143, pitch_loss=0.358, token_type_acc=0.93, token_type_loss=0.174]  \n",
      "100%|██████████| 256/256 [00:07<00:00, 33.08it/s]3:20:02,  2.31it/s, loss=1.55, pitch_acc=0.15, pitch_loss=0.429, token_type_acc=0.926, token_type_loss=0.181]  \n",
      "100%|██████████| 256/256 [00:05<00:00, 47.04it/s]:47:25,  5.51it/s, loss=1.47, pitch_acc=0.128, pitch_loss=0.425, token_type_acc=0.931, token_type_loss=0.165]  \n",
      "100%|██████████| 256/256 [00:05<00:00, 44.20it/s]8:10:25,  2.96it/s, loss=1.32, pitch_acc=0.122, pitch_loss=0.357, token_type_acc=0.928, token_type_loss=0.168] \n",
      "100%|██████████| 256/256 [00:06<00:00, 38.64it/s]3:10:28,  4.09it/s, loss=1.56, pitch_acc=0.151, pitch_loss=0.423, token_type_acc=0.924, token_type_loss=0.184] \n",
      "100%|██████████| 256/256 [00:05<00:00, 45.05it/s]0:33:42,  1.76it/s, loss=1.37, pitch_acc=0.146, pitch_loss=0.351, token_type_acc=0.934, token_type_loss=0.168] \n",
      "100%|██████████| 256/256 [00:05<00:00, 42.92it/s]4:10:35,  3.79it/s, loss=1.67, pitch_acc=0.135, pitch_loss=0.48, token_type_acc=0.907, token_type_loss=0.22]   \n",
      "100%|██████████| 256/256 [00:09<00:00, 27.57it/s]7:50:22,  1.93it/s, loss=1.5, pitch_acc=0.157, pitch_loss=0.4, token_type_acc=0.921, token_type_loss=0.186]    \n",
      "100%|██████████| 256/256 [00:06<00:00, 36.84it/s]0:33:47,  1.13s/it, loss=1.49, pitch_acc=0.139, pitch_loss=0.413, token_type_acc=0.932, token_type_loss=0.168] \n",
      "100%|██████████| 256/256 [00:05<00:00, 48.66it/s]0:16:45,  1.77it/s, loss=1.7, pitch_acc=0.155, pitch_loss=0.466, token_type_acc=0.913, token_type_loss=0.209]  \n",
      "100%|██████████| 256/256 [00:06<00:00, 41.47it/s]3:11:05,  4.06it/s, loss=1.69, pitch_acc=0.147, pitch_loss=0.475, token_type_acc=0.912, token_type_loss=0.208]\n",
      "100%|██████████| 256/256 [00:09<00:00, 27.88it/s]2:01:28,  4.44it/s, loss=1.3, pitch_acc=0.118, pitch_loss=0.359, token_type_acc=0.931, token_type_loss=0.166]  \n",
      "100%|██████████| 256/256 [00:08<00:00, 30.18it/s]1:37:47,  1.15s/it, loss=1.35, pitch_acc=0.129, pitch_loss=0.385, token_type_acc=0.94, token_type_loss=0.144]  \n",
      "100%|██████████| 256/256 [00:07<00:00, 35.64it/s]6:40:59,  2.00it/s, loss=1.48, pitch_acc=0.126, pitch_loss=0.422, token_type_acc=0.925, token_type_loss=0.179] \n",
      "100%|██████████| 256/256 [00:10<00:00, 24.62it/s]3:26:50,  3.96it/s, loss=1.31, pitch_acc=0.143, pitch_loss=0.334, token_type_acc=0.936, token_type_loss=0.162] \n",
      "100%|██████████| 256/256 [00:06<00:00, 37.33it/s]2:01:13,  2.42it/s, loss=1.34, pitch_acc=0.138, pitch_loss=0.353, token_type_acc=0.938, token_type_loss=0.156] \n",
      "100%|██████████| 256/256 [00:03<00:00, 68.19it/s]0:40:22,  1.05it/s, loss=1.38, pitch_acc=0.147, pitch_loss=0.362, token_type_acc=0.93, token_type_loss=0.168]  \n",
      "100%|██████████| 256/256 [00:05<00:00, 43.88it/s]4:30:14,  2.17it/s, loss=1.5, pitch_acc=0.142, pitch_loss=0.406, token_type_acc=0.926, token_type_loss=0.176]  \n",
      "100%|██████████| 256/256 [00:05<00:00, 48.69it/s]2:08:10,  1.26it/s, loss=1.35, pitch_acc=0.133, pitch_loss=0.367, token_type_acc=0.934, token_type_loss=0.161] \n",
      "100%|██████████| 256/256 [00:06<00:00, 38.27it/s]8:12:17,  1.10it/s, loss=1.43, pitch_acc=0.133, pitch_loss=0.398, token_type_acc=0.924, token_type_loss=0.18]  \n",
      "100%|██████████| 256/256 [00:04<00:00, 52.67it/s]1:03:21,  1.72s/it, loss=1.39, pitch_acc=0.14, pitch_loss=0.368, token_type_acc=0.938, token_type_loss=0.156]  \n",
      "100%|██████████| 256/256 [00:05<00:00, 44.62it/s]4:19:24,  3.69it/s, loss=1.54, pitch_acc=0.146, pitch_loss=0.42, token_type_acc=0.922, token_type_loss=0.188]  \n",
      "100%|██████████| 256/256 [00:09<00:00, 28.24it/s]4:02:39,  3.76it/s, loss=1.49, pitch_acc=0.155, pitch_loss=0.391, token_type_acc=0.922, token_type_loss=0.182] \n",
      "100%|██████████| 256/256 [00:07<00:00, 32.79it/s]6:35:39,  1.98it/s, loss=1.38, pitch_acc=0.137, pitch_loss=0.392, token_type_acc=0.938, token_type_loss=0.148] \n",
      "100%|██████████| 256/256 [00:05<00:00, 46.21it/s]0:12:04,  1.75it/s, loss=1.32, pitch_acc=0.132, pitch_loss=0.362, token_type_acc=0.938, token_type_loss=0.152] \n",
      "100%|██████████| 256/256 [00:04<00:00, 52.34it/s]2:22:10,  1.24it/s, loss=1.57, pitch_acc=0.145, pitch_loss=0.423, token_type_acc=0.917, token_type_loss=0.19]  \n",
      "100%|██████████| 256/256 [00:06<00:00, 40.61it/s]4:36:11,  3.60it/s, loss=1.43, pitch_acc=0.129, pitch_loss=0.412, token_type_acc=0.928, token_type_loss=0.175] \n",
      "100%|██████████| 256/256 [00:05<00:00, 44.69it/s]1:26:41,  1.67it/s, loss=1.35, pitch_acc=0.135, pitch_loss=0.363, token_type_acc=0.93, token_type_loss=0.167]  \n",
      "100%|██████████| 256/256 [00:07<00:00, 32.06it/s]2:54:19,  4.07it/s, loss=1.24, pitch_acc=0.114, pitch_loss=0.349, token_type_acc=0.938, token_type_loss=0.151] \n",
      "100%|██████████| 256/256 [00:05<00:00, 43.64it/s]4:40:27,  3.57it/s, loss=1.48, pitch_acc=0.142, pitch_loss=0.395, token_type_acc=0.923, token_type_loss=0.183] \n",
      "100%|██████████| 256/256 [00:08<00:00, 30.54it/s]1:32:05,  4.54it/s, loss=1.5, pitch_acc=0.143, pitch_loss=0.416, token_type_acc=0.918, token_type_loss=0.192]  \n",
      "100%|██████████| 256/256 [00:06<00:00, 41.92it/s]2:58:22,  2.28it/s, loss=1.37, pitch_acc=0.13, pitch_loss=0.376, token_type_acc=0.927, token_type_loss=0.172]  \n",
      "100%|██████████| 256/256 [00:06<00:00, 42.36it/s]1:21:05,  4.60it/s, loss=1.6, pitch_acc=0.153, pitch_loss=0.436, token_type_acc=0.922, token_type_loss=0.192]  \n",
      "100%|██████████| 256/256 [00:06<00:00, 36.75it/s]9:15:11,  2.71it/s, loss=1.57, pitch_acc=0.167, pitch_loss=0.415, token_type_acc=0.923, token_type_loss=0.189] \n",
      "100%|██████████| 256/256 [00:06<00:00, 40.59it/s]8:38:09,  1.12s/it, loss=1.57, pitch_acc=0.145, pitch_loss=0.438, token_type_acc=0.923, token_type_loss=0.188] \n",
      "100%|██████████| 256/256 [00:05<00:00, 48.34it/s]9:58:45,  1.74it/s, loss=1.41, pitch_acc=0.137, pitch_loss=0.385, token_type_acc=0.929, token_type_loss=0.177] \n",
      "100%|██████████| 256/256 [00:05<00:00, 50.56it/s]6:54:23,  1.09s/it, loss=1.37, pitch_acc=0.139, pitch_loss=0.357, token_type_acc=0.926, token_type_loss=0.175] \n",
      "100%|██████████| 256/256 [00:05<00:00, 47.13it/s]4:47:23,  2.10it/s, loss=1.7, pitch_acc=0.151, pitch_loss=0.485, token_type_acc=0.919, token_type_loss=0.196]  \n",
      "100%|██████████| 256/256 [00:04<00:00, 63.69it/s]6:45:36,  1.11it/s, loss=1.4, pitch_acc=0.132, pitch_loss=0.398, token_type_acc=0.935, token_type_loss=0.162] \n",
      "100%|██████████| 256/256 [00:08<00:00, 31.41it/s]2:46:48,  4.06it/s, loss=1.61, pitch_acc=0.173, pitch_loss=0.417, token_type_acc=0.927, token_type_loss=0.18] \n",
      "100%|██████████| 256/256 [00:04<00:00, 59.45it/s]1:52:44,  1.00s/it, loss=1.3, pitch_acc=0.12, pitch_loss=0.367, token_type_acc=0.938, token_type_loss=0.156]   \n",
      "100%|██████████| 256/256 [00:07<00:00, 32.01it/s]:01:24,  5.74it/s, loss=1.74, pitch_acc=0.15, pitch_loss=0.497, token_type_acc=0.914, token_type_loss=0.202]   \n",
      "100%|██████████| 256/256 [00:04<00:00, 51.71it/s]0:27:35,  1.70it/s, loss=1.41, pitch_acc=0.146, pitch_loss=0.375, token_type_acc=0.933, token_type_loss=0.163] \n",
      "100%|██████████| 256/256 [00:07<00:00, 33.77it/s]3:32:34,  2.19it/s, loss=1.47, pitch_acc=0.14, pitch_loss=0.414, token_type_acc=0.939, token_type_loss=0.148]  \n",
      "100%|██████████| 256/256 [00:06<00:00, 36.73it/s]0:18:23,  5.01it/s, loss=1.67, pitch_acc=0.17, pitch_loss=0.435, token_type_acc=0.921, token_type_loss=0.191]  \n",
      "100%|██████████| 256/256 [00:07<00:00, 34.79it/s]7:40:39,  1.37it/s, loss=1.27, pitch_acc=0.139, pitch_loss=0.321, token_type_acc=0.94, token_type_loss=0.148]  \n",
      "100%|██████████| 256/256 [00:06<00:00, 40.50it/s]1:58:24,  4.30it/s, loss=1.62, pitch_acc=0.151, pitch_loss=0.462, token_type_acc=0.92, token_type_loss=0.187]  \n",
      "100%|██████████| 256/256 [00:06<00:00, 38.46it/s]2:20:11,  2.30it/s, loss=1.39, pitch_acc=0.138, pitch_loss=0.377, token_type_acc=0.939, token_type_loss=0.151]\n",
      "100%|██████████| 256/256 [00:09<00:00, 26.04it/s]0:58:35,  1.66it/s, loss=1.43, pitch_acc=0.133, pitch_loss=0.379, token_type_acc=0.922, token_type_loss=0.185] \n",
      "100%|██████████| 256/256 [00:06<00:00, 38.04it/s]0:13:16,  2.54it/s, loss=1.45, pitch_acc=0.128, pitch_loss=0.418, token_type_acc=0.926, token_type_loss=0.172] \n",
      "100%|██████████| 256/256 [00:05<00:00, 45.33it/s]7:37:44,  2.91it/s, loss=1.45, pitch_acc=0.134, pitch_loss=0.402, token_type_acc=0.931, token_type_loss=0.168] \n",
      "100%|██████████| 256/256 [00:06<00:00, 41.91it/s]1:20:42,  4.51it/s, loss=1.42, pitch_acc=0.134, pitch_loss=0.381, token_type_acc=0.924, token_type_loss=0.182] \n",
      "100%|██████████| 256/256 [00:08<00:00, 30.56it/s]8:08:04,  2.82it/s, loss=1.49, pitch_acc=0.137, pitch_loss=0.409, token_type_acc=0.925, token_type_loss=0.18]  \n",
      "100%|██████████| 256/256 [00:05<00:00, 45.12it/s]4:30:30,  3.52it/s, loss=1.4, pitch_acc=0.139, pitch_loss=0.391, token_type_acc=0.936, token_type_loss=0.157]  \n",
      "100%|██████████| 256/256 [00:08<00:00, 29.76it/s]2:14:04,  4.17it/s, loss=1.47, pitch_acc=0.131, pitch_loss=0.412, token_type_acc=0.92, token_type_loss=0.191]   \n",
      "100%|██████████| 256/256 [00:05<00:00, 45.05it/s]3:38:55,  1.52it/s, loss=1.55, pitch_acc=0.145, pitch_loss=0.42, token_type_acc=0.923, token_type_loss=0.189]  \n",
      "100%|██████████| 256/256 [00:07<00:00, 36.15it/s]5:19:21,  3.32it/s, loss=1.22, pitch_acc=0.125, pitch_loss=0.325, token_type_acc=0.939, token_type_loss=0.147] \n",
      "100%|██████████| 256/256 [00:07<00:00, 32.03it/s]:41:53,  5.85it/s, loss=1.46, pitch_acc=0.132, pitch_loss=0.388, token_type_acc=0.925, token_type_loss=0.183]  \n",
      "100%|██████████| 256/256 [00:07<00:00, 35.59it/s]5:11:34,  1.12it/s, loss=1.24, pitch_acc=0.13, pitch_loss=0.334, token_type_acc=0.936, token_type_loss=0.155]  \n",
      "100%|██████████| 256/256 [00:06<00:00, 39.40it/s]8:36:40,  1.04it/s, loss=1.66, pitch_acc=0.164, pitch_loss=0.442, token_type_acc=0.92, token_type_loss=0.194]  \n",
      "100%|██████████| 256/256 [00:05<00:00, 46.18it/s]1:19:25,  4.48it/s, loss=1.63, pitch_acc=0.151, pitch_loss=0.453, token_type_acc=0.919, token_type_loss=0.2]    \n",
      "100%|██████████| 256/256 [00:08<00:00, 29.71it/s]3:06:42,  3.86it/s, loss=1.45, pitch_acc=0.153, pitch_loss=0.382, token_type_acc=0.928, token_type_loss=0.173] \n",
      "100%|██████████| 256/256 [00:09<00:00, 26.56it/s]2:29:19,  2.25it/s, loss=1.46, pitch_acc=0.142, pitch_loss=0.401, token_type_acc=0.919, token_type_loss=0.191] \n",
      "100%|██████████| 256/256 [00:07<00:00, 33.63it/s]2:11:56,  4.14it/s, loss=1.5, pitch_acc=0.148, pitch_loss=0.404, token_type_acc=0.929, token_type_loss=0.176]  \n",
      "100%|██████████| 256/256 [00:07<00:00, 33.76it/s]2:41:30,  3.98it/s, loss=1.62, pitch_acc=0.155, pitch_loss=0.441, token_type_acc=0.91, token_type_loss=0.209]  \n",
      "100%|██████████| 256/256 [00:09<00:00, 26.50it/s]9:12:36,  2.63it/s, loss=1.4, pitch_acc=0.16, pitch_loss=0.354, token_type_acc=0.938, token_type_loss=0.15]    \n",
      "100%|██████████| 256/256 [00:06<00:00, 37.55it/s]:12:30,  5.47it/s, loss=1.57, pitch_acc=0.161, pitch_loss=0.4, token_type_acc=0.913, token_type_loss=0.201]    \n",
      "100%|██████████| 256/256 [00:08<00:00, 31.65it/s]0:10:02,  4.95it/s, loss=1.62, pitch_acc=0.168, pitch_loss=0.434, token_type_acc=0.924, token_type_loss=0.182] \n",
      "100%|██████████| 256/256 [00:06<00:00, 42.56it/s]2:29:38,  4.02it/s, loss=1.11, pitch_acc=0.102, pitch_loss=0.311, token_type_acc=0.949, token_type_loss=0.135] \n",
      "100%|██████████| 256/256 [00:05<00:00, 48.95it/s]2:44:18,  2.21it/s, loss=1.44, pitch_acc=0.149, pitch_loss=0.377, token_type_acc=0.932, token_type_loss=0.168] \n",
      "100%|██████████| 256/256 [00:06<00:00, 37.18it/s]5:08:40,  3.31it/s, loss=1.59, pitch_acc=0.171, pitch_loss=0.428, token_type_acc=0.933, token_type_loss=0.166] \n",
      "100%|██████████| 256/256 [00:07<00:00, 32.28it/s]9:55:11,  2.51it/s, loss=1.32, pitch_acc=0.136, pitch_loss=0.357, token_type_acc=0.941, token_type_loss=0.141] \n",
      "100%|██████████| 256/256 [00:07<00:00, 35.16it/s]5:21:35,  3.26it/s, loss=1.74, pitch_acc=0.178, pitch_loss=0.467, token_type_acc=0.914, token_type_loss=0.199] \n",
      "100%|██████████| 256/256 [00:09<00:00, 27.65it/s]1:21:40,  2.34it/s, loss=1.39, pitch_acc=0.147, pitch_loss=0.379, token_type_acc=0.936, token_type_loss=0.156] \n",
      "100%|██████████| 256/256 [00:07<00:00, 32.07it/s]:55:30,  5.03it/s, loss=1.19, pitch_acc=0.117, pitch_loss=0.317, token_type_acc=0.941, token_type_loss=0.146]  \n",
      "100%|██████████| 256/256 [00:07<00:00, 33.22it/s]3:57:21,  3.57it/s, loss=1.62, pitch_acc=0.139, pitch_loss=0.459, token_type_acc=0.912, token_type_loss=0.201] \n",
      "100%|██████████| 256/256 [00:06<00:00, 41.57it/s]7:42:06,  1.32it/s, loss=1.71, pitch_acc=0.167, pitch_loss=0.461, token_type_acc=0.908, token_type_loss=0.208] \n",
      "100%|██████████| 256/256 [00:06<00:00, 40.17it/s]0:52:18,  2.38it/s, loss=1.45, pitch_acc=0.146, pitch_loss=0.384, token_type_acc=0.93, token_type_loss=0.173]  \n",
      "100%|██████████| 256/256 [00:05<00:00, 47.64it/s]7:04:28,  2.91it/s, loss=1.3, pitch_acc=0.121, pitch_loss=0.36, token_type_acc=0.93, token_type_loss=0.162]    \n",
      "100%|██████████| 256/256 [00:07<00:00, 33.41it/s]6:40:08,  1.35it/s, loss=1.46, pitch_acc=0.152, pitch_loss=0.38, token_type_acc=0.929, token_type_loss=0.169]  \n",
      "100%|██████████| 256/256 [00:05<00:00, 48.45it/s]9:33:16,  1.40s/it, loss=1.5, pitch_acc=0.151, pitch_loss=0.398, token_type_acc=0.928, token_type_loss=0.177]   \n",
      "100%|██████████| 256/256 [00:07<00:00, 34.76it/s]3:38:55,  3.63it/s, loss=1.39, pitch_acc=0.134, pitch_loss=0.383, token_type_acc=0.932, token_type_loss=0.166] \n",
      "100%|██████████| 256/256 [00:06<00:00, 38.65it/s]1:02:40,  4.48it/s, loss=1.57, pitch_acc=0.151, pitch_loss=0.432, token_type_acc=0.913, token_type_loss=0.194] \n",
      "100%|██████████| 256/256 [00:05<00:00, 47.72it/s]2:44:06,  3.88it/s, loss=1.49, pitch_acc=0.151, pitch_loss=0.4, token_type_acc=0.92, token_type_loss=0.192]    \n",
      "100%|██████████| 256/256 [00:05<00:00, 47.94it/s]8:11:35,  2.71it/s, loss=1.35, pitch_acc=0.135, pitch_loss=0.361, token_type_acc=0.932, token_type_loss=0.157] \n",
      "100%|██████████| 256/256 [00:06<00:00, 38.33it/s]6:17:16,  1.88it/s, loss=1.36, pitch_acc=0.133, pitch_loss=0.368, token_type_acc=0.929, token_type_loss=0.174] \n",
      "100%|██████████| 256/256 [00:07<00:00, 35.44it/s]3:28:16,  3.66it/s, loss=1.41, pitch_acc=0.142, pitch_loss=0.358, token_type_acc=0.929, token_type_loss=0.17]  \n",
      "100%|██████████| 256/256 [00:05<00:00, 42.97it/s]3:40:51,  2.08it/s, loss=1.4, pitch_acc=0.124, pitch_loss=0.409, token_type_acc=0.934, token_type_loss=0.159]  \n",
      "100%|██████████| 256/256 [00:06<00:00, 40.99it/s]1:22:49,  4.32it/s, loss=1.4, pitch_acc=0.127, pitch_loss=0.389, token_type_acc=0.928, token_type_loss=0.171] \n",
      "100%|██████████| 256/256 [00:07<00:00, 34.29it/s]0:10:29,  2.43it/s, loss=1.33, pitch_acc=0.121, pitch_loss=0.37, token_type_acc=0.93, token_type_loss=0.166]  \n",
      "100%|██████████| 256/256 [00:05<00:00, 43.81it/s]6:20:56,  1.15s/it, loss=1.45, pitch_acc=0.142, pitch_loss=0.403, token_type_acc=0.941, token_type_loss=0.149] \n",
      "100%|██████████| 256/256 [00:06<00:00, 42.11it/s]2:45:03,  2.15it/s, loss=1.22, pitch_acc=0.115, pitch_loss=0.328, token_type_acc=0.938, token_type_loss=0.147] \n",
      "100%|██████████| 256/256 [00:05<00:00, 48.01it/s]0:03:26,  2.44it/s, loss=1.88, pitch_acc=0.164, pitch_loss=0.523, token_type_acc=0.897, token_type_loss=0.237] \n",
      "100%|██████████| 256/256 [00:07<00:00, 32.10it/s]2:58:07,  3.77it/s, loss=1.3, pitch_acc=0.12, pitch_loss=0.363, token_type_acc=0.943, token_type_loss=0.137]   \n",
      "100%|██████████| 256/256 [00:06<00:00, 42.39it/s]3:17:01,  2.10it/s, loss=1.69, pitch_acc=0.162, pitch_loss=0.463, token_type_acc=0.907, token_type_loss=0.219] \n",
      "100%|██████████| 256/256 [00:05<00:00, 44.53it/s]0:08:00,  1.22it/s, loss=1.29, pitch_acc=0.128, pitch_loss=0.366, token_type_acc=0.946, token_type_loss=0.137] \n",
      "100%|██████████| 256/256 [00:05<00:00, 46.01it/s]4:07:05,  3.45it/s, loss=1.5, pitch_acc=0.126, pitch_loss=0.434, token_type_acc=0.921, token_type_loss=0.184]  \n",
      "100%|██████████| 256/256 [00:07<00:00, 36.07it/s]0:50:53,  4.48it/s, loss=1.29, pitch_acc=0.128, pitch_loss=0.337, token_type_acc=0.94, token_type_loss=0.15]  \n",
      "100%|██████████| 256/256 [00:06<00:00, 37.48it/s]1:35:48,  1.06s/it, loss=1.55, pitch_acc=0.153, pitch_loss=0.416, token_type_acc=0.924, token_type_loss=0.184] \n",
      "100%|██████████| 256/256 [00:06<00:00, 38.69it/s]2:08:14,  1.51it/s, loss=1.19, pitch_acc=0.115, pitch_loss=0.324, token_type_acc=0.944, token_type_loss=0.139] \n",
      "100%|██████████| 256/256 [00:07<00:00, 32.98it/s]9:31:50,  2.48it/s, loss=1.49, pitch_acc=0.15, pitch_loss=0.399, token_type_acc=0.925, token_type_loss=0.183]  \n",
      "100%|██████████| 256/256 [00:06<00:00, 39.23it/s]2:18:30,  1.14it/s, loss=1.48, pitch_acc=0.175, pitch_loss=0.383, token_type_acc=0.94, token_type_loss=0.149]  \n",
      "100%|██████████| 256/256 [00:06<00:00, 39.65it/s]7:19:25,  1.30it/s, loss=1.76, pitch_acc=0.182, pitch_loss=0.466, token_type_acc=0.913, token_type_loss=0.208] \n",
      "100%|██████████| 256/256 [00:06<00:00, 39.54it/s]8:25:29,  2.62it/s, loss=1.46, pitch_acc=0.141, pitch_loss=0.397, token_type_acc=0.929, token_type_loss=0.173] \n",
      "100%|██████████| 256/256 [00:05<00:00, 46.14it/s]0:46:44,  2.32it/s, loss=1.4, pitch_acc=0.13, pitch_loss=0.401, token_type_acc=0.926, token_type_loss=0.173]   \n",
      "100%|██████████| 256/256 [00:05<00:00, 47.43it/s]7:33:49,  1.75it/s, loss=1.58, pitch_acc=0.177, pitch_loss=0.403, token_type_acc=0.917, token_type_loss=0.197] \n",
      "100%|██████████| 256/256 [00:07<00:00, 34.32it/s]3:25:31,  1.11s/it, loss=1.44, pitch_acc=0.136, pitch_loss=0.401, token_type_acc=0.929, token_type_loss=0.167] \n",
      "100%|██████████| 256/256 [00:06<00:00, 41.05it/s]3:26:14,  1.53s/it, loss=1.6, pitch_acc=0.15, pitch_loss=0.434, token_type_acc=0.913, token_type_loss=0.203]   \n",
      "100%|██████████| 256/256 [00:05<00:00, 43.14it/s]:17:02,  5.80it/s, loss=1.59, pitch_acc=0.152, pitch_loss=0.427, token_type_acc=0.91, token_type_loss=0.209]  \n",
      "100%|██████████| 256/256 [00:06<00:00, 37.30it/s]1:54:53,  4.03it/s, loss=1.38, pitch_acc=0.147, pitch_loss=0.364, token_type_acc=0.933, token_type_loss=0.163] \n",
      "100%|██████████| 256/256 [00:07<00:00, 32.17it/s]2:39:03,  3.79it/s, loss=1.29, pitch_acc=0.144, pitch_loss=0.325, token_type_acc=0.937, token_type_loss=0.153] \n",
      "100%|██████████| 256/256 [00:04<00:00, 54.81it/s]8:23:59,  2.60it/s, loss=1.63, pitch_acc=0.168, pitch_loss=0.433, token_type_acc=0.929, token_type_loss=0.173] \n",
      "100%|██████████| 256/256 [00:05<00:00, 47.71it/s]5:58:20,  1.33it/s, loss=1.4, pitch_acc=0.151, pitch_loss=0.363, token_type_acc=0.935, token_type_loss=0.159]  \n",
      "100%|██████████| 256/256 [00:06<00:00, 38.42it/s]1:51:03,  2.19it/s, loss=1.26, pitch_acc=0.133, pitch_loss=0.339, token_type_acc=0.939, token_type_loss=0.145] \n",
      "100%|██████████| 256/256 [00:05<00:00, 44.45it/s]4:44:26,  1.93it/s, loss=1.59, pitch_acc=0.153, pitch_loss=0.44, token_type_acc=0.923, token_type_loss=0.183]  \n",
      "100%|██████████| 256/256 [00:05<00:00, 49.96it/s]0:02:41,  1.05s/it, loss=1.43, pitch_acc=0.134, pitch_loss=0.397, token_type_acc=0.928, token_type_loss=0.178]\n",
      "100%|██████████| 256/256 [00:06<00:00, 41.64it/s]8:25:25,  1.67it/s, loss=1.37, pitch_acc=0.14, pitch_loss=0.369, token_type_acc=0.934, token_type_loss=0.16]   \n",
      "100%|██████████| 256/256 [00:07<00:00, 36.11it/s]6:10:26,  1.82it/s, loss=1.51, pitch_acc=0.143, pitch_loss=0.421, token_type_acc=0.929, token_type_loss=0.173]\n",
      "100%|██████████| 256/256 [00:05<00:00, 48.32it/s]9:56:08,  2.38it/s, loss=1.67, pitch_acc=0.171, pitch_loss=0.454, token_type_acc=0.919, token_type_loss=0.191] \n",
      "100%|██████████| 256/256 [00:07<00:00, 35.74it/s]8:42:45,  1.23it/s, loss=1.5, pitch_acc=0.163, pitch_loss=0.383, token_type_acc=0.934, token_type_loss=0.167]  \n",
      "100%|██████████| 256/256 [00:07<00:00, 33.17it/s]7:36:20,  2.69it/s, loss=1.65, pitch_acc=0.151, pitch_loss=0.465, token_type_acc=0.924, token_type_loss=0.181] \n",
      "100%|██████████| 256/256 [00:07<00:00, 34.22it/s]3:38:48,  1.56s/it, loss=1.5, pitch_acc=0.153, pitch_loss=0.404, token_type_acc=0.929, token_type_loss=0.172]  \n",
      "100%|██████████| 256/256 [00:11<00:00, 22.73it/s]:02:51,  5.87it/s, loss=1.41, pitch_acc=0.14, pitch_loss=0.382, token_type_acc=0.935, token_type_loss=0.161]   \n",
      "100%|██████████| 256/256 [00:05<00:00, 45.54it/s]2:40:33,  1.44it/s, loss=1.59, pitch_acc=0.17, pitch_loss=0.415, token_type_acc=0.911, token_type_loss=0.207]  \n",
      "100%|██████████| 256/256 [00:07<00:00, 36.38it/s]1:14:26,  1.14it/s, loss=1.38, pitch_acc=0.129, pitch_loss=0.378, token_type_acc=0.924, token_type_loss=0.178]\n",
      "100%|██████████| 256/256 [00:03<00:00, 75.12it/s]:44:50,  6.08it/s, loss=1.31, pitch_acc=0.13, pitch_loss=0.353, token_type_acc=0.937, token_type_loss=0.149]   \n",
      "100%|██████████| 256/256 [00:03<00:00, 67.41it/s]:58:21,  4.72it/s, loss=1.41, pitch_acc=0.146, pitch_loss=0.376, token_type_acc=0.932, token_type_loss=0.167] \n",
      "100%|██████████| 256/256 [00:03<00:00, 79.71it/s]:33:08,  5.49it/s, loss=1.54, pitch_acc=0.154, pitch_loss=0.414, token_type_acc=0.918, token_type_loss=0.194] \n",
      "100%|██████████| 256/256 [00:04<00:00, 57.04it/s]:20:28,  7.40it/s, loss=1.34, pitch_acc=0.151, pitch_loss=0.331, token_type_acc=0.932, token_type_loss=0.159] \n",
      "100%|██████████| 256/256 [00:03<00:00, 77.42it/s] 31:18,  6.23it/s, loss=1.36, pitch_acc=0.129, pitch_loss=0.367, token_type_acc=0.93, token_type_loss=0.164]  \n",
      "100%|██████████| 256/256 [00:02<00:00, 97.43it/s] :03:30,  4.65it/s, loss=1.42, pitch_acc=0.142, pitch_loss=0.39, token_type_acc=0.931, token_type_loss=0.165] \n",
      "100%|██████████| 256/256 [00:03<00:00, 73.00it/s]:20:11,  6.37it/s, loss=1.38, pitch_acc=0.124, pitch_loss=0.383, token_type_acc=0.932, token_type_loss=0.167] \n",
      "100%|██████████| 256/256 [00:02<00:00, 94.72it/s] :51:42,  4.30it/s, loss=1.34, pitch_acc=0.121, pitch_loss=0.38, token_type_acc=0.939, token_type_loss=0.151] \n",
      "100%|██████████| 256/256 [00:03<00:00, 79.37it/s]:39:40,  6.09it/s, loss=1.21, pitch_acc=0.0998, pitch_loss=0.353, token_type_acc=0.936, token_type_loss=0.153]\n",
      "100%|██████████| 256/256 [00:02<00:00, 100.43it/s]:10:02,  2.01it/s, loss=1.18, pitch_acc=0.105, pitch_loss=0.334, token_type_acc=0.941, token_type_loss=0.141] \n",
      "100%|██████████| 256/256 [00:04<00:00, 60.88it/s]2:45:39,  3.65it/s, loss=1.25, pitch_acc=0.127, pitch_loss=0.339, token_type_acc=0.938, token_type_loss=0.147]\n",
      "100%|██████████| 256/256 [00:02<00:00, 88.57it/s]0:14:20,  2.30it/s, loss=1.31, pitch_acc=0.139, pitch_loss=0.341, token_type_acc=0.933, token_type_loss=0.164] \n",
      "100%|██████████| 256/256 [00:03<00:00, 69.16it/s]2:44:04,  3.65it/s, loss=1.32, pitch_acc=0.132, pitch_loss=0.351, token_type_acc=0.927, token_type_loss=0.169]\n",
      "100%|██████████| 256/256 [00:03<00:00, 65.00it/s]:06:21,  6.53it/s, loss=1.52, pitch_acc=0.161, pitch_loss=0.408, token_type_acc=0.926, token_type_loss=0.177] \n",
      "100%|██████████| 256/256 [00:02<00:00, 93.86it/s]:43:14,  4.77it/s, loss=1.36, pitch_acc=0.147, pitch_loss=0.363, token_type_acc=0.94, token_type_loss=0.15]   \n",
      "100%|██████████| 256/256 [00:04<00:00, 55.44it/s]6:46:48,  2.76it/s, loss=1.41, pitch_acc=0.127, pitch_loss=0.388, token_type_acc=0.928, token_type_loss=0.169]\n",
      "100%|██████████| 256/256 [00:02<00:00, 88.36it/s] 22:43,  6.26it/s, loss=1.45, pitch_acc=0.166, pitch_loss=0.367, token_type_acc=0.934, token_type_loss=0.16]  \n",
      "100%|██████████| 256/256 [00:02<00:00, 95.10it/s]0:18:16,  1.52it/s, loss=1.25, pitch_acc=0.132, pitch_loss=0.332, token_type_acc=0.941, token_type_loss=0.142]\n",
      "100%|██████████| 256/256 [00:03<00:00, 81.83it/s]3:38:07,  3.38it/s, loss=1.51, pitch_acc=0.158, pitch_loss=0.396, token_type_acc=0.932, token_type_loss=0.165]\n",
      "100%|██████████| 256/256 [00:04<00:00, 58.63it/s]:47:48,  5.23it/s, loss=1.41, pitch_acc=0.145, pitch_loss=0.38, token_type_acc=0.938, token_type_loss=0.155]  \n",
      "100%|██████████| 256/256 [00:04<00:00, 59.02it/s]:58:47,  6.59it/s, loss=1.27, pitch_acc=0.126, pitch_loss=0.342, token_type_acc=0.947, token_type_loss=0.134] \n",
      "100%|██████████| 256/256 [00:04<00:00, 55.57it/s]:39:08,  8.13it/s, loss=1.47, pitch_acc=0.158, pitch_loss=0.399, token_type_acc=0.937, token_type_loss=0.153] \n",
      "100%|██████████| 256/256 [00:04<00:00, 61.05it/s]3:58:06,  3.28it/s, loss=1.35, pitch_acc=0.132, pitch_loss=0.374, token_type_acc=0.94, token_type_loss=0.147] \n",
      "100%|██████████| 256/256 [00:03<00:00, 84.60it/s] 56:29,  5.12it/s, loss=1.28, pitch_acc=0.128, pitch_loss=0.342, token_type_acc=0.938, token_type_loss=0.15]  \n",
      "100%|██████████| 256/256 [00:02<00:00, 101.04it/s]:58:03,  1.83it/s, loss=1.51, pitch_acc=0.135, pitch_loss=0.417, token_type_acc=0.92, token_type_loss=0.195] \n",
      "100%|██████████| 256/256 [00:03<00:00, 69.11it/s]:49:21,  7.85it/s, loss=1.38, pitch_acc=0.154, pitch_loss=0.342, token_type_acc=0.937, token_type_loss=0.154] \n",
      "100%|██████████| 256/256 [00:03<00:00, 66.81it/s]:55:45,  5.76it/s, loss=1.93, pitch_acc=0.168, pitch_loss=0.538, token_type_acc=0.9, token_type_loss=0.229]   \n",
      "100%|██████████| 256/256 [00:04<00:00, 59.94it/s]:04:28,  7.51it/s, loss=1.73, pitch_acc=0.162, pitch_loss=0.455, token_type_acc=0.911, token_type_loss=0.21]  \n",
      "100%|██████████| 256/256 [00:03<00:00, 67.99it/s]2:02:03,  3.78it/s, loss=1.58, pitch_acc=0.164, pitch_loss=0.425, token_type_acc=0.924, token_type_loss=0.186]\n",
      "100%|██████████| 256/256 [00:03<00:00, 70.23it/s] 38:44,  4.72it/s, loss=1.37, pitch_acc=0.145, pitch_loss=0.362, token_type_acc=0.938, token_type_loss=0.156] \n",
      "100%|██████████| 256/256 [00:04<00:00, 56.30it/s]3:32:05,  1.35it/s, loss=1.41, pitch_acc=0.148, pitch_loss=0.371, token_type_acc=0.933, token_type_loss=0.16] \n",
      "100%|██████████| 256/256 [00:03<00:00, 76.98it/s] 45:11,  6.72it/s, loss=1.29, pitch_acc=0.12, pitch_loss=0.362, token_type_acc=0.933, token_type_loss=0.158]   \n",
      "100%|██████████| 256/256 [00:02<00:00, 93.04it/s]9:16:17,  1.15it/s, loss=1.56, pitch_acc=0.153, pitch_loss=0.418, token_type_acc=0.925, token_type_loss=0.189]\n",
      "100%|██████████| 256/256 [00:03<00:00, 74.44it/s]:07:42,  6.35it/s, loss=1.46, pitch_acc=0.16, pitch_loss=0.365, token_type_acc=0.933, token_type_loss=0.165]  \n",
      "100%|██████████| 256/256 [00:03<00:00, 64.34it/s]:13:28,  6.26it/s, loss=1.3, pitch_acc=0.139, pitch_loss=0.344, token_type_acc=0.937, token_type_loss=0.149]  \n",
      "100%|██████████| 256/256 [00:03<00:00, 72.46it/s]0:18:05,  4.38it/s, loss=1.41, pitch_acc=0.146, pitch_loss=0.372, token_type_acc=0.93, token_type_loss=0.163] \n",
      "100%|██████████| 256/256 [00:02<00:00, 100.43it/s]27:10,  4.77it/s, loss=1.22, pitch_acc=0.123, pitch_loss=0.322, token_type_acc=0.941, token_type_loss=0.144] \n",
      "100%|██████████| 256/256 [00:03<00:00, 82.17it/s] 39:18,  6.77it/s, loss=1.2, pitch_acc=0.14, pitch_loss=0.297, token_type_acc=0.948, token_type_loss=0.131]   \n",
      "100%|██████████| 256/256 [00:03<00:00, 76.10it/s]:08:06,  4.92it/s, loss=1.36, pitch_acc=0.13, pitch_loss=0.357, token_type_acc=0.926, token_type_loss=0.169]  \n",
      "100%|██████████| 256/256 [00:03<00:00, 69.96it/s]0:11:27,  4.41it/s, loss=1.49, pitch_acc=0.14, pitch_loss=0.401, token_type_acc=0.926, token_type_loss=0.181] \n",
      "100%|██████████| 256/256 [00:03<00:00, 75.83it/s]4:30:32,  3.09it/s, loss=1.28, pitch_acc=0.129, pitch_loss=0.348, token_type_acc=0.937, token_type_loss=0.153]\n",
      "100%|██████████| 256/256 [00:02<00:00, 97.26it/s] :24:21,  1.70it/s, loss=1.14, pitch_acc=0.119, pitch_loss=0.302, token_type_acc=0.945, token_type_loss=0.135]\n",
      "100%|██████████| 256/256 [00:04<00:00, 61.91it/s]:30:46,  4.71it/s, loss=1.39, pitch_acc=0.133, pitch_loss=0.403, token_type_acc=0.939, token_type_loss=0.151] \n",
      "100%|██████████| 256/256 [00:04<00:00, 62.51it/s]:34:59,  4.67it/s, loss=1.34, pitch_acc=0.146, pitch_loss=0.343, token_type_acc=0.937, token_type_loss=0.154] \n",
      "100%|██████████| 256/256 [00:02<00:00, 89.58it/s] :25:16,  2.08it/s, loss=1.55, pitch_acc=0.147, pitch_loss=0.423, token_type_acc=0.922, token_type_loss=0.182]\n",
      "100%|██████████| 256/256 [00:02<00:00, 99.57it/s]7:44:04,  1.07s/it, loss=1.55, pitch_acc=0.168, pitch_loss=0.396, token_type_acc=0.923, token_type_loss=0.189]\n",
      "100%|██████████| 256/256 [00:03<00:00, 84.83it/s]7:19:38,  2.57it/s, loss=1.42, pitch_acc=0.149, pitch_loss=0.38, token_type_acc=0.937, token_type_loss=0.157] \n",
      "100%|██████████| 256/256 [00:03<00:00, 68.33it/s]:26:31,  5.98it/s, loss=1.24, pitch_acc=0.136, pitch_loss=0.308, token_type_acc=0.937, token_type_loss=0.151] \n",
      "100%|██████████| 256/256 [00:03<00:00, 72.68it/s]:58:33,  4.45it/s, loss=1.31, pitch_acc=0.134, pitch_loss=0.344, token_type_acc=0.938, token_type_loss=0.153] \n",
      "100%|██████████| 256/256 [00:03<00:00, 67.07it/s]:59:10,  6.35it/s, loss=1.58, pitch_acc=0.162, pitch_loss=0.425, token_type_acc=0.925, token_type_loss=0.18]  \n",
      "100%|██████████| 256/256 [00:04<00:00, 61.97it/s]6:05:59,  1.70it/s, loss=1.24, pitch_acc=0.108, pitch_loss=0.356, token_type_acc=0.94, token_type_loss=0.141]  \n",
      "100%|██████████| 256/256 [00:04<00:00, 53.25it/s]2:07:40,  3.65it/s, loss=1.29, pitch_acc=0.135, pitch_loss=0.352, token_type_acc=0.942, token_type_loss=0.146]\n",
      "100%|██████████| 256/256 [00:02<00:00, 92.55it/s] 28:32,  5.91it/s, loss=1.66, pitch_acc=0.151, pitch_loss=0.454, token_type_acc=0.918, token_type_loss=0.193] \n",
      "100%|██████████| 256/256 [00:02<00:00, 113.28it/s]59:23,  7.37it/s, loss=1.33, pitch_acc=0.142, pitch_loss=0.343, token_type_acc=0.941, token_type_loss=0.147] \n",
      "100%|██████████| 256/256 [00:04<00:00, 63.90it/s]:06:34,  7.22it/s, loss=1.19, pitch_acc=0.123, pitch_loss=0.312, token_type_acc=0.943, token_type_loss=0.143] \n",
      "100%|██████████| 256/256 [00:03<00:00, 79.15it/s] 27:14,  8.08it/s, loss=1.65, pitch_acc=0.172, pitch_loss=0.444, token_type_acc=0.916, token_type_loss=0.197] \n",
      "100%|██████████| 256/256 [00:03<00:00, 77.68it/s]2:27:54,  1.96it/s, loss=1.39, pitch_acc=0.148, pitch_loss=0.359, token_type_acc=0.932, token_type_loss=0.169]\n",
      "100%|██████████| 256/256 [00:02<00:00, 88.59it/s] 12:47,  7.07it/s, loss=1.18, pitch_acc=0.117, pitch_loss=0.32, token_type_acc=0.935, token_type_loss=0.153]  \n",
      "100%|██████████| 256/256 [00:03<00:00, 74.73it/s]8:03:10,  1.56it/s, loss=1.37, pitch_acc=0.145, pitch_loss=0.361, token_type_acc=0.94, token_type_loss=0.148]  \n",
      "100%|██████████| 256/256 [00:10<00:00, 23.36it/s]:52:16,  5.57it/s, loss=1.31, pitch_acc=0.123, pitch_loss=0.363, token_type_acc=0.933, token_type_loss=0.154] \n",
      "100%|██████████| 256/256 [00:10<00:00, 25.42it/s]0:15:03,  2.16it/s, loss=1.28, pitch_acc=0.138, pitch_loss=0.338, token_type_acc=0.94, token_type_loss=0.147]  \n",
      "100%|██████████| 256/256 [00:06<00:00, 39.31it/s]8:26:37,  1.14it/s, loss=1.62, pitch_acc=0.141, pitch_loss=0.45, token_type_acc=0.911, token_type_loss=0.208]  \n",
      "100%|██████████| 256/256 [00:05<00:00, 46.46it/s]:16:37,  6.00it/s, loss=1.67, pitch_acc=0.182, pitch_loss=0.442, token_type_acc=0.921, token_type_loss=0.195]  \n",
      "100%|██████████| 256/256 [00:10<00:00, 23.87it/s]2:58:36,  3.36it/s, loss=1.34, pitch_acc=0.144, pitch_loss=0.353, token_type_acc=0.933, token_type_loss=0.157] \n",
      "100%|██████████| 256/256 [00:05<00:00, 43.56it/s]0:40:37,  2.11it/s, loss=1.76, pitch_acc=0.15, pitch_loss=0.487, token_type_acc=0.904, token_type_loss=0.227]  \n",
      "100%|██████████| 256/256 [00:04<00:00, 53.22it/s]4:25:16,  1.02s/it, loss=1.59, pitch_acc=0.147, pitch_loss=0.44, token_type_acc=0.925, token_type_loss=0.185]  \n",
      "100%|██████████| 256/256 [00:04<00:00, 55.12it/s]0:55:42,  2.08it/s, loss=1.35, pitch_acc=0.147, pitch_loss=0.348, token_type_acc=0.934, token_type_loss=0.162]\n",
      "100%|██████████| 256/256 [00:07<00:00, 35.85it/s]4:38:40,  1.03s/it, loss=1.37, pitch_acc=0.129, pitch_loss=0.374, token_type_acc=0.942, token_type_loss=0.149]\n",
      "100%|██████████| 256/256 [00:07<00:00, 36.56it/s]0:08:12,  4.27it/s, loss=1.33, pitch_acc=0.137, pitch_loss=0.365, token_type_acc=0.934, token_type_loss=0.154] \n",
      "100%|██████████| 256/256 [00:07<00:00, 35.78it/s]5:47:01,  1.68it/s, loss=1.35, pitch_acc=0.142, pitch_loss=0.348, token_type_acc=0.934, token_type_loss=0.161] \n",
      "100%|██████████| 256/256 [00:05<00:00, 47.07it/s]2:43:00,  1.90it/s, loss=1.53, pitch_acc=0.179, pitch_loss=0.387, token_type_acc=0.927, token_type_loss=0.177] \n",
      "100%|██████████| 256/256 [00:05<00:00, 45.82it/s]3:31:55,  3.19it/s, loss=1.71, pitch_acc=0.156, pitch_loss=0.477, token_type_acc=0.92, token_type_loss=0.187]  \n",
      "100%|██████████| 256/256 [00:07<00:00, 33.08it/s]6:24:52,  2.63it/s, loss=1.32, pitch_acc=0.134, pitch_loss=0.353, token_type_acc=0.94, token_type_loss=0.149] \n",
      "100%|██████████| 256/256 [00:07<00:00, 36.10it/s]7:18:23,  1.10s/it, loss=1.63, pitch_acc=0.164, pitch_loss=0.426, token_type_acc=0.917, token_type_loss=0.199]\n",
      "100%|██████████| 256/256 [00:06<00:00, 39.30it/s]4:17:13,  1.25it/s, loss=1.46, pitch_acc=0.125, pitch_loss=0.421, token_type_acc=0.933, token_type_loss=0.165] \n",
      "100%|██████████| 256/256 [00:06<00:00, 37.75it/s]4:27:35,  2.97it/s, loss=1.45, pitch_acc=0.154, pitch_loss=0.379, token_type_acc=0.928, token_type_loss=0.164] \n",
      "100%|██████████| 256/256 [00:08<00:00, 30.71it/s]28:14:59,  1.52it/s, loss=1.43, pitch_acc=0.148, pitch_loss=0.375, token_type_acc=0.933, token_type_loss=0.163]\n",
      "100%|██████████| 256/256 [00:05<00:00, 46.52it/s]28:29:59,  1.50it/s, loss=1.61, pitch_acc=0.169, pitch_loss=0.433, token_type_acc=0.918, token_type_loss=0.194] \n",
      "100%|██████████| 256/256 [00:05<00:00, 43.63it/s]36:26:34,  1.17it/s, loss=1.72, pitch_acc=0.155, pitch_loss=0.479, token_type_acc=0.898, token_type_loss=0.237] \n",
      "100%|██████████| 256/256 [00:05<00:00, 43.39it/s]13:57:07,  3.06it/s, loss=1.34, pitch_acc=0.146, pitch_loss=0.354, token_type_acc=0.94, token_type_loss=0.149]  \n",
      "100%|██████████| 256/256 [00:09<00:00, 26.54it/s]20:01:26,  2.13it/s, loss=1.47, pitch_acc=0.137, pitch_loss=0.404, token_type_acc=0.922, token_type_loss=0.185] \n",
      "100%|██████████| 256/256 [00:04<00:00, 62.70it/s]7:10:56,  5.93it/s, loss=1.6, pitch_acc=0.139, pitch_loss=0.455, token_type_acc=0.917, token_type_loss=0.195]   \n",
      "100%|██████████| 256/256 [00:04<00:00, 61.14it/s]8:52:37,  4.79it/s, loss=1.42, pitch_acc=0.13, pitch_loss=0.388, token_type_acc=0.927, token_type_loss=0.172]  \n",
      "100%|██████████| 256/256 [00:05<00:00, 49.86it/s]14:45:44,  2.88it/s, loss=1.26, pitch_acc=0.129, pitch_loss=0.335, token_type_acc=0.942, token_type_loss=0.145]\n",
      "100%|██████████| 256/256 [00:02<00:00, 86.75it/s] 7:35:08,  2.41it/s, loss=1.71, pitch_acc=0.131, pitch_loss=0.509, token_type_acc=0.901, token_type_loss=0.224]\n",
      "100%|██████████| 256/256 [00:07<00:00, 35.14it/s]10:18:24,  4.11it/s, loss=1.48, pitch_acc=0.138, pitch_loss=0.4, token_type_acc=0.921, token_type_loss=0.179]  \n",
      "100%|██████████| 256/256 [00:05<00:00, 49.92it/s]15:38:06,  2.71it/s, loss=1.4, pitch_acc=0.138, pitch_loss=0.375, token_type_acc=0.918, token_type_loss=0.183]  \n",
      "100%|██████████| 256/256 [00:09<00:00, 26.26it/s]8:02:38,  5.25it/s, loss=1.34, pitch_acc=0.127, pitch_loss=0.373, token_type_acc=0.934, token_type_loss=0.154] \n",
      "100%|██████████| 256/256 [00:07<00:00, 35.53it/s]14:16:03,  2.96it/s, loss=1.69, pitch_acc=0.159, pitch_loss=0.469, token_type_acc=0.918, token_type_loss=0.197] \n",
      "100%|██████████| 256/256 [00:07<00:00, 32.68it/s]14:32:24,  2.90it/s, loss=1.27, pitch_acc=0.124, pitch_loss=0.343, token_type_acc=0.936, token_type_loss=0.15]  \n",
      "100%|██████████| 256/256 [00:06<00:00, 38.08it/s]18:19:36,  2.30it/s, loss=1.44, pitch_acc=0.157, pitch_loss=0.368, token_type_acc=0.935, token_type_loss=0.162] \n",
      "100%|██████████| 256/256 [00:05<00:00, 44.17it/s]19:14:52,  2.18it/s, loss=1.72, pitch_acc=0.17, pitch_loss=0.45, token_type_acc=0.91, token_type_loss=0.21]     \n",
      "100%|██████████| 256/256 [00:05<00:00, 50.45it/s]14:33:57,  2.88it/s, loss=1.35, pitch_acc=0.152, pitch_loss=0.35, token_type_acc=0.94, token_type_loss=0.147]   \n",
      "100%|██████████| 256/256 [00:05<00:00, 50.03it/s]14:58:31,  2.80it/s, loss=1.49, pitch_acc=0.149, pitch_loss=0.412, token_type_acc=0.926, token_type_loss=0.177]\n",
      "100%|██████████| 256/256 [00:07<00:00, 35.26it/s]11:19:05,  3.70it/s, loss=1.37, pitch_acc=0.139, pitch_loss=0.358, token_type_acc=0.936, token_type_loss=0.157]\n",
      "100%|██████████| 256/256 [00:07<00:00, 32.93it/s]19:16:33,  2.17it/s, loss=1.51, pitch_acc=0.167, pitch_loss=0.391, token_type_acc=0.929, token_type_loss=0.17]  \n",
      "100%|██████████| 256/256 [00:05<00:00, 45.00it/s]9:53:40,  4.22it/s, loss=1.3, pitch_acc=0.166, pitch_loss=0.316, token_type_acc=0.95, token_type_loss=0.13]     \n",
      "100%|██████████| 256/256 [00:06<00:00, 38.72it/s]9:15:53,  4.50it/s, loss=1.5, pitch_acc=0.163, pitch_loss=0.391, token_type_acc=0.927, token_type_loss=0.174]  \n",
      "100%|██████████| 256/256 [00:07<00:00, 34.49it/s]8:47:31,  4.74it/s, loss=1.57, pitch_acc=0.162, pitch_loss=0.415, token_type_acc=0.925, token_type_loss=0.181]  \n",
      "100%|██████████| 256/256 [00:06<00:00, 41.36it/s]10:24:02,  4.00it/s, loss=1.62, pitch_acc=0.157, pitch_loss=0.437, token_type_acc=0.914, token_type_loss=0.205] \n",
      "100%|██████████| 256/256 [00:14<00:00, 17.62it/s]10:54:57,  3.81it/s, loss=1.31, pitch_acc=0.137, pitch_loss=0.334, token_type_acc=0.934, token_type_loss=0.157] \n",
      "100%|██████████| 256/256 [00:03<00:00, 65.25it/s]6:08:32,  6.75it/s, loss=1.31, pitch_acc=0.15, pitch_loss=0.328, token_type_acc=0.935, token_type_loss=0.159]   \n",
      "100%|██████████| 256/256 [00:05<00:00, 49.96it/s]18:38:43,  2.22it/s, loss=1.36, pitch_acc=0.165, pitch_loss=0.338, token_type_acc=0.944, token_type_loss=0.137]\n",
      "100%|██████████| 256/256 [00:04<00:00, 52.07it/s]14:37:24,  2.83it/s, loss=1.5, pitch_acc=0.134, pitch_loss=0.423, token_type_acc=0.923, token_type_loss=0.185] \n",
      "100%|██████████| 256/256 [00:06<00:00, 38.86it/s]13:10:34,  3.14it/s, loss=1.34, pitch_acc=0.155, pitch_loss=0.345, token_type_acc=0.939, token_type_loss=0.147]\n",
      "100%|██████████| 256/256 [00:05<00:00, 49.36it/s]10:44:41,  3.84it/s, loss=1.35, pitch_acc=0.146, pitch_loss=0.345, token_type_acc=0.931, token_type_loss=0.162] \n",
      "100%|██████████| 256/256 [00:07<00:00, 33.39it/s]18:08:03,  2.27it/s, loss=1.54, pitch_acc=0.161, pitch_loss=0.418, token_type_acc=0.93, token_type_loss=0.173] \n",
      "100%|██████████| 256/256 [00:05<00:00, 47.52it/s]9:54:47,  4.15it/s, loss=1.54, pitch_acc=0.151, pitch_loss=0.411, token_type_acc=0.926, token_type_loss=0.18]  \n",
      "100%|██████████| 256/256 [00:06<00:00, 40.21it/s]60:19:38,  1.47s/it, loss=1.29, pitch_acc=0.128, pitch_loss=0.341, token_type_acc=0.936, token_type_loss=0.158]\n",
      "100%|██████████| 256/256 [00:08<00:00, 30.94it/s]27:35:58,  1.49it/s, loss=1.61, pitch_acc=0.15, pitch_loss=0.445, token_type_acc=0.916, token_type_loss=0.202]  \n",
      "100%|██████████| 256/256 [00:05<00:00, 46.72it/s]18:53:46,  2.17it/s, loss=1.39, pitch_acc=0.114, pitch_loss=0.42, token_type_acc=0.934, token_type_loss=0.155]  \n",
      "100%|██████████| 256/256 [00:05<00:00, 49.15it/s]27:08:45,  1.51it/s, loss=1.55, pitch_acc=0.142, pitch_loss=0.433, token_type_acc=0.914, token_type_loss=0.2]  \n",
      "100%|██████████| 256/256 [00:06<00:00, 39.64it/s]7:05:34,  5.76it/s, loss=1.63, pitch_acc=0.174, pitch_loss=0.41, token_type_acc=0.916, token_type_loss=0.202]   \n",
      "100%|██████████| 256/256 [00:06<00:00, 42.33it/s]9:59:54,  4.08it/s, loss=1.82, pitch_acc=0.155, pitch_loss=0.519, token_type_acc=0.9, token_type_loss=0.234]   \n",
      "100%|██████████| 256/256 [00:09<00:00, 25.63it/s]39:50:17,  1.02it/s, loss=1.44, pitch_acc=0.143, pitch_loss=0.386, token_type_acc=0.926, token_type_loss=0.186]\n",
      "100%|██████████| 256/256 [00:08<00:00, 29.91it/s]11:30:13,  3.54it/s, loss=1.39, pitch_acc=0.138, pitch_loss=0.367, token_type_acc=0.93, token_type_loss=0.164]  \n",
      "100%|██████████| 256/256 [00:03<00:00, 66.05it/s]26:29:10,  1.53it/s, loss=1.47, pitch_acc=0.155, pitch_loss=0.386, token_type_acc=0.931, token_type_loss=0.168] \n",
      "100%|██████████| 256/256 [00:04<00:00, 51.47it/s]19:20:39,  2.10it/s, loss=1.72, pitch_acc=0.16, pitch_loss=0.485, token_type_acc=0.92, token_type_loss=0.187]  \n",
      "100%|██████████| 256/256 [00:07<00:00, 36.46it/s]29:56:26,  1.35it/s, loss=1.73, pitch_acc=0.166, pitch_loss=0.471, token_type_acc=0.902, token_type_loss=0.215]\n",
      "100%|██████████| 256/256 [00:06<00:00, 40.88it/s]6:13:06,  6.51it/s, loss=1.47, pitch_acc=0.141, pitch_loss=0.406, token_type_acc=0.927, token_type_loss=0.178]  \n",
      "100%|██████████| 256/256 [00:04<00:00, 52.78it/s]17:04:18,  2.37it/s, loss=1.42, pitch_acc=0.145, pitch_loss=0.373, token_type_acc=0.932, token_type_loss=0.167]\n",
      "100%|██████████| 256/256 [00:07<00:00, 35.16it/s]15:21:14,  2.63it/s, loss=1.35, pitch_acc=0.129, pitch_loss=0.36, token_type_acc=0.93, token_type_loss=0.165]  \n",
      "100%|██████████| 256/256 [00:09<00:00, 27.11it/s]6:05:18,  6.62it/s, loss=1.53, pitch_acc=0.166, pitch_loss=0.404, token_type_acc=0.934, token_type_loss=0.163] \n",
      "100%|██████████| 256/256 [00:05<00:00, 43.25it/s]25:24:42,  1.58it/s, loss=1.62, pitch_acc=0.172, pitch_loss=0.427, token_type_acc=0.927, token_type_loss=0.172] \n",
      "100%|██████████| 256/256 [00:06<00:00, 39.53it/s]20:08:20,  2.00it/s, loss=1.7, pitch_acc=0.155, pitch_loss=0.472, token_type_acc=0.917, token_type_loss=0.202]  \n",
      "100%|██████████| 256/256 [00:06<00:00, 39.49it/s]9:44:13,  4.12it/s, loss=1.57, pitch_acc=0.187, pitch_loss=0.386, token_type_acc=0.931, token_type_loss=0.173] \n",
      "100%|██████████| 256/256 [00:07<00:00, 35.39it/s]7:15:38,  5.52it/s, loss=1.47, pitch_acc=0.145, pitch_loss=0.4, token_type_acc=0.927, token_type_loss=0.172]    \n",
      "100%|██████████| 256/256 [00:06<00:00, 42.62it/s]7:00:55,  5.71it/s, loss=1.42, pitch_acc=0.152, pitch_loss=0.364, token_type_acc=0.926, token_type_loss=0.174]   \n",
      "100%|██████████| 256/256 [00:05<00:00, 47.16it/s]58:46:50,  1.47s/it, loss=1.4, pitch_acc=0.13, pitch_loss=0.383, token_type_acc=0.928, token_type_loss=0.168]   \n",
      "100%|██████████| 256/256 [00:07<00:00, 32.76it/s]20:19:09,  1.97it/s, loss=1.35, pitch_acc=0.139, pitch_loss=0.358, token_type_acc=0.934, token_type_loss=0.16]  \n",
      "100%|██████████| 256/256 [00:05<00:00, 44.51it/s]12:53:27,  3.09it/s, loss=1.46, pitch_acc=0.152, pitch_loss=0.386, token_type_acc=0.929, token_type_loss=0.172] \n",
      "100%|██████████| 256/256 [00:05<00:00, 50.32it/s]12:10:25,  3.27it/s, loss=1.6, pitch_acc=0.164, pitch_loss=0.416, token_type_acc=0.921, token_type_loss=0.188] \n",
      "100%|██████████| 256/256 [00:07<00:00, 33.56it/s]9:13:15,  4.31it/s, loss=1.52, pitch_acc=0.155, pitch_loss=0.407, token_type_acc=0.927, token_type_loss=0.181] \n",
      "100%|██████████| 256/256 [00:06<00:00, 38.05it/s]101:55:54,  2.57s/it, loss=1.6, pitch_acc=0.153, pitch_loss=0.453, token_type_acc=0.932, token_type_loss=0.171] \n",
      "100%|██████████| 256/256 [00:06<00:00, 41.99it/s]5:27:21,  7.27it/s, loss=1.35, pitch_acc=0.152, pitch_loss=0.351, token_type_acc=0.938, token_type_loss=0.155]  \n",
      "100%|██████████| 256/256 [00:10<00:00, 25.39it/s]12:01:29,  3.29it/s, loss=1.27, pitch_acc=0.141, pitch_loss=0.336, token_type_acc=0.943, token_type_loss=0.137]\n",
      "100%|██████████| 256/256 [00:08<00:00, 31.56it/s]25:27:54,  1.55it/s, loss=1.48, pitch_acc=0.152, pitch_loss=0.4, token_type_acc=0.922, token_type_loss=0.186]   \n",
      "100%|██████████| 256/256 [00:06<00:00, 42.30it/s]13:37:25,  2.90it/s, loss=1.45, pitch_acc=0.14, pitch_loss=0.383, token_type_acc=0.925, token_type_loss=0.175]  \n",
      "100%|██████████| 256/256 [00:05<00:00, 51.20it/s]8:10:50,  4.82it/s, loss=1.57, pitch_acc=0.159, pitch_loss=0.41, token_type_acc=0.913, token_type_loss=0.209]  \n",
      "100%|██████████| 256/256 [00:03<00:00, 66.09it/s]7:56:31,  4.96it/s, loss=1.57, pitch_acc=0.162, pitch_loss=0.411, token_type_acc=0.924, token_type_loss=0.18]  \n",
      "100%|██████████| 256/256 [00:03<00:00, 74.86it/s]7:02:58,  5.58it/s, loss=1.39, pitch_acc=0.132, pitch_loss=0.382, token_type_acc=0.935, token_type_loss=0.16]  \n",
      "100%|██████████| 256/256 [00:03<00:00, 67.32it/s]7:02:26,  5.58it/s, loss=1.78, pitch_acc=0.186, pitch_loss=0.455, token_type_acc=0.902, token_type_loss=0.229] \n",
      "100%|██████████| 256/256 [00:04<00:00, 54.16it/s]8:34:08,  4.58it/s, loss=1.37, pitch_acc=0.141, pitch_loss=0.369, token_type_acc=0.94, token_type_loss=0.152]  \n",
      "100%|██████████| 256/256 [00:03<00:00, 64.58it/s]5:59:21,  6.54it/s, loss=1.52, pitch_acc=0.145, pitch_loss=0.419, token_type_acc=0.923, token_type_loss=0.182]  \n",
      "100%|██████████| 256/256 [00:04<00:00, 59.20it/s]5:40:21,  6.89it/s, loss=1.45, pitch_acc=0.163, pitch_loss=0.375, token_type_acc=0.935, token_type_loss=0.162] \n",
      "100%|██████████| 256/256 [00:03<00:00, 64.79it/s]7:32:29,  5.18it/s, loss=1.59, pitch_acc=0.167, pitch_loss=0.413, token_type_acc=0.918, token_type_loss=0.19]  \n",
      "100%|██████████| 256/256 [00:04<00:00, 59.63it/s]8:25:26,  4.63it/s, loss=1.32, pitch_acc=0.142, pitch_loss=0.351, token_type_acc=0.938, token_type_loss=0.15]  \n",
      "100%|██████████| 256/256 [00:03<00:00, 74.09it/s]6:30:30,  5.98it/s, loss=1.51, pitch_acc=0.15, pitch_loss=0.388, token_type_acc=0.916, token_type_loss=0.202]  \n",
      "100%|██████████| 256/256 [00:03<00:00, 69.66it/s]16:34:40,  2.35it/s, loss=1.23, pitch_acc=0.127, pitch_loss=0.328, token_type_acc=0.939, token_type_loss=0.142]\n",
      "100%|██████████| 256/256 [00:03<00:00, 75.77it/s]9:51:21,  3.94it/s, loss=1.39, pitch_acc=0.139, pitch_loss=0.382, token_type_acc=0.932, token_type_loss=0.16]  \n",
      "100%|██████████| 256/256 [00:02<00:00, 91.21it/s] 7:08:25,  2.26it/s, loss=1.11, pitch_acc=0.128, pitch_loss=0.277, token_type_acc=0.943, token_type_loss=0.141]\n",
      "100%|██████████| 256/256 [00:03<00:00, 84.12it/s]6:24:42,  6.04it/s, loss=1.34, pitch_acc=0.142, pitch_loss=0.349, token_type_acc=0.939, token_type_loss=0.148] \n",
      "100%|██████████| 256/256 [00:04<00:00, 61.91it/s]7:42:18,  5.02it/s, loss=1.43, pitch_acc=0.164, pitch_loss=0.364, token_type_acc=0.936, token_type_loss=0.155] \n",
      "100%|██████████| 256/256 [00:02<00:00, 98.31it/s] 0:34:07,  3.65it/s, loss=1.34, pitch_acc=0.135, pitch_loss=0.356, token_type_acc=0.93, token_type_loss=0.169] \n",
      "100%|██████████| 256/256 [00:03<00:00, 68.81it/s]12:51:13,  3.00it/s, loss=1.74, pitch_acc=0.193, pitch_loss=0.456, token_type_acc=0.931, token_type_loss=0.174]\n",
      "100%|██████████| 256/256 [00:03<00:00, 78.50it/s]12:48:56,  3.00it/s, loss=1.45, pitch_acc=0.149, pitch_loss=0.366, token_type_acc=0.924, token_type_loss=0.184]\n",
      "100%|██████████| 256/256 [00:05<00:00, 49.21it/s]7:49:04,  4.92it/s, loss=1.7, pitch_acc=0.182, pitch_loss=0.442, token_type_acc=0.929, token_type_loss=0.171]  \n",
      "100%|██████████| 256/256 [00:03<00:00, 78.65it/s] :59:47,  4.80it/s, loss=1.26, pitch_acc=0.124, pitch_loss=0.342, token_type_acc=0.941, token_type_loss=0.141] \n",
      "100%|██████████| 256/256 [00:04<00:00, 56.49it/s]6:36:17,  5.80it/s, loss=1.49, pitch_acc=0.14, pitch_loss=0.434, token_type_acc=0.931, token_type_loss=0.165]  \n",
      "100%|██████████| 256/256 [00:02<00:00, 112.73it/s]5:16:10,  2.51it/s, loss=1.34, pitch_acc=0.133, pitch_loss=0.362, token_type_acc=0.932, token_type_loss=0.16] \n",
      "100%|██████████| 256/256 [00:03<00:00, 73.71it/s]5:55:43,  6.44it/s, loss=1.55, pitch_acc=0.142, pitch_loss=0.444, token_type_acc=0.931, token_type_loss=0.171] \n",
      "100%|██████████| 256/256 [00:02<00:00, 106.57it/s]6:44:05,  2.28it/s, loss=1.42, pitch_acc=0.133, pitch_loss=0.384, token_type_acc=0.933, token_type_loss=0.162]\n",
      "100%|██████████| 256/256 [00:04<00:00, 55.32it/s]14:12:11,  2.68it/s, loss=1.86, pitch_acc=0.161, pitch_loss=0.524, token_type_acc=0.898, token_type_loss=0.233]\n",
      "100%|██████████| 256/256 [00:03<00:00, 83.61it/s] :36:36,  8.25it/s, loss=1.44, pitch_acc=0.167, pitch_loss=0.366, token_type_acc=0.936, token_type_loss=0.154] \n",
      "100%|██████████| 256/256 [00:03<00:00, 66.72it/s] :27:13,  4.02it/s, loss=1.23, pitch_acc=0.132, pitch_loss=0.321, token_type_acc=0.94, token_type_loss=0.142]  \n",
      "100%|██████████| 256/256 [00:04<00:00, 61.74it/s]5:20:03,  7.11it/s, loss=1.46, pitch_acc=0.163, pitch_loss=0.384, token_type_acc=0.939, token_type_loss=0.153] \n",
      "100%|██████████| 256/256 [00:05<00:00, 49.44it/s]6:27:31,  5.86it/s, loss=1.27, pitch_acc=0.129, pitch_loss=0.345, token_type_acc=0.936, token_type_loss=0.155] \n",
      "100%|██████████| 256/256 [00:03<00:00, 76.30it/s]5:37:57,  6.71it/s, loss=1.52, pitch_acc=0.154, pitch_loss=0.406, token_type_acc=0.917, token_type_loss=0.198] \n",
      "100%|██████████| 256/256 [00:02<00:00, 87.19it/s] :46:03,  4.86it/s, loss=1.5, pitch_acc=0.152, pitch_loss=0.392, token_type_acc=0.923, token_type_loss=0.181]  \n",
      "100%|██████████| 256/256 [00:03<00:00, 79.12it/s] :09:47,  5.26it/s, loss=1.67, pitch_acc=0.16, pitch_loss=0.441, token_type_acc=0.908, token_type_loss=0.21]   \n",
      "100%|██████████| 256/256 [00:03<00:00, 70.42it/s]23:02:42,  1.63it/s, loss=1.47, pitch_acc=0.163, pitch_loss=0.375, token_type_acc=0.932, token_type_loss=0.163]\n",
      "100%|██████████| 256/256 [00:04<00:00, 61.79it/s]5:44:20,  6.55it/s, loss=1.26, pitch_acc=0.138, pitch_loss=0.329, token_type_acc=0.942, token_type_loss=0.139] \n",
      "100%|██████████| 256/256 [00:04<00:00, 52.33it/s]6:11:42,  6.06it/s, loss=1.74, pitch_acc=0.179, pitch_loss=0.445, token_type_acc=0.906, token_type_loss=0.217] \n",
      "100%|██████████| 256/256 [00:03<00:00, 66.32it/s]6:07:19,  6.12it/s, loss=1.69, pitch_acc=0.176, pitch_loss=0.441, token_type_acc=0.917, token_type_loss=0.198] \n",
      "100%|██████████| 256/256 [00:03<00:00, 74.74it/s]12:20:19,  3.03it/s, loss=1.58, pitch_acc=0.163, pitch_loss=0.418, token_type_acc=0.925, token_type_loss=0.181]\n",
      "100%|██████████| 256/256 [00:03<00:00, 83.94it/s] 3:15:18,  2.82it/s, loss=1.65, pitch_acc=0.156, pitch_loss=0.453, token_type_acc=0.915, token_type_loss=0.194]\n",
      "100%|██████████| 256/256 [00:03<00:00, 80.72it/s]8:51:05,  4.22it/s, loss=1.51, pitch_acc=0.157, pitch_loss=0.401, token_type_acc=0.932, token_type_loss=0.168]  \n",
      "100%|██████████| 256/256 [00:03<00:00, 84.95it/s] :09:19,  5.21it/s, loss=1.32, pitch_acc=0.133, pitch_loss=0.348, token_type_acc=0.932, token_type_loss=0.156] \n",
      "100%|██████████| 256/256 [00:07<00:00, 33.56it/s]13:36:31,  2.73it/s, loss=1.36, pitch_acc=0.124, pitch_loss=0.379, token_type_acc=0.93, token_type_loss=0.165] \n",
      "100%|██████████| 256/256 [00:02<00:00, 86.23it/s]9:50:56,  3.77it/s, loss=1.55, pitch_acc=0.158, pitch_loss=0.41, token_type_acc=0.931, token_type_loss=0.168]   \n",
      "100%|██████████| 256/256 [00:04<00:00, 52.59it/s]22:32:07,  1.65it/s, loss=1.22, pitch_acc=0.137, pitch_loss=0.297, token_type_acc=0.938, token_type_loss=0.144]\n",
      "100%|██████████| 256/256 [00:03<00:00, 84.55it/s]26:42:35,  1.39it/s, loss=1.34, pitch_acc=0.131, pitch_loss=0.35, token_type_acc=0.925, token_type_loss=0.173] \n",
      "100%|██████████| 256/256 [00:03<00:00, 81.41it/s] 0:10:28,  3.64it/s, loss=1.2, pitch_acc=0.145, pitch_loss=0.292, token_type_acc=0.948, token_type_loss=0.126] \n",
      "100%|██████████| 256/256 [00:03<00:00, 65.36it/s]4:43:35,  7.81it/s, loss=1.23, pitch_acc=0.124, pitch_loss=0.33, token_type_acc=0.941, token_type_loss=0.143]  \n",
      "100%|██████████| 256/256 [00:02<00:00, 86.49it/s] 3:15:30,  2.78it/s, loss=1.27, pitch_acc=0.137, pitch_loss=0.331, token_type_acc=0.939, token_type_loss=0.148]\n",
      "100%|██████████| 256/256 [00:03<00:00, 76.21it/s]5:13:02,  7.06it/s, loss=1.81, pitch_acc=0.185, pitch_loss=0.477, token_type_acc=0.911, token_type_loss=0.214] \n",
      "100%|██████████| 256/256 [00:04<00:00, 60.93it/s]12:26:35,  2.95it/s, loss=1.38, pitch_acc=0.133, pitch_loss=0.379, token_type_acc=0.931, token_type_loss=0.16] \n",
      "100%|██████████| 256/256 [00:03<00:00, 83.94it/s]4:46:02,  7.70it/s, loss=1.28, pitch_acc=0.14, pitch_loss=0.327, token_type_acc=0.939, token_type_loss=0.154]  \n",
      "100%|██████████| 256/256 [00:03<00:00, 77.91it/s]7:48:23,  4.70it/s, loss=1.35, pitch_acc=0.125, pitch_loss=0.372, token_type_acc=0.927, token_type_loss=0.174] \n",
      "100%|██████████| 256/256 [00:04<00:00, 58.47it/s]8:35:50,  4.26it/s, loss=1.66, pitch_acc=0.176, pitch_loss=0.425, token_type_acc=0.92, token_type_loss=0.187]  \n",
      "100%|██████████| 256/256 [00:04<00:00, 58.07it/s]11:07:30,  3.28it/s, loss=1.53, pitch_acc=0.146, pitch_loss=0.407, token_type_acc=0.916, token_type_loss=0.193]\n",
      "100%|██████████| 256/256 [00:04<00:00, 52.80it/s]11:00:59,  3.31it/s, loss=1.46, pitch_acc=0.137, pitch_loss=0.403, token_type_acc=0.925, token_type_loss=0.176]\n",
      "100%|██████████| 256/256 [00:03<00:00, 65.86it/s]6:03:39,  6.01it/s, loss=1.49, pitch_acc=0.163, pitch_loss=0.388, token_type_acc=0.928, token_type_loss=0.168] \n",
      "100%|██████████| 256/256 [00:03<00:00, 68.27it/s]7:55:21,  4.59it/s, loss=1.36, pitch_acc=0.139, pitch_loss=0.36, token_type_acc=0.929, token_type_loss=0.169]  \n",
      "100%|██████████| 256/256 [00:02<00:00, 95.65it/s] :29:05,  5.60it/s, loss=1.3, pitch_acc=0.123, pitch_loss=0.374, token_type_acc=0.947, token_type_loss=0.126]  \n",
      "100%|██████████| 256/256 [00:04<00:00, 58.90it/s]17:36:55,  2.06it/s, loss=1.26, pitch_acc=0.135, pitch_loss=0.329, token_type_acc=0.939, token_type_loss=0.147]\n",
      "100%|██████████| 256/256 [00:03<00:00, 74.77it/s]8:12:24,  4.41it/s, loss=1.49, pitch_acc=0.156, pitch_loss=0.401, token_type_acc=0.929, token_type_loss=0.166] \n",
      "100%|██████████| 256/256 [00:03<00:00, 66.77it/s]5:19:24,  6.79it/s, loss=1.55, pitch_acc=0.159, pitch_loss=0.417, token_type_acc=0.931, token_type_loss=0.166] \n",
      "100%|██████████| 256/256 [00:04<00:00, 53.64it/s]5:09:17,  7.00it/s, loss=1.5, pitch_acc=0.141, pitch_loss=0.408, token_type_acc=0.921, token_type_loss=0.192]  \n",
      "100%|██████████| 256/256 [00:02<00:00, 91.26it/s]5:06:03,  7.07it/s, loss=1.5, pitch_acc=0.151, pitch_loss=0.409, token_type_acc=0.926, token_type_loss=0.171]  \n",
      "100%|██████████| 256/256 [00:03<00:00, 69.66it/s]<9:01:36,  3.99it/s, loss=1.57, pitch_acc=0.161, pitch_loss=0.41, token_type_acc=0.925, token_type_loss=0.181] \n",
      "100%|██████████| 256/256 [00:02<00:00, 98.33it/s] 9:51:40,  3.64it/s, loss=1.36, pitch_acc=0.137, pitch_loss=0.379, token_type_acc=0.94, token_type_loss=0.147]  \n",
      "100%|██████████| 256/256 [00:02<00:00, 96.44it/s] 9:37:18,  3.73it/s, loss=1.25, pitch_acc=0.129, pitch_loss=0.331, token_type_acc=0.942, token_type_loss=0.141] \n",
      "100%|██████████| 256/256 [00:04<00:00, 60.91it/s]<14:25:07,  2.48it/s, loss=1.3, pitch_acc=0.142, pitch_loss=0.326, token_type_acc=0.946, token_type_loss=0.135] \n",
      "100%|██████████| 256/256 [00:03<00:00, 66.43it/s]<13:40:20,  2.62it/s, loss=1.38, pitch_acc=0.137, pitch_loss=0.374, token_type_acc=0.93, token_type_loss=0.169] \n",
      "100%|██████████| 256/256 [00:03<00:00, 69.54it/s]<4:35:44,  7.77it/s, loss=1.26, pitch_acc=0.151, pitch_loss=0.307, token_type_acc=0.942, token_type_loss=0.141] \n",
      "100%|██████████| 256/256 [00:03<00:00, 70.75it/s]<5:26:42,  6.55it/s, loss=1.37, pitch_acc=0.128, pitch_loss=0.373, token_type_acc=0.927, token_type_loss=0.175] \n",
      "100%|██████████| 256/256 [00:02<00:00, 116.61it/s]16:20:21,  2.18it/s, loss=1.6, pitch_acc=0.154, pitch_loss=0.447, token_type_acc=0.924, token_type_loss=0.181] \n",
      "100%|██████████| 256/256 [00:03<00:00, 72.74it/s]<5:20:06,  6.66it/s, loss=1.37, pitch_acc=0.125, pitch_loss=0.379, token_type_acc=0.93, token_type_loss=0.17]   \n",
      "100%|██████████| 256/256 [00:03<00:00, 79.08it/s]<8:16:16,  4.29it/s, loss=1.55, pitch_acc=0.179, pitch_loss=0.39, token_type_acc=0.921, token_type_loss=0.19]   \n",
      "100%|██████████| 256/256 [00:03<00:00, 84.97it/s] 13:12:53,  2.68it/s, loss=1.38, pitch_acc=0.142, pitch_loss=0.368, token_type_acc=0.934, token_type_loss=0.161]\n",
      "100%|██████████| 256/256 [00:02<00:00, 105.24it/s]5:46:43,  6.12it/s, loss=1.18, pitch_acc=0.126, pitch_loss=0.298, token_type_acc=0.936, token_type_loss=0.152] \n",
      "100%|██████████| 256/256 [00:03<00:00, 70.15it/s]<6:35:47,  5.35it/s, loss=1.45, pitch_acc=0.148, pitch_loss=0.375, token_type_acc=0.924, token_type_loss=0.172] \n",
      "100%|██████████| 256/256 [00:03<00:00, 78.19it/s]<8:14:00,  4.28it/s, loss=1.51, pitch_acc=0.147, pitch_loss=0.41, token_type_acc=0.927, token_type_loss=0.176]  \n",
      "100%|██████████| 256/256 [00:03<00:00, 72.47it/s]<11:32:35,  3.05it/s, loss=1.65, pitch_acc=0.169, pitch_loss=0.439, token_type_acc=0.922, token_type_loss=0.181]\n",
      "100%|██████████| 256/256 [00:02<00:00, 100.54it/s]21:25:07,  1.64it/s, loss=1.53, pitch_acc=0.153, pitch_loss=0.418, token_type_acc=0.93, token_type_loss=0.168] \n",
      "100%|██████████| 256/256 [00:03<00:00, 68.80it/s]<6:38:28,  5.28it/s, loss=1.46, pitch_acc=0.17, pitch_loss=0.364, token_type_acc=0.933, token_type_loss=0.161]  \n",
      "100%|██████████| 256/256 [00:05<00:00, 49.97it/s]<5:34:38,  6.28it/s, loss=1.47, pitch_acc=0.156, pitch_loss=0.378, token_type_acc=0.924, token_type_loss=0.183] \n",
      "100%|██████████| 256/256 [00:02<00:00, 88.13it/s] 8:19:39,  4.20it/s, loss=1.54, pitch_acc=0.156, pitch_loss=0.424, token_type_acc=0.927, token_type_loss=0.174] \n",
      "100%|██████████| 256/256 [00:03<00:00, 70.69it/s]<7:28:24,  4.67it/s, loss=1.33, pitch_acc=0.133, pitch_loss=0.352, token_type_acc=0.931, token_type_loss=0.161] \n",
      "100%|██████████| 256/256 [00:05<00:00, 48.13it/s]<4:10:51,  8.34it/s, loss=1.5, pitch_acc=0.132, pitch_loss=0.417, token_type_acc=0.921, token_type_loss=0.187]  \n",
      "100%|██████████| 256/256 [00:03<00:00, 77.76it/s]<16:52:54,  2.06it/s, loss=1.55, pitch_acc=0.157, pitch_loss=0.403, token_type_acc=0.922, token_type_loss=0.189]\n",
      "100%|██████████| 256/256 [00:03<00:00, 69.09it/s]<4:29:58,  7.73it/s, loss=1.67, pitch_acc=0.164, pitch_loss=0.444, token_type_acc=0.904, token_type_loss=0.222] \n",
      "100%|██████████| 256/256 [00:02<00:00, 87.66it/s]<16:03:32,  2.16it/s, loss=1.42, pitch_acc=0.158, pitch_loss=0.372, token_type_acc=0.939, token_type_loss=0.149]\n",
      "100%|██████████| 256/256 [00:02<00:00, 99.12it/s] 20:21:17,  1.70it/s, loss=1.5, pitch_acc=0.14, pitch_loss=0.401, token_type_acc=0.916, token_type_loss=0.196]  \n",
      "100%|██████████| 256/256 [00:04<00:00, 63.64it/s]<10:36:26,  3.26it/s, loss=1.71, pitch_acc=0.162, pitch_loss=0.463, token_type_acc=0.919, token_type_loss=0.196]\n",
      "100%|██████████| 256/256 [00:03<00:00, 67.36it/s]<8:10:04,  4.23it/s, loss=1.46, pitch_acc=0.154, pitch_loss=0.397, token_type_acc=0.939, token_type_loss=0.153] \n",
      "100%|██████████| 256/256 [00:03<00:00, 66.88it/s]<12:52:32,  2.68it/s, loss=1.34, pitch_acc=0.15, pitch_loss=0.347, token_type_acc=0.944, token_type_loss=0.138] \n",
      "100%|██████████| 256/256 [00:04<00:00, 61.83it/s]<4:54:08,  7.02it/s, loss=1.43, pitch_acc=0.14, pitch_loss=0.387, token_type_acc=0.934, token_type_loss=0.16]   \n",
      "100%|██████████| 256/256 [00:03<00:00, 84.71it/s]<5:27:03,  6.31it/s, loss=1.5, pitch_acc=0.143, pitch_loss=0.417, token_type_acc=0.928, token_type_loss=0.176]  \n",
      "100%|██████████| 256/256 [00:03<00:00, 81.93it/s]<17:45:22,  1.93it/s, loss=1.56, pitch_acc=0.164, pitch_loss=0.396, token_type_acc=0.918, token_type_loss=0.197]\n",
      "100%|██████████| 256/256 [00:05<00:00, 48.60it/s]<5:26:59,  6.29it/s, loss=1.43, pitch_acc=0.137, pitch_loss=0.384, token_type_acc=0.924, token_type_loss=0.181] \n",
      "100%|██████████| 256/256 [00:03<00:00, 82.57it/s]<12:36:17,  2.71it/s, loss=1.33, pitch_acc=0.127, pitch_loss=0.36, token_type_acc=0.933, token_type_loss=0.161] \n",
      "100%|██████████| 256/256 [00:03<00:00, 69.24it/s]<4:57:57,  6.88it/s, loss=1.2, pitch_acc=0.13, pitch_loss=0.304, token_type_acc=0.943, token_type_loss=0.141]   \n",
      "100%|██████████| 256/256 [00:03<00:00, 82.32it/s] 5:30:02,  6.20it/s, loss=1.61, pitch_acc=0.165, pitch_loss=0.423, token_type_acc=0.915, token_type_loss=0.194] \n",
      "100%|██████████| 256/256 [00:04<00:00, 58.48it/s]<8:28:08,  4.02it/s, loss=1.6, pitch_acc=0.162, pitch_loss=0.422, token_type_acc=0.922, token_type_loss=0.186]  \n",
      "100%|██████████| 256/256 [00:04<00:00, 51.28it/s]<7:57:12,  4.27it/s, loss=1.36, pitch_acc=0.155, pitch_loss=0.347, token_type_acc=0.942, token_type_loss=0.143] \n",
      "100%|██████████| 256/256 [00:03<00:00, 71.85it/s]<5:31:35,  6.14it/s, loss=1.37, pitch_acc=0.143, pitch_loss=0.354, token_type_acc=0.933, token_type_loss=0.158] \n",
      "100%|██████████| 256/256 [00:02<00:00, 86.03it/s] 8:35:36,  3.94it/s, loss=1.23, pitch_acc=0.135, pitch_loss=0.316, token_type_acc=0.941, token_type_loss=0.139] \n",
      "100%|██████████| 256/256 [00:02<00:00, 88.08it/s] 5:16:06,  6.42it/s, loss=1.59, pitch_acc=0.153, pitch_loss=0.432, token_type_acc=0.922, token_type_loss=0.19]  \n",
      "100%|██████████| 256/256 [00:03<00:00, 81.15it/s] 6:12:30,  5.44it/s, loss=1.7, pitch_acc=0.167, pitch_loss=0.471, token_type_acc=0.918, token_type_loss=0.189]  \n",
      "100%|██████████| 256/256 [00:03<00:00, 67.07it/s]<4:25:42,  7.61it/s, loss=1.29, pitch_acc=0.136, pitch_loss=0.334, token_type_acc=0.936, token_type_loss=0.151] \n",
      "100%|██████████| 256/256 [00:02<00:00, 98.18it/s] 8:00:42,  4.20it/s, loss=1.27, pitch_acc=0.137, pitch_loss=0.325, token_type_acc=0.948, token_type_loss=0.129] \n",
      "100%|██████████| 256/256 [00:03<00:00, 70.40it/s]<16:24:30,  2.05it/s, loss=1.69, pitch_acc=0.154, pitch_loss=0.463, token_type_acc=0.914, token_type_loss=0.213]\n",
      "100%|██████████| 256/256 [00:03<00:00, 69.03it/s]<22:11:56,  1.51it/s, loss=1.64, pitch_acc=0.186, pitch_loss=0.405, token_type_acc=0.923, token_type_loss=0.185]\n",
      "100%|██████████| 256/256 [00:03<00:00, 68.74it/s]<12:16:21,  2.73it/s, loss=1.37, pitch_acc=0.143, pitch_loss=0.367, token_type_acc=0.937, token_type_loss=0.156]\n",
      "100%|██████████| 256/256 [00:02<00:00, 96.36it/s] 5:01:33,  6.65it/s, loss=1.51, pitch_acc=0.166, pitch_loss=0.392, token_type_acc=0.94, token_type_loss=0.153]  \n",
      "100%|██████████| 256/256 [00:03<00:00, 80.42it/s]<10:55:27,  3.06it/s, loss=1.22, pitch_acc=0.152, pitch_loss=0.289, token_type_acc=0.945, token_type_loss=0.137]\n",
      "100%|██████████| 256/256 [00:03<00:00, 69.21it/s]<12:24:55,  2.68it/s, loss=1.3, pitch_acc=0.142, pitch_loss=0.339, token_type_acc=0.94, token_type_loss=0.143]  \n",
      "100%|██████████| 256/256 [00:03<00:00, 66.85it/s]<7:48:03,  4.26it/s, loss=1.37, pitch_acc=0.141, pitch_loss=0.359, token_type_acc=0.934, token_type_loss=0.16]  \n",
      "100%|██████████| 256/256 [00:02<00:00, 98.76it/s] 11:07:46,  2.98it/s, loss=1.44, pitch_acc=0.139, pitch_loss=0.387, token_type_acc=0.925, token_type_loss=0.177]\n",
      "100%|██████████| 256/256 [00:03<00:00, 66.51it/s] 8:49:11,  3.76it/s, loss=1.4, pitch_acc=0.137, pitch_loss=0.376, token_type_acc=0.931, token_type_loss=0.17]   \n",
      "100%|██████████| 256/256 [00:05<00:00, 47.79it/s]<5:37:17,  5.89it/s, loss=1.53, pitch_acc=0.154, pitch_loss=0.406, token_type_acc=0.929, token_type_loss=0.181] \n",
      "100%|██████████| 256/256 [00:02<00:00, 97.11it/s] 7:04:33,  4.67it/s, loss=1.4, pitch_acc=0.134, pitch_loss=0.386, token_type_acc=0.932, token_type_loss=0.161]  \n",
      "100%|██████████| 256/256 [00:03<00:00, 80.99it/s] 4:27:58,  7.39it/s, loss=1.42, pitch_acc=0.15, pitch_loss=0.371, token_type_acc=0.932, token_type_loss=0.163]  \n",
      "100%|██████████| 256/256 [00:03<00:00, 78.43it/s]<11:37:42,  2.83it/s, loss=1.17, pitch_acc=0.125, pitch_loss=0.308, token_type_acc=0.947, token_type_loss=0.127]\n",
      "100%|██████████| 256/256 [00:03<00:00, 66.18it/s]<10:34:20,  3.11it/s, loss=1.42, pitch_acc=0.147, pitch_loss=0.38, token_type_acc=0.931, token_type_loss=0.167] \n",
      "100%|██████████| 256/256 [00:03<00:00, 68.01it/s]<12:32:30,  2.62it/s, loss=1.22, pitch_acc=0.131, pitch_loss=0.326, token_type_acc=0.941, token_type_loss=0.14] \n",
      "100%|██████████| 256/256 [00:03<00:00, 72.49it/s] 12:03:34,  2.72it/s, loss=1.56, pitch_acc=0.165, pitch_loss=0.409, token_type_acc=0.929, token_type_loss=0.168]\n",
      "100%|██████████| 256/256 [00:05<00:00, 50.53it/s]<5:08:33,  6.36it/s, loss=1.19, pitch_acc=0.131, pitch_loss=0.316, token_type_acc=0.951, token_type_loss=0.124] \n",
      "100%|██████████| 256/256 [00:03<00:00, 85.19it/s]<4:49:48,  6.76it/s, loss=1.58, pitch_acc=0.155, pitch_loss=0.435, token_type_acc=0.928, token_type_loss=0.177] \n",
      "100%|██████████| 256/256 [00:03<00:00, 64.50it/s]<3:55:40,  8.30it/s, loss=1.66, pitch_acc=0.167, pitch_loss=0.445, token_type_acc=0.921, token_type_loss=0.188] \n",
      "100%|██████████| 256/256 [00:03<00:00, 64.34it/s]<4:57:25,  6.56it/s, loss=1.63, pitch_acc=0.154, pitch_loss=0.439, token_type_acc=0.916, token_type_loss=0.195] \n",
      "100%|██████████| 256/256 [00:03<00:00, 67.50it/s]<5:18:14,  6.12it/s, loss=1.64, pitch_acc=0.167, pitch_loss=0.446, token_type_acc=0.926, token_type_loss=0.18]  \n",
      "100%|██████████| 256/256 [00:03<00:00, 73.76it/s]<4:02:41,  8.02it/s, loss=1.58, pitch_acc=0.16, pitch_loss=0.434, token_type_acc=0.928, token_type_loss=0.176]  \n",
      "100%|██████████| 256/256 [00:04<00:00, 57.24it/s]<6:10:45,  5.24it/s, loss=1.3, pitch_acc=0.15, pitch_loss=0.329, token_type_acc=0.938, token_type_loss=0.149]   \n",
      "100%|██████████| 256/256 [00:05<00:00, 45.79it/s]<6:44:48,  4.79it/s, loss=1.3, pitch_acc=0.129, pitch_loss=0.338, token_type_acc=0.933, token_type_loss=0.158]  \n",
      "100%|██████████| 256/256 [00:02<00:00, 88.51it/s]<5:06:08,  6.32it/s, loss=1.14, pitch_acc=0.12, pitch_loss=0.303, token_type_acc=0.947, token_type_loss=0.133]  \n",
      "100%|██████████| 256/256 [00:03<00:00, 76.97it/s]<10:13:12,  3.15it/s, loss=1.58, pitch_acc=0.174, pitch_loss=0.412, token_type_acc=0.933, token_type_loss=0.166]\n",
      "100%|██████████| 256/256 [00:03<00:00, 84.03it/s]<5:28:42,  5.87it/s, loss=1.28, pitch_acc=0.134, pitch_loss=0.327, token_type_acc=0.942, token_type_loss=0.141]  \n",
      "100%|██████████| 256/256 [00:03<00:00, 79.95it/s]<10:58:48,  2.92it/s, loss=1.66, pitch_acc=0.177, pitch_loss=0.446, token_type_acc=0.931, token_type_loss=0.169]\n",
      "100%|██████████| 256/256 [00:03<00:00, 77.52it/s]<8:00:07,  4.00it/s, loss=1.51, pitch_acc=0.154, pitch_loss=0.409, token_type_acc=0.924, token_type_loss=0.179] \n",
      "100%|██████████| 256/256 [00:02<00:00, 94.71it/s] 8:10:54,  3.91it/s, loss=1.66, pitch_acc=0.167, pitch_loss=0.443, token_type_acc=0.922, token_type_loss=0.189] \n",
      "100%|██████████| 256/256 [00:02<00:00, 102.21it/s]14:05:48,  2.27it/s, loss=1.33, pitch_acc=0.153, pitch_loss=0.34, token_type_acc=0.945, token_type_loss=0.141] \n",
      "100%|██████████| 256/256 [00:04<00:00, 63.07it/s]<7:21:00,  4.34it/s, loss=1.29, pitch_acc=0.143, pitch_loss=0.329, token_type_acc=0.943, token_type_loss=0.144] \n",
      "100%|██████████| 256/256 [00:03<00:00, 67.60it/s]<12:06:49,  2.63it/s, loss=1.22, pitch_acc=0.125, pitch_loss=0.323, token_type_acc=0.942, token_type_loss=0.144]\n",
      "100%|██████████| 256/256 [00:04<00:00, 61.41it/s]<6:27:59,  4.91it/s, loss=1.58, pitch_acc=0.163, pitch_loss=0.425, token_type_acc=0.922, token_type_loss=0.19]  \n",
      "100%|██████████| 256/256 [00:02<00:00, 88.00it/s]<27:56:45,  1.13it/s, loss=1.52, pitch_acc=0.158, pitch_loss=0.396, token_type_acc=0.92, token_type_loss=0.192] \n",
      "100%|██████████| 256/256 [00:04<00:00, 54.81it/s]<5:21:20,  5.91it/s, loss=1.58, pitch_acc=0.177, pitch_loss=0.398, token_type_acc=0.926, token_type_loss=0.172] \n",
      "100%|██████████| 256/256 [00:03<00:00, 76.85it/s]<16:24:21,  1.93it/s, loss=1.26, pitch_acc=0.124, pitch_loss=0.344, token_type_acc=0.941, token_type_loss=0.145]\n",
      "100%|██████████| 256/256 [00:03<00:00, 80.84it/s]<4:35:35,  6.87it/s, loss=1.31, pitch_acc=0.157, pitch_loss=0.321, token_type_acc=0.94, token_type_loss=0.153]  \n",
      "100%|██████████| 256/256 [00:04<00:00, 59.34it/s]<4:49:19,  6.53it/s, loss=1.32, pitch_acc=0.134, pitch_loss=0.351, token_type_acc=0.935, token_type_loss=0.157] \n",
      "100%|██████████| 256/256 [00:03<00:00, 71.76it/s]<5:41:27,  5.52it/s, loss=1.51, pitch_acc=0.144, pitch_loss=0.417, token_type_acc=0.923, token_type_loss=0.176] \n",
      "100%|██████████| 256/256 [00:02<00:00, 85.91it/s]<15:26:11,  2.03it/s, loss=1.55, pitch_acc=0.172, pitch_loss=0.398, token_type_acc=0.924, token_type_loss=0.184] \n",
      "100%|██████████| 256/256 [00:03<00:00, 64.20it/s]<6:08:54,  5.09it/s, loss=1.3, pitch_acc=0.131, pitch_loss=0.35, token_type_acc=0.933, token_type_loss=0.159]   \n",
      "100%|██████████| 256/256 [00:03<00:00, 77.31it/s]<3:56:23,  7.94it/s, loss=1.36, pitch_acc=0.133, pitch_loss=0.37, token_type_acc=0.934, token_type_loss=0.158]  \n",
      "100%|██████████| 256/256 [00:03<00:00, 81.36it/s] 5:03:59,  6.16it/s, loss=1.43, pitch_acc=0.17, pitch_loss=0.353, token_type_acc=0.932, token_type_loss=0.171]  \n",
      "100%|██████████| 256/256 [00:03<00:00, 80.74it/s] 14:42:13,  2.12it/s, loss=1.65, pitch_acc=0.184, pitch_loss=0.418, token_type_acc=0.924, token_type_loss=0.183]\n",
      "100%|██████████| 256/256 [00:04<00:00, 55.80it/s]<25:00:16,  1.24it/s, loss=1.17, pitch_acc=0.117, pitch_loss=0.322, token_type_acc=0.942, token_type_loss=0.142]\n",
      "100%|██████████| 256/256 [00:04<00:00, 63.79it/s]<7:37:08,  4.07it/s, loss=1.24, pitch_acc=0.139, pitch_loss=0.309, token_type_acc=0.941, token_type_loss=0.144] \n",
      "100%|██████████| 256/256 [00:03<00:00, 74.09it/s]<13:26:58,  2.30it/s, loss=1.41, pitch_acc=0.139, pitch_loss=0.394, token_type_acc=0.931, token_type_loss=0.166]\n",
      "Epoch 0:  51%|█████▏    | 118060/229551 [13:55:18<13:08:49,  2.36it/s, loss=1.73, pitch_acc=0.175, pitch_loss=0.457, token_type_acc=0.921, token_type_loss=0.187]\n"
     ]
    },
    {
     "ename": "KeyboardInterrupt",
     "evalue": "",
     "output_type": "error",
     "traceback": [
      "\u001b[31m---------------------------------------------------------------------------\u001b[39m",
      "\u001b[31mKeyboardInterrupt\u001b[39m                         Traceback (most recent call last)",
      "\u001b[36mCell\u001b[39m\u001b[36m \u001b[39m\u001b[32mIn[6]\u001b[39m\u001b[32m, line 6\u001b[39m\n\u001b[32m      4\u001b[39m \u001b[38;5;28;01mfor\u001b[39;00m epoch \u001b[38;5;129;01min\u001b[39;00m \u001b[38;5;28mrange\u001b[39m(training_params.num_epochs):\n\u001b[32m      5\u001b[39m     pbar = tqdm(dataloader, desc=\u001b[33mf\u001b[39m\u001b[33m\"\u001b[39m\u001b[33mEpoch \u001b[39m\u001b[38;5;132;01m{\u001b[39;00mepoch\u001b[38;5;132;01m}\u001b[39;00m\u001b[33m\"\u001b[39m)\n\u001b[32m----> \u001b[39m\u001b[32m6\u001b[39m \u001b[43m    \u001b[49m\u001b[38;5;28;43;01mfor\u001b[39;49;00m\u001b[43m \u001b[49m\u001b[43mtoken\u001b[49m\u001b[43m,\u001b[49m\u001b[43m \u001b[49m\u001b[43mtoken_type\u001b[49m\u001b[43m,\u001b[49m\u001b[43m \u001b[49m\u001b[43mpos\u001b[49m\u001b[43m \u001b[49m\u001b[38;5;129;43;01min\u001b[39;49;00m\u001b[43m \u001b[49m\u001b[43mpbar\u001b[49m\u001b[43m:\u001b[49m\n\u001b[32m      7\u001b[39m \u001b[43m        \u001b[49m\u001b[43mmodel\u001b[49m\u001b[43m.\u001b[49m\u001b[43mtrain\u001b[49m\u001b[43m(\u001b[49m\u001b[43m)\u001b[49m\n\u001b[32m      9\u001b[39m \u001b[43m        \u001b[49m\u001b[43mtoken\u001b[49m\u001b[43m \u001b[49m\u001b[43m=\u001b[49m\u001b[43m \u001b[49m\u001b[43mtoken\u001b[49m\u001b[43m.\u001b[49m\u001b[43mto\u001b[49m\u001b[43m(\u001b[49m\u001b[43mdevice\u001b[49m\u001b[43m)\u001b[49m\n",
      "\u001b[36mFile \u001b[39m\u001b[32mc:\\Users\\User\\miniconda3\\envs\\13\\Lib\\site-packages\\tqdm\\std.py:1181\u001b[39m, in \u001b[36mtqdm.__iter__\u001b[39m\u001b[34m(self)\u001b[39m\n\u001b[32m   1178\u001b[39m time = \u001b[38;5;28mself\u001b[39m._time\n\u001b[32m   1180\u001b[39m \u001b[38;5;28;01mtry\u001b[39;00m:\n\u001b[32m-> \u001b[39m\u001b[32m1181\u001b[39m \u001b[43m    \u001b[49m\u001b[38;5;28;43;01mfor\u001b[39;49;00m\u001b[43m \u001b[49m\u001b[43mobj\u001b[49m\u001b[43m \u001b[49m\u001b[38;5;129;43;01min\u001b[39;49;00m\u001b[43m \u001b[49m\u001b[43miterable\u001b[49m\u001b[43m:\u001b[49m\n\u001b[32m   1182\u001b[39m \u001b[43m        \u001b[49m\u001b[38;5;28;43;01myield\u001b[39;49;00m\u001b[43m \u001b[49m\u001b[43mobj\u001b[49m\n\u001b[32m   1183\u001b[39m \u001b[43m        \u001b[49m\u001b[38;5;66;43;03m# Update and possibly print the progressbar.\u001b[39;49;00m\n\u001b[32m   1184\u001b[39m \u001b[43m        \u001b[49m\u001b[38;5;66;43;03m# Note: does not call self.update(1) for speed optimisation.\u001b[39;49;00m\n",
      "\u001b[36mFile \u001b[39m\u001b[32mc:\\Users\\User\\miniconda3\\envs\\13\\Lib\\site-packages\\torch\\utils\\data\\dataloader.py:708\u001b[39m, in \u001b[36m_BaseDataLoaderIter.__next__\u001b[39m\u001b[34m(self)\u001b[39m\n\u001b[32m    705\u001b[39m \u001b[38;5;28;01mif\u001b[39;00m \u001b[38;5;28mself\u001b[39m._sampler_iter \u001b[38;5;129;01mis\u001b[39;00m \u001b[38;5;28;01mNone\u001b[39;00m:\n\u001b[32m    706\u001b[39m     \u001b[38;5;66;03m# TODO(https://github.com/pytorch/pytorch/issues/76750)\u001b[39;00m\n\u001b[32m    707\u001b[39m     \u001b[38;5;28mself\u001b[39m._reset()  \u001b[38;5;66;03m# type: ignore[call-arg]\u001b[39;00m\n\u001b[32m--> \u001b[39m\u001b[32m708\u001b[39m data = \u001b[38;5;28;43mself\u001b[39;49m\u001b[43m.\u001b[49m\u001b[43m_next_data\u001b[49m\u001b[43m(\u001b[49m\u001b[43m)\u001b[49m\n\u001b[32m    709\u001b[39m \u001b[38;5;28mself\u001b[39m._num_yielded += \u001b[32m1\u001b[39m\n\u001b[32m    710\u001b[39m \u001b[38;5;28;01mif\u001b[39;00m (\n\u001b[32m    711\u001b[39m     \u001b[38;5;28mself\u001b[39m._dataset_kind == _DatasetKind.Iterable\n\u001b[32m    712\u001b[39m     \u001b[38;5;129;01mand\u001b[39;00m \u001b[38;5;28mself\u001b[39m._IterableDataset_len_called \u001b[38;5;129;01mis\u001b[39;00m \u001b[38;5;129;01mnot\u001b[39;00m \u001b[38;5;28;01mNone\u001b[39;00m\n\u001b[32m    713\u001b[39m     \u001b[38;5;129;01mand\u001b[39;00m \u001b[38;5;28mself\u001b[39m._num_yielded > \u001b[38;5;28mself\u001b[39m._IterableDataset_len_called\n\u001b[32m    714\u001b[39m ):\n",
      "\u001b[36mFile \u001b[39m\u001b[32mc:\\Users\\User\\miniconda3\\envs\\13\\Lib\\site-packages\\torch\\utils\\data\\dataloader.py:1458\u001b[39m, in \u001b[36m_MultiProcessingDataLoaderIter._next_data\u001b[39m\u001b[34m(self)\u001b[39m\n\u001b[32m   1455\u001b[39m     \u001b[38;5;28;01mreturn\u001b[39;00m \u001b[38;5;28mself\u001b[39m._process_data(data)\n\u001b[32m   1457\u001b[39m \u001b[38;5;28;01massert\u001b[39;00m \u001b[38;5;129;01mnot\u001b[39;00m \u001b[38;5;28mself\u001b[39m._shutdown \u001b[38;5;129;01mand\u001b[39;00m \u001b[38;5;28mself\u001b[39m._tasks_outstanding > \u001b[32m0\u001b[39m\n\u001b[32m-> \u001b[39m\u001b[32m1458\u001b[39m idx, data = \u001b[38;5;28;43mself\u001b[39;49m\u001b[43m.\u001b[49m\u001b[43m_get_data\u001b[49m\u001b[43m(\u001b[49m\u001b[43m)\u001b[49m\n\u001b[32m   1459\u001b[39m \u001b[38;5;28mself\u001b[39m._tasks_outstanding -= \u001b[32m1\u001b[39m\n\u001b[32m   1460\u001b[39m \u001b[38;5;28;01mif\u001b[39;00m \u001b[38;5;28mself\u001b[39m._dataset_kind == _DatasetKind.Iterable:\n\u001b[32m   1461\u001b[39m     \u001b[38;5;66;03m# Check for _IterableDatasetStopIteration\u001b[39;00m\n",
      "\u001b[36mFile \u001b[39m\u001b[32mc:\\Users\\User\\miniconda3\\envs\\13\\Lib\\site-packages\\torch\\utils\\data\\dataloader.py:1420\u001b[39m, in \u001b[36m_MultiProcessingDataLoaderIter._get_data\u001b[39m\u001b[34m(self)\u001b[39m\n\u001b[32m   1416\u001b[39m     \u001b[38;5;66;03m# In this case, `self._data_queue` is a `queue.Queue`,. But we don't\u001b[39;00m\n\u001b[32m   1417\u001b[39m     \u001b[38;5;66;03m# need to call `.task_done()` because we don't use `.join()`.\u001b[39;00m\n\u001b[32m   1418\u001b[39m \u001b[38;5;28;01melse\u001b[39;00m:\n\u001b[32m   1419\u001b[39m     \u001b[38;5;28;01mwhile\u001b[39;00m \u001b[38;5;28;01mTrue\u001b[39;00m:\n\u001b[32m-> \u001b[39m\u001b[32m1420\u001b[39m         success, data = \u001b[38;5;28;43mself\u001b[39;49m\u001b[43m.\u001b[49m\u001b[43m_try_get_data\u001b[49m\u001b[43m(\u001b[49m\u001b[43m)\u001b[49m\n\u001b[32m   1421\u001b[39m         \u001b[38;5;28;01mif\u001b[39;00m success:\n\u001b[32m   1422\u001b[39m             \u001b[38;5;28;01mreturn\u001b[39;00m data\n",
      "\u001b[36mFile \u001b[39m\u001b[32mc:\\Users\\User\\miniconda3\\envs\\13\\Lib\\site-packages\\torch\\utils\\data\\dataloader.py:1251\u001b[39m, in \u001b[36m_MultiProcessingDataLoaderIter._try_get_data\u001b[39m\u001b[34m(self, timeout)\u001b[39m\n\u001b[32m   1238\u001b[39m \u001b[38;5;28;01mdef\u001b[39;00m\u001b[38;5;250m \u001b[39m\u001b[34m_try_get_data\u001b[39m(\u001b[38;5;28mself\u001b[39m, timeout=_utils.MP_STATUS_CHECK_INTERVAL):\n\u001b[32m   1239\u001b[39m     \u001b[38;5;66;03m# Tries to fetch data from `self._data_queue` once for a given timeout.\u001b[39;00m\n\u001b[32m   1240\u001b[39m     \u001b[38;5;66;03m# This can also be used as inner loop of fetching without timeout, with\u001b[39;00m\n\u001b[32m   (...)\u001b[39m\u001b[32m   1248\u001b[39m     \u001b[38;5;66;03m# Returns a 2-tuple:\u001b[39;00m\n\u001b[32m   1249\u001b[39m     \u001b[38;5;66;03m#   (bool: whether successfully get data, any: data if successful else None)\u001b[39;00m\n\u001b[32m   1250\u001b[39m     \u001b[38;5;28;01mtry\u001b[39;00m:\n\u001b[32m-> \u001b[39m\u001b[32m1251\u001b[39m         data = \u001b[38;5;28;43mself\u001b[39;49m\u001b[43m.\u001b[49m\u001b[43m_data_queue\u001b[49m\u001b[43m.\u001b[49m\u001b[43mget\u001b[49m\u001b[43m(\u001b[49m\u001b[43mtimeout\u001b[49m\u001b[43m=\u001b[49m\u001b[43mtimeout\u001b[49m\u001b[43m)\u001b[49m\n\u001b[32m   1252\u001b[39m         \u001b[38;5;28;01mreturn\u001b[39;00m (\u001b[38;5;28;01mTrue\u001b[39;00m, data)\n\u001b[32m   1253\u001b[39m     \u001b[38;5;28;01mexcept\u001b[39;00m \u001b[38;5;167;01mException\u001b[39;00m \u001b[38;5;28;01mas\u001b[39;00m e:\n\u001b[32m   1254\u001b[39m         \u001b[38;5;66;03m# At timeout and error, we manually check whether any worker has\u001b[39;00m\n\u001b[32m   1255\u001b[39m         \u001b[38;5;66;03m# failed. Note that this is the only mechanism for Windows to detect\u001b[39;00m\n\u001b[32m   1256\u001b[39m         \u001b[38;5;66;03m# worker failures.\u001b[39;00m\n",
      "\u001b[36mFile \u001b[39m\u001b[32mc:\\Users\\User\\miniconda3\\envs\\13\\Lib\\multiprocessing\\queues.py:111\u001b[39m, in \u001b[36mQueue.get\u001b[39m\u001b[34m(self, block, timeout)\u001b[39m\n\u001b[32m    109\u001b[39m \u001b[38;5;28;01mif\u001b[39;00m block:\n\u001b[32m    110\u001b[39m     timeout = deadline - time.monotonic()\n\u001b[32m--> \u001b[39m\u001b[32m111\u001b[39m     \u001b[38;5;28;01mif\u001b[39;00m \u001b[38;5;129;01mnot\u001b[39;00m \u001b[38;5;28;43mself\u001b[39;49m\u001b[43m.\u001b[49m\u001b[43m_poll\u001b[49m\u001b[43m(\u001b[49m\u001b[43mtimeout\u001b[49m\u001b[43m)\u001b[49m:\n\u001b[32m    112\u001b[39m         \u001b[38;5;28;01mraise\u001b[39;00m Empty\n\u001b[32m    113\u001b[39m \u001b[38;5;28;01melif\u001b[39;00m \u001b[38;5;129;01mnot\u001b[39;00m \u001b[38;5;28mself\u001b[39m._poll():\n",
      "\u001b[36mFile \u001b[39m\u001b[32mc:\\Users\\User\\miniconda3\\envs\\13\\Lib\\multiprocessing\\connection.py:257\u001b[39m, in \u001b[36m_ConnectionBase.poll\u001b[39m\u001b[34m(self, timeout)\u001b[39m\n\u001b[32m    255\u001b[39m \u001b[38;5;28mself\u001b[39m._check_closed()\n\u001b[32m    256\u001b[39m \u001b[38;5;28mself\u001b[39m._check_readable()\n\u001b[32m--> \u001b[39m\u001b[32m257\u001b[39m \u001b[38;5;28;01mreturn\u001b[39;00m \u001b[38;5;28;43mself\u001b[39;49m\u001b[43m.\u001b[49m\u001b[43m_poll\u001b[49m\u001b[43m(\u001b[49m\u001b[43mtimeout\u001b[49m\u001b[43m)\u001b[49m\n",
      "\u001b[36mFile \u001b[39m\u001b[32mc:\\Users\\User\\miniconda3\\envs\\13\\Lib\\multiprocessing\\connection.py:346\u001b[39m, in \u001b[36mPipeConnection._poll\u001b[39m\u001b[34m(self, timeout)\u001b[39m\n\u001b[32m    343\u001b[39m \u001b[38;5;28;01mif\u001b[39;00m (\u001b[38;5;28mself\u001b[39m._got_empty_message \u001b[38;5;129;01mor\u001b[39;00m\n\u001b[32m    344\u001b[39m             _winapi.PeekNamedPipe(\u001b[38;5;28mself\u001b[39m._handle)[\u001b[32m0\u001b[39m] != \u001b[32m0\u001b[39m):\n\u001b[32m    345\u001b[39m     \u001b[38;5;28;01mreturn\u001b[39;00m \u001b[38;5;28;01mTrue\u001b[39;00m\n\u001b[32m--> \u001b[39m\u001b[32m346\u001b[39m \u001b[38;5;28;01mreturn\u001b[39;00m \u001b[38;5;28mbool\u001b[39m(\u001b[43mwait\u001b[49m\u001b[43m(\u001b[49m\u001b[43m[\u001b[49m\u001b[38;5;28;43mself\u001b[39;49m\u001b[43m]\u001b[49m\u001b[43m,\u001b[49m\u001b[43m \u001b[49m\u001b[43mtimeout\u001b[49m\u001b[43m)\u001b[49m)\n",
      "\u001b[36mFile \u001b[39m\u001b[32mc:\\Users\\User\\miniconda3\\envs\\13\\Lib\\multiprocessing\\connection.py:1096\u001b[39m, in \u001b[36mwait\u001b[39m\u001b[34m(object_list, timeout)\u001b[39m\n\u001b[32m   1093\u001b[39m                 ready_objects.add(o)\n\u001b[32m   1094\u001b[39m                 timeout = \u001b[32m0\u001b[39m\n\u001b[32m-> \u001b[39m\u001b[32m1096\u001b[39m     ready_handles = \u001b[43m_exhaustive_wait\u001b[49m\u001b[43m(\u001b[49m\u001b[43mwaithandle_to_obj\u001b[49m\u001b[43m.\u001b[49m\u001b[43mkeys\u001b[49m\u001b[43m(\u001b[49m\u001b[43m)\u001b[49m\u001b[43m,\u001b[49m\u001b[43m \u001b[49m\u001b[43mtimeout\u001b[49m\u001b[43m)\u001b[49m\n\u001b[32m   1097\u001b[39m \u001b[38;5;28;01mfinally\u001b[39;00m:\n\u001b[32m   1098\u001b[39m     \u001b[38;5;66;03m# request that overlapped reads stop\u001b[39;00m\n\u001b[32m   1099\u001b[39m     \u001b[38;5;28;01mfor\u001b[39;00m ov \u001b[38;5;129;01min\u001b[39;00m ov_list:\n",
      "\u001b[36mFile \u001b[39m\u001b[32mc:\\Users\\User\\miniconda3\\envs\\13\\Lib\\multiprocessing\\connection.py:1028\u001b[39m, in \u001b[36m_exhaustive_wait\u001b[39m\u001b[34m(handles, timeout)\u001b[39m\n\u001b[32m   1026\u001b[39m \u001b[38;5;28;01mwhile\u001b[39;00m L:\n\u001b[32m   1027\u001b[39m     short_L = L[:\u001b[32m60\u001b[39m] \u001b[38;5;28;01mif\u001b[39;00m \u001b[38;5;28mlen\u001b[39m(L) > \u001b[32m60\u001b[39m \u001b[38;5;28;01melse\u001b[39;00m L\n\u001b[32m-> \u001b[39m\u001b[32m1028\u001b[39m     res = \u001b[43m_winapi\u001b[49m\u001b[43m.\u001b[49m\u001b[43mWaitForMultipleObjects\u001b[49m\u001b[43m(\u001b[49m\u001b[43mshort_L\u001b[49m\u001b[43m,\u001b[49m\u001b[43m \u001b[49m\u001b[38;5;28;43;01mFalse\u001b[39;49;00m\u001b[43m,\u001b[49m\u001b[43m \u001b[49m\u001b[43mtimeout\u001b[49m\u001b[43m)\u001b[49m\n\u001b[32m   1029\u001b[39m     \u001b[38;5;28;01mif\u001b[39;00m res == WAIT_TIMEOUT:\n\u001b[32m   1030\u001b[39m         \u001b[38;5;28;01mbreak\u001b[39;00m\n",
      "\u001b[31mKeyboardInterrupt\u001b[39m: "
     ]
    }
   ],
   "source": [
    "from tqdm import tqdm\n",
    "import torch_util.wandb\n",
    "\n",
    "for epoch in range(training_params.num_epochs):\n",
    "    pbar = tqdm(dataloader, desc=f\"Epoch {epoch}\")\n",
    "    for token, token_type, pos in pbar:\n",
    "        model.train()\n",
    "\n",
    "        token = token.to(device)\n",
    "        token_type = token_type.to(device)\n",
    "        pos = pos.to(device)\n",
    "\n",
    "        loss = model.calculate_loss(token, token_type, pos)\n",
    "        \n",
    "        optim.zero_grad()\n",
    "        loss.total_loss.backward()\n",
    "        optim.step()\n",
    "\n",
    "        pbar.set_postfix(loss=loss.total_loss.item(), pitch_loss=loss.pitch_loss.item(), token_type_loss=loss.token_type_loss.item(), pitch_acc=loss.pitch_acc, token_type_acc=loss.token_type_acc)\n",
    "        wandb.log({\n",
    "            \"loss\": loss.total_loss.item(),\n",
    "            \"pitch_loss\": loss.pitch_loss.item(),\n",
    "            \"token_type_loss\": loss.token_type_loss.item(),\n",
    "            \"pitch_acc\": loss.pitch_acc,\n",
    "            \"token_type_acc\": loss.token_type_acc,\n",
    "            \"velocity_acc\": loss.velocity_acc,\n",
    "            \"velocity_loss\": loss.velocity_loss,\n",
    "        }, step=step)\n",
    "\n",
    "        if (step % training_params.generate_steps == 0):\n",
    "            model.eval()\n",
    "            pr = model.sample_midi(model_params.max_len)\n",
    "            torch_util.wandb.log_midi_as_audio(pr.to_midi(), 'audio', step, soundfont_path=Path(\"./ignore/Essential Keys-sforzando-v9.6.sf2\"))\n",
    "            torch_util.wandb.log_image(pr.to_tensor().t().flip(0), 'pr', step)\n",
    "\n",
    "            torch.cuda.empty_cache()\n",
    "\n",
    "        \n",
    "        step += 1\n",
    "        \n",
    "        if training_params.save_steps > 0 and step % training_params.save_steps == 0:\n",
    "            torch.save(model.state_dict(), Path(wandb.run.dir) / f'{step:06d}.pth')"
   ]
  },
  {
   "cell_type": "code",
   "execution_count": 17,
   "metadata": {},
   "outputs": [
    {
     "data": {
      "text/plain": [
       "3706"
      ]
     },
     "execution_count": 17,
     "metadata": {},
     "output_type": "execute_result"
    }
   ],
   "source": [
    "step"
   ]
  },
  {
   "cell_type": "code",
   "execution_count": 18,
   "metadata": {},
   "outputs": [
    {
     "data": {
      "text/plain": [
       "<wandb.sdk.data_types.audio.Audio at 0x1764ab454f0>"
      ]
     },
     "execution_count": 18,
     "metadata": {},
     "output_type": "execute_result"
    }
   ],
   "source": [
    "\n",
    "torch_util.wandb.log_midi_as_audio(pr.to_midi(), 'audio', step, soundfont_path=Path(\"./ignore/Essential Keys-sforzando-v9.6.sf2\"))\n"
   ]
  },
  {
   "cell_type": "code",
   "execution_count": null,
   "metadata": {},
   "outputs": [
    {
     "name": "stderr",
     "output_type": "stream",
     "text": [
      "100%|██████████| 256/256 [00:05<00:00, 46.86it/s]\n"
     ]
    },
    {
     "data": {
      "text/plain": [
       "<wandb.sdk.data_types.image.Image at 0x176b1e243e0>"
      ]
     },
     "execution_count": 7,
     "metadata": {},
     "output_type": "execute_result"
    }
   ],
   "source": [
    "model.eval()\n",
    "pr = model.sample_midi(model_params.max_len)\n",
    "torch_util.wandb.log_midi_as_audio(pr.to_midi(), 'audio', step, soundfont_path=Path(\"./ignore/Essential Keys-sforzando-v9.6.sf2\"))\n",
    "torch_util.wandb.log_image(pr.to_tensor().t().flip(0), 'pr', step)\n"
   ]
  },
  {
   "cell_type": "code",
   "execution_count": 8,
   "metadata": {},
   "outputs": [
    {
     "data": {
      "text/plain": [
       "548"
      ]
     },
     "execution_count": 8,
     "metadata": {},
     "output_type": "execute_result"
    }
   ],
   "source": [
    "step"
   ]
  },
  {
   "cell_type": "code",
   "execution_count": 10,
   "metadata": {},
   "outputs": [
    {
     "name": "stderr",
     "output_type": "stream",
     "text": [
      "100%|██████████| 256/256 [00:03<00:00, 78.72it/s]\n"
     ]
    }
   ],
   "source": [
    "pr = model.sample_midi(256)"
   ]
  },
  {
   "cell_type": "code",
   "execution_count": null,
   "metadata": {},
   "outputs": [
    {
     "data": {
      "text/plain": [
       "'fluidsynth -R1 -F a.wav ./ignore/Essential Keys-sforzando-v9.6.sf2 sample.mid'"
      ]
     },
     "execution_count": 12,
     "metadata": {},
     "output_type": "execute_result"
    }
   ],
   "source": [
    "from torch_util.os import run_command\n",
    "\n",
    "audio_path = \"a.wav\"\n",
    "# pr.to_midi('sample.mid')\n",
    "f\"fluidsynth -R1 -F {audio_path} ./ignore/Essential Keys-sforzando-v9.6.sf2 sample.mid\""
   ]
  },
  {
   "cell_type": "code",
   "execution_count": null,
   "metadata": {},
   "outputs": [],
   "source": [
    "%load_ext autoreload\n",
    "%autoreload 2"
   ]
  },
  {
   "cell_type": "code",
   "execution_count": null,
   "metadata": {},
   "outputs": [
    {
     "name": "stdout",
     "output_type": "stream",
     "text": [
      "PianorollDataset initialized with 5509242 segments from 82613 songs\n"
     ]
    }
   ],
   "source": [
    "import torch\n",
    "\n",
    "import matplotlib.pyplot as plt\n",
    "from diff_music.data.dataset import PianorollDataset\n",
    "\n",
    "from pathlib import Path\n",
    "\n",
    "from diff_music.models.midilike_transformer import MidiLikeTransformer\n",
    "from dataclasses import dataclass\n",
    "\n",
    "@dataclass\n",
    "class TrainingParams:\n",
    "    batch_size: int\n",
    "    learning_rate: float\n",
    "    num_epochs: int\n",
    "    num_workers: int\n",
    "    generate_steps: int\n",
    "    save_steps: int\n",
    "@dataclass\n",
    "class DataParams:\n",
    "    max_tokens: int\n",
    "    path: str\n",
    "\n",
    "training_params = TrainingParams(\n",
    "    batch_size=24,\n",
    "    learning_rate=1e-4,\n",
    "    num_epochs=100,\n",
    "    num_workers=10,\n",
    "    generate_steps=200,\n",
    "    save_steps=10000,\n",
    ")\n",
    "\n",
    "model_params = MidiLikeTransformer.Params(\n",
    "    hidden_dim=512,\n",
    "    num_layers=8,\n",
    "    pitch_range=[21, 109],\n",
    "    max_len=32*8, # 8 bars\n",
    ")\n",
    "\n",
    "data_params = DataParams(\n",
    "    max_tokens=700,\n",
    "    path='W:/piano-ai/pop80k_k'\n",
    ")\n",
    "ds = PianorollDataset(Path(data_params.path), frames_per_beat=8, length=model_params.max_len)\n"
   ]
  },
  {
   "cell_type": "code",
   "execution_count": 8,
   "metadata": {},
   "outputs": [],
   "source": [
    "from torch.utils.data import DataLoader\n",
    "from functools import partial\n",
    "\n",
    "from diff_music.models.midilike_transformer import collate_fn\n",
    "\n",
    "max_tokens = data_params.max_tokens\n",
    "my_collate_fn = partial(collate_fn, max_tokens=max_tokens)\n",
    "dataloader = DataLoader(ds, batch_size=training_params.batch_size, shuffle=True, drop_last=True, collate_fn=my_collate_fn, num_workers=training_params.num_workers, persistent_workers=training_params.num_workers > 0)"
   ]
  },
  {
   "cell_type": "code",
   "execution_count": null,
   "metadata": {},
   "outputs": [
    {
     "name": "stdout",
     "output_type": "stream",
     "text": [
      "params 25.52009 M\n"
     ]
    }
   ],
   "source": [
    "device = torch.device('cuda')\n",
    "\n",
    "model = MidiLikeTransformer(model_params)\n",
    "model.to(device)\n",
    "\n",
    "print('params', sum(p.numel() for p in model.parameters())/1e6, 'M')\n",
    "\n",
    "optim = torch.optim.Adam(model.parameters(), lr=training_params.learning_rate)"
   ]
  },
  {
   "cell_type": "code",
   "execution_count": null,
   "metadata": {},
   "outputs": [
    {
     "name": "stderr",
     "output_type": "stream",
     "text": [
      "\u001b[34m\u001b[1mwandb\u001b[0m: Using wandb-core as the SDK backend.  Please refer to https://wandb.me/wandb-core for more information.\n",
      "\u001b[34m\u001b[1mwandb\u001b[0m: Currently logged in as: \u001b[33meri24816\u001b[0m (\u001b[33mtanchihpin0517-team\u001b[0m) to \u001b[32mhttps://api.wandb.ai\u001b[0m. Use \u001b[1m`wandb login --relogin`\u001b[0m to force relogin\n"
     ]
    },
    {
     "data": {
      "text/html": [
       "Tracking run with wandb version 0.19.8"
      ],
      "text/plain": [
       "<IPython.core.display.HTML object>"
      ]
     },
     "metadata": {},
     "output_type": "display_data"
    },
    {
     "data": {
      "text/html": [
       "Run data is saved locally in <code>w:\\piano-ai\\diff_music\\wandb\\run-20250316_231117-20250316_231116</code>"
      ],
      "text/plain": [
       "<IPython.core.display.HTML object>"
      ]
     },
     "metadata": {},
     "output_type": "display_data"
    },
    {
     "data": {
      "text/html": [
       "Syncing run <strong><a href='https://wandb.ai/tanchihpin0517-team/vqpiano/runs/20250316_231116' target=\"_blank\">20250316_231116</a></strong> to <a href='https://wandb.ai/tanchihpin0517-team/vqpiano' target=\"_blank\">Weights & Biases</a> (<a href='https://wandb.me/developer-guide' target=\"_blank\">docs</a>)<br>"
      ],
      "text/plain": [
       "<IPython.core.display.HTML object>"
      ]
     },
     "metadata": {},
     "output_type": "display_data"
    },
    {
     "data": {
      "text/html": [
       " View project at <a href='https://wandb.ai/tanchihpin0517-team/vqpiano' target=\"_blank\">https://wandb.ai/tanchihpin0517-team/vqpiano</a>"
      ],
      "text/plain": [
       "<IPython.core.display.HTML object>"
      ]
     },
     "metadata": {},
     "output_type": "display_data"
    },
    {
     "data": {
      "text/html": [
       " View run at <a href='https://wandb.ai/tanchihpin0517-team/vqpiano/runs/20250316_231116' target=\"_blank\">https://wandb.ai/tanchihpin0517-team/vqpiano/runs/20250316_231116</a>"
      ],
      "text/plain": [
       "<IPython.core.display.HTML object>"
      ]
     },
     "metadata": {},
     "output_type": "display_data"
    }
   ],
   "source": [
    "from datetime import datetime\n",
    "import wandb\n",
    "run = wandb.init(\n",
    "    # Set the project where this run will be logged\n",
    "    project=\"vqpiano\",\n",
    "    group=\"midilike-scratch\",\n",
    "    id=datetime.now().strftime(\"%Y%m%d_%H%M%S\"),\n",
    "    # Track hyperparameters and run metadata\n",
    "    config={\n",
    "        \"data\": data_params,\n",
    "        \"model\": model_params,\n",
    "        \"training\": training_params,\n",
    "    },\n",
    ")\n",
    "step = 0"
   ]
  },
  {
   "cell_type": "code",
   "execution_count": 17,
   "metadata": {},
   "outputs": [
    {
     "name": "stderr",
     "output_type": "stream",
     "text": [
      "Epoch 0:   0%|          | 0/229551 [00:03<?, ?it/s]\n"
     ]
    },
    {
     "ename": "RuntimeError",
     "evalue": "CUDA error: device-side assert triggered\nCUDA kernel errors might be asynchronously reported at some other API call, so the stacktrace below might be incorrect.\nFor debugging consider passing CUDA_LAUNCH_BLOCKING=1\nCompile with `TORCH_USE_CUDA_DSA` to enable device-side assertions.\n",
     "output_type": "error",
     "traceback": [
      "\u001b[31m---------------------------------------------------------------------------\u001b[39m",
      "\u001b[31mRuntimeError\u001b[39m                              Traceback (most recent call last)",
      "\u001b[36mCell\u001b[39m\u001b[36m \u001b[39m\u001b[32mIn[17]\u001b[39m\u001b[32m, line 13\u001b[39m\n\u001b[32m     10\u001b[39m token_type = token_type.to(device)\n\u001b[32m     11\u001b[39m pos = pos.to(device)\n\u001b[32m---> \u001b[39m\u001b[32m13\u001b[39m loss = \u001b[43mmodel\u001b[49m\u001b[43m.\u001b[49m\u001b[43mcalculate_loss\u001b[49m\u001b[43m(\u001b[49m\u001b[43mtoken\u001b[49m\u001b[43m,\u001b[49m\u001b[43m \u001b[49m\u001b[43mtoken_type\u001b[49m\u001b[43m,\u001b[49m\u001b[43m \u001b[49m\u001b[43mpos\u001b[49m\u001b[43m)\u001b[49m\n\u001b[32m     15\u001b[39m optim.zero_grad()\n\u001b[32m     16\u001b[39m loss.total_loss.backward()\n",
      "\u001b[36mFile \u001b[39m\u001b[32mw:\\piano-ai\\diff_music\\diff_music\\models\\midilike_transformer.py:225\u001b[39m, in \u001b[36mcalculate_loss\u001b[39m\u001b[34m(self, token, token_type, pos)\u001b[39m\n\u001b[32m      0\u001b[39m <Error retrieving source code with stack_data see ipython/ipython#13598>\n",
      "\u001b[36mFile \u001b[39m\u001b[32m<string>:19\u001b[39m, in \u001b[36mforward\u001b[39m\u001b[34m(self, token, token_type, pos, condition)\u001b[39m\n",
      "\u001b[31mRuntimeError\u001b[39m: CUDA error: device-side assert triggered\nCUDA kernel errors might be asynchronously reported at some other API call, so the stacktrace below might be incorrect.\nFor debugging consider passing CUDA_LAUNCH_BLOCKING=1\nCompile with `TORCH_USE_CUDA_DSA` to enable device-side assertions.\n"
     ]
    }
   ],
   "source": [
    "from tqdm import tqdm\n",
    "import torch_util.wandb\n",
    "\n",
    "for epoch in range(training_params.num_epochs):\n",
    "    pbar = tqdm(dataloader, desc=f\"Epoch {epoch}\")\n",
    "    for token, token_type, pos in pbar:\n",
    "        model.train()\n",
    "\n",
    "        token = token.to(device)\n",
    "        token_type = token_type.to(device)\n",
    "        pos = pos.to(device)\n",
    "\n",
    "        loss = model.calculate_loss(token, token_type, pos)\n",
    "        \n",
    "        optim.zero_grad()\n",
    "        loss.total_loss.backward()\n",
    "        optim.step()\n",
    "\n",
    "        pbar.set_postfix(loss=loss.total_loss.item(), pitch_loss=loss.pitch_loss.item(), token_type_loss=loss.token_type_loss.item(), pitch_acc=loss.pitch_acc, token_type_acc=loss.token_type_acc)\n",
    "        wandb.log({\n",
    "            \"loss\": loss.total_loss.item(),\n",
    "            \"pitch_loss\": loss.pitch_loss.item(),\n",
    "            \"token_type_loss\": loss.token_type_loss.item(),\n",
    "            \"pitch_acc\": loss.pitch_acc,\n",
    "            \"token_type_acc\": loss.token_type_acc,\n",
    "        }, step=step)\n",
    "\n",
    "        if (step % training_params.generate_steps == 0):\n",
    "            model.eval()\n",
    "            pr = model.sample_midi(model_params.max_len)\n",
    "            torch_util.wandb.log_midi_as_audio(pr.to_midi(), 'audio', step, soundfont_path=Path(\"./ignore/Essential Keys-sforzando-v9.6.sf2\"))\n",
    "            torch_util.wandb.log_image(pr.to_tensor().t().flip(0), 'pr', step)\n",
    "\n",
    "            torch.cuda.empty_cache()\n",
    "\n",
    "        \n",
    "        step += 1\n",
    "        \n",
    "        if training_params.save_steps > 0 and step % training_params.save_steps == 0:\n",
    "            torch.save(model.state_dict(), Path(wandb.run.dir) / f'{step:06d}.pth')"
   ]
  },
  {
   "cell_type": "code",
   "execution_count": null,
   "metadata": {},
   "outputs": [],
   "source": [
    "torch.save(model.state_dict(), Path(wandb.run.dir) / f'{step:06d}.pth')"
   ]
  },
  {
   "cell_type": "code",
   "execution_count": 7,
   "metadata": {},
   "outputs": [
    {
     "data": {
      "text/plain": [
       "torch.Size([256, 88])"
      ]
     },
     "execution_count": 7,
     "metadata": {},
     "output_type": "execute_result"
    }
   ],
   "source": [
    "pr.to_tensor().shape"
   ]
  },
  {
   "cell_type": "code",
   "execution_count": 20,
   "metadata": {},
   "outputs": [
    {
     "name": "stderr",
     "output_type": "stream",
     "text": [
      "100%|██████████| 256/256 [00:02<00:00, 95.71it/s] \n"
     ]
    },
    {
     "data": {
      "text/plain": [
       "<wandb.sdk.data_types.image.Image at 0x1764ab1ea80>"
      ]
     },
     "execution_count": 20,
     "metadata": {},
     "output_type": "execute_result"
    }
   ],
   "source": [
    "model.eval()\n",
    "pr = model.sample_midi(model_params.max_len)\n",
    "torch_util.wandb.log_midi_as_audio(pr.to_midi(), 'audio', step, soundfont_path=Path(\"./ignore/Essential Keys-sforzando-v9.6.sf2\"))\n",
    "torch_util.wandb.log_image(pr.to_tensor().t().flip(0), 'pr', step)\n"
   ]
  },
  {
   "cell_type": "code",
   "execution_count": 19,
   "metadata": {},
   "outputs": [
    {
     "data": {
      "text/plain": [
       "ticks per beat: 480\n",
       "max tick: 0\n",
       "tempo changes: 1\n",
       "time sig: 0\n",
       "key sig: 0\n",
       "markers: 0\n",
       "lyrics: False\n",
       "instruments: 1"
      ]
     },
     "execution_count": 19,
     "metadata": {},
     "output_type": "execute_result"
    }
   ],
   "source": [
    "pr.to_midi('sample.mid')"
   ]
  },
  {
   "cell_type": "code",
   "execution_count": null,
   "metadata": {},
   "outputs": [
    {
     "data": {
      "text/plain": [
       "tensor([[ 0,  0],\n",
       "        [34, 47],\n",
       "        [51, 61],\n",
       "        [53, 63],\n",
       "        [58, 67],\n",
       "        [ 0,  0],\n",
       "        [ 0,  0],\n",
       "        [ 0,  0],\n",
       "        [ 0,  0],\n",
       "        [41, 50],\n",
       "        [ 0,  0],\n",
       "        [ 0,  0],\n",
       "        [46, 58],\n",
       "        [ 0,  0],\n",
       "        [ 0,  0],\n",
       "        [58, 69],\n",
       "        [ 0,  0],\n",
       "        [ 0,  0],\n",
       "        [ 0,  0],\n",
       "        [ 0,  0],\n",
       "        [41, 55],\n",
       "        [ 0,  0],\n",
       "        [ 0,  0],\n",
       "        [46, 65],\n",
       "        [ 0,  0],\n",
       "        [ 0,  0],\n",
       "        [58, 58],\n",
       "        [65, 75],\n",
       "        [69, 83],\n",
       "        [ 0,  0],\n",
       "        [63, 58],\n",
       "        [ 0,  0],\n",
       "        [ 0,  0],\n",
       "        [ 0,  0],\n",
       "        [41, 53],\n",
       "        [ 0,  0],\n",
       "        [ 0,  0],\n",
       "        [46, 63],\n",
       "        [ 0,  0],\n",
       "        [ 0,  0],\n",
       "        [58, 53],\n",
       "        [65, 79],\n",
       "        [ 0,  0],\n",
       "        [ 0,  0],\n",
       "        [ 0,  0],\n",
       "        [ 0,  0],\n",
       "        [41, 53],\n",
       "        [ 0,  0],\n",
       "        [ 0,  0],\n",
       "        [46, 62],\n",
       "        [ 0,  0],\n",
       "        [ 0,  0],\n",
       "        [34, 49],\n",
       "        [51, 64],\n",
       "        [53, 68],\n",
       "        [58, 76],\n",
       "        [ 0,  0],\n",
       "        [ 0,  0],\n",
       "        [ 0,  0],\n",
       "        [ 0,  0],\n",
       "        [41, 56],\n",
       "        [57, 75],\n",
       "        [ 0,  0],\n",
       "        [ 0,  0],\n",
       "        [46, 66],\n",
       "        [ 0,  0],\n",
       "        [ 0,  0],\n",
       "        [55, 78],\n",
       "        [ 0,  0],\n",
       "        [ 0,  0],\n",
       "        [ 0,  0],\n",
       "        [ 0,  0],\n",
       "        [41, 61],\n",
       "        [53, 67],\n",
       "        [58, 74],\n",
       "        [60, 81],\n",
       "        [ 0,  0],\n",
       "        [ 0,  0],\n",
       "        [46, 62],\n",
       "        [ 0,  0],\n",
       "        [ 0,  0],\n",
       "        [57, 69],\n",
       "        [ 0,  0],\n",
       "        [ 0,  0],\n",
       "        [ 0,  0],\n",
       "        [ 0,  0],\n",
       "        [41, 50],\n",
       "        [53, 45],\n",
       "        [58, 65],\n",
       "        [62, 76],\n",
       "        [ 0,  0],\n",
       "        [ 0,  0],\n",
       "        [46, 62],\n",
       "        [ 0,  0],\n",
       "        [ 0,  0],\n",
       "        [60, 69],\n",
       "        [65, 85],\n",
       "        [ 0,  0],\n",
       "        [ 0,  0],\n",
       "        [ 0,  0],\n",
       "        [ 0,  0],\n",
       "        [41, 59],\n",
       "        [58, 75],\n",
       "        [ 0,  0],\n",
       "        [ 0,  0],\n",
       "        [46, 65],\n",
       "        [ 0,  0],\n",
       "        [ 0,  0],\n",
       "        [34, 54],\n",
       "        [51, 68],\n",
       "        [53, 72],\n",
       "        [58, 82],\n",
       "        [ 0,  0],\n",
       "        [ 0,  0],\n",
       "        [ 0,  0],\n",
       "        [ 0,  0],\n",
       "        [41, 59],\n",
       "        [ 0,  0],\n",
       "        [ 0,  0],\n",
       "        [46, 65],\n",
       "        [ 0,  0],\n",
       "        [ 0,  0],\n",
       "        [58, 74],\n",
       "        [ 0,  0],\n",
       "        [46, 33],\n",
       "        [ 0,  0],\n",
       "        [ 0,  0],\n",
       "        [ 0,  0],\n",
       "        [41, 59],\n",
       "        [ 0,  0],\n",
       "        [ 0,  0],\n",
       "        [46, 64],\n",
       "        [ 0,  0],\n",
       "        [ 0,  0],\n",
       "        [58, 55],\n",
       "        [63, 68],\n",
       "        [65, 80],\n",
       "        [69, 87],\n",
       "        [ 0,  0],\n",
       "        [ 0,  0],\n",
       "        [ 0,  0],\n",
       "        [ 0,  0],\n",
       "        [41, 51],\n",
       "        [ 0,  0],\n",
       "        [ 0,  0],\n",
       "        [46, 62],\n",
       "        [ 0,  0],\n",
       "        [ 0,  0],\n",
       "        [58, 63],\n",
       "        [65, 81],\n",
       "        [ 0,  0],\n",
       "        [ 0,  0],\n",
       "        [ 0,  0],\n",
       "        [ 0,  0],\n",
       "        [41, 59],\n",
       "        [ 0,  0],\n",
       "        [ 0,  0],\n",
       "        [46, 62],\n",
       "        [ 0,  0],\n",
       "        [ 0,  0],\n",
       "        [51, 67],\n",
       "        [53, 69],\n",
       "        [58, 82],\n",
       "        [ 0,  0],\n",
       "        [ 0,  0],\n",
       "        [ 0,  0],\n",
       "        [ 0,  0],\n",
       "        [41, 57],\n",
       "        [53, 51],\n",
       "        [57, 79],\n",
       "        [ 0,  0],\n",
       "        [ 0,  0],\n",
       "        [46, 57],\n",
       "        [ 0,  0],\n",
       "        [ 0,  0],\n",
       "        [55, 78],\n",
       "        [ 0,  0],\n",
       "        [ 0,  0],\n",
       "        [ 0,  0],\n",
       "        [ 0,  0],\n",
       "        [41, 60],\n",
       "        [53, 73],\n",
       "        [58, 74],\n",
       "        [60, 83],\n",
       "        [ 0,  0],\n",
       "        [ 0,  0],\n",
       "        [46, 56],\n",
       "        [ 0,  0],\n",
       "        [ 0,  0],\n",
       "        [57, 73],\n",
       "        [ 0,  0],\n",
       "        [ 0,  0],\n",
       "        [ 0,  0],\n",
       "        [ 0,  0],\n",
       "        [41, 61],\n",
       "        [58, 70],\n",
       "        [62, 82],\n",
       "        [ 0,  0],\n",
       "        [ 0,  0],\n",
       "        [46, 65],\n",
       "        [ 0,  0],\n",
       "        [ 0,  0],\n",
       "        [60, 69],\n",
       "        [65, 85],\n",
       "        [ 0,  0],\n",
       "        [ 0,  0],\n",
       "        [ 0,  0],\n",
       "        [ 0,  0],\n",
       "        [58, 74],\n",
       "        [ 0,  0],\n",
       "        [ 0,  0],\n",
       "        [ 0,  0],\n",
       "        [ 0,  0],\n",
       "        [ 0,  0],\n",
       "        [ 0,  0],\n",
       "        [ 0,  0],\n",
       "        [ 0,  0],\n",
       "        [ 0,  0],\n",
       "        [ 0,  0],\n",
       "        [ 0,  0],\n",
       "        [ 0,  0],\n",
       "        [ 0,  0],\n",
       "        [ 0,  0],\n",
       "        [ 0,  0],\n",
       "        [ 0,  0],\n",
       "        [ 0,  0],\n",
       "        [ 0,  0],\n",
       "        [ 0,  0],\n",
       "        [ 0,  0],\n",
       "        [ 0,  0],\n",
       "        [ 0,  0],\n",
       "        [ 0,  0],\n",
       "        [ 0,  0],\n",
       "        [ 0,  0],\n",
       "        [ 0,  0],\n",
       "        [ 0,  0],\n",
       "        [ 0,  0],\n",
       "        [ 0,  0],\n",
       "        [ 0,  0],\n",
       "        [ 0,  0],\n",
       "        [ 0,  0],\n",
       "        [ 0,  0],\n",
       "        [ 0,  0],\n",
       "        [ 0,  0],\n",
       "        [ 0,  0],\n",
       "        [ 0,  0],\n",
       "        [ 0,  0],\n",
       "        [ 0,  0],\n",
       "        [ 0,  0],\n",
       "        [ 0,  0],\n",
       "        [ 0,  0],\n",
       "        [ 0,  0],\n",
       "        [ 0,  0],\n",
       "        [ 0,  0],\n",
       "        [ 0,  0],\n",
       "        [ 0,  0],\n",
       "        [ 0,  0],\n",
       "        [ 0,  0],\n",
       "        [ 0,  0],\n",
       "        [ 0,  0],\n",
       "        [ 0,  0],\n",
       "        [ 0,  0],\n",
       "        [ 0,  0],\n",
       "        [ 0,  0],\n",
       "        [ 0,  0],\n",
       "        [ 0,  0],\n",
       "        [ 0,  0],\n",
       "        [ 0,  0],\n",
       "        [ 0,  0],\n",
       "        [ 0,  0],\n",
       "        [ 0,  0],\n",
       "        [ 0,  0],\n",
       "        [ 0,  0],\n",
       "        [ 0,  0],\n",
       "        [ 0,  0],\n",
       "        [ 0,  0],\n",
       "        [ 0,  0],\n",
       "        [ 0,  0],\n",
       "        [ 0,  0],\n",
       "        [ 0,  0],\n",
       "        [ 0,  0],\n",
       "        [ 0,  0],\n",
       "        [ 0,  0],\n",
       "        [ 0,  0],\n",
       "        [ 0,  0],\n",
       "        [ 0,  0],\n",
       "        [ 0,  0],\n",
       "        [ 0,  0],\n",
       "        [ 0,  0]], device='cuda:0')"
      ]
     },
     "metadata": {},
     "output_type": "display_data"
    }
   ],
   "source": [
    "token[0]"
   ]
  },
  {
   "cell_type": "code",
   "execution_count": null,
   "metadata": {},
   "outputs": [
    {
     "name": "stderr",
     "output_type": "stream",
     "text": [
      "100%|██████████| 256/256 [00:03<00:00, 78.72it/s]\n"
     ]
    }
   ],
   "source": [
    "pr = model.sample_midi(256)"
   ]
  },
  {
   "cell_type": "code",
   "execution_count": null,
   "metadata": {},
   "outputs": [
    {
     "data": {
      "text/plain": [
       "tensor([[0, 1],\n",
       "        [0, 1],\n",
       "        [0, 1],\n",
       "        [0, 1],\n",
       "        [0, 1],\n",
       "        [0, 1],\n",
       "        [0, 1],\n",
       "        [0, 1],\n",
       "        [0, 0],\n",
       "        [0, 1],\n",
       "        [0, 1],\n",
       "        [0, 1],\n",
       "        [0, 1],\n",
       "        [0, 1],\n",
       "        [0, 1],\n",
       "        [0, 1],\n",
       "        [0, 1],\n",
       "        [0, 1],\n",
       "        [0, 1],\n",
       "        [0, 1],\n",
       "        [0, 0],\n",
       "        [0, 1],\n",
       "        [0, 1],\n",
       "        [0, 1],\n",
       "        [0, 1],\n",
       "        [0, 1],\n",
       "        [0, 1],\n",
       "        [0, 1],\n",
       "        [0, 1],\n",
       "        [0, 1],\n",
       "        [0, 1],\n",
       "        [0, 1]], device='cuda:0')"
      ]
     },
     "metadata": {},
     "output_type": "display_data"
    }
   ],
   "source": [
    "token_type[:,:2]"
   ]
  },
  {
   "cell_type": "code",
   "execution_count": null,
   "metadata": {},
   "outputs": [
    {
     "name": "stdout",
     "output_type": "stream",
     "text": [
      "tensor([[[ 4.0581, -4.0700]],\n",
      "\n",
      "        [[ 4.0581, -4.0700]],\n",
      "\n",
      "        [[ 4.0581, -4.0700]],\n",
      "\n",
      "        [[ 4.0581, -4.0700]],\n",
      "\n",
      "        [[ 4.0581, -4.0700]],\n",
      "\n",
      "        [[ 4.0581, -4.0700]],\n",
      "\n",
      "        [[ 4.0581, -4.0700]],\n",
      "\n",
      "        [[ 4.0581, -4.0700]],\n",
      "\n",
      "        [[ 4.0581, -4.0700]],\n",
      "\n",
      "        [[ 4.0581, -4.0700]],\n",
      "\n",
      "        [[ 4.0581, -4.0700]],\n",
      "\n",
      "        [[ 4.0581, -4.0700]],\n",
      "\n",
      "        [[ 4.0581, -4.0700]],\n",
      "\n",
      "        [[ 4.0581, -4.0700]],\n",
      "\n",
      "        [[ 4.0581, -4.0700]],\n",
      "\n",
      "        [[ 4.0581, -4.0700]],\n",
      "\n",
      "        [[ 4.0581, -4.0700]],\n",
      "\n",
      "        [[ 4.0581, -4.0700]],\n",
      "\n",
      "        [[ 4.0581, -4.0700]],\n",
      "\n",
      "        [[ 4.0581, -4.0700]],\n",
      "\n",
      "        [[ 4.0581, -4.0700]],\n",
      "\n",
      "        [[ 4.0581, -4.0700]],\n",
      "\n",
      "        [[ 4.0581, -4.0700]],\n",
      "\n",
      "        [[ 4.0581, -4.0700]],\n",
      "\n",
      "        [[ 4.0581, -4.0700]],\n",
      "\n",
      "        [[ 4.0581, -4.0700]],\n",
      "\n",
      "        [[ 4.0581, -4.0700]],\n",
      "\n",
      "        [[ 4.0581, -4.0700]],\n",
      "\n",
      "        [[ 4.0581, -4.0700]],\n",
      "\n",
      "        [[ 4.0581, -4.0700]],\n",
      "\n",
      "        [[ 4.0581, -4.0700]],\n",
      "\n",
      "        [[ 4.0581, -4.0700]]], device='cuda:0', grad_fn=<SliceBackward0>) tensor([[1],\n",
      "        [1],\n",
      "        [1],\n",
      "        [1],\n",
      "        [1],\n",
      "        [1],\n",
      "        [1],\n",
      "        [1],\n",
      "        [0],\n",
      "        [1],\n",
      "        [1],\n",
      "        [1],\n",
      "        [1],\n",
      "        [1],\n",
      "        [1],\n",
      "        [1],\n",
      "        [1],\n",
      "        [1],\n",
      "        [1],\n",
      "        [1],\n",
      "        [0],\n",
      "        [1],\n",
      "        [1],\n",
      "        [1],\n",
      "        [1],\n",
      "        [1],\n",
      "        [1],\n",
      "        [1],\n",
      "        [1],\n",
      "        [1],\n",
      "        [1],\n",
      "        [1]], device='cuda:0')\n"
     ]
    }
   ],
   "source": [
    "a = model.calculate_loss(token[:,:2], token_type[:,:2], pos[:,:2])"
   ]
  },
  {
   "cell_type": "code",
   "execution_count": null,
   "metadata": {},
   "outputs": [
    {
     "data": {
      "text/plain": [
       "<matplotlib.image.AxesImage at 0x1fc2a0c47d0>"
      ]
     },
     "metadata": {},
     "output_type": "display_data"
    },
    {
     "data": {
      "image/png": "[encoded data removed]",
      "text/plain": [
       "<Figure size 640x480 with 1 Axes>"
      ]
     },
     "metadata": {},
     "output_type": "display_data"
    }
   ],
   "source": [
    "import einops\n",
    "\n",
    "\n",
    "pe = one_hot_pe # (len, dim)\n",
    "pos = torch.tensor([ # (batch_size, len)\n",
    "    [0,1,2,3,4],\n",
    "    [0,1,1,1,2]\n",
    "])\n",
    "pe_extracted = pe[pos]\n",
    "plt.imshow(pe_extracted[1])"
   ]
  },
  {
   "cell_type": "code",
   "execution_count": null,
   "metadata": {},
   "outputs": [
    {
     "data": {
      "text/plain": [
       "(torch.Size([128, 32]), torch.Size([2, 5]))"
      ]
     },
     "metadata": {},
     "output_type": "display_data"
    }
   ],
   "source": [
    "pe.shape, pos.shape"
   ]
  },
  {
   "cell_type": "code",
   "execution_count": null,
   "metadata": {},
   "outputs": [],
   "source": [
    "from torch.utils.data import DataLoader\n",
    "\n",
    "\n",
    "dataloader = DataLoader(ds, batch_size=10, collate_fn=lambda x: collate_fn(x, max_tokens=model_params.max_tokens))"
   ]
  },
  {
   "cell_type": "code",
   "execution_count": null,
   "metadata": {},
   "outputs": [
    {
     "data": {
      "text/plain": [
       "torch.Size([10, 268, 2])"
      ]
     },
     "metadata": {},
     "output_type": "display_data"
    }
   ],
   "source": [
    "next(iter(dataloader))[0].shape"
   ]
  },
  {
   "cell_type": "code",
   "execution_count": null,
   "metadata": {},
   "outputs": [
    {
     "data": {
      "image/png": "[encoded data removed]",
      "text/plain": [
       "<Figure size 640x480 with 1 Axes>"
      ]
     },
     "metadata": {},
     "output_type": "display_data"
    }
   ],
   "source": [
    "for token, token_type, pos in dataloader:\n",
    "    print(token.shape, token_type.shape, pos.shape)\n",
    "    break"
   ]
  },
  {
   "cell_type": "code",
   "execution_count": null,
   "metadata": {},
   "outputs": [
    {
     "ename": "NameError",
     "evalue": "name 'audio_path' is not defined",
     "output_type": "error",
     "traceback": [
      "\u001b[31m---------------------------------------------------------------------------\u001b[39m",
      "\u001b[31mNameError\u001b[39m                                 Traceback (most recent call last)",
      "\u001b[36mCell\u001b[39m\u001b[36m \u001b[39m\u001b[32mIn[1]\u001b[39m\u001b[32m, line 1\u001b[39m\n\u001b[32m----> \u001b[39m\u001b[32m1\u001b[39m \u001b[33mf\u001b[39m\u001b[33m\"\u001b[39m\u001b[33mfluidsynth -R1 -F \u001b[39m\u001b[38;5;132;01m{\u001b[39;00m\u001b[43maudio_path\u001b[49m\u001b[38;5;132;01m}\u001b[39;00m\u001b[33m \u001b[39m\u001b[38;5;132;01m{\u001b[39;00m\u001b[33m'\u001b[39m\u001b[33m./ignore/Essential Keys-sforzando-v9.6.sf2\u001b[39m\u001b[33m'\u001b[39m\u001b[38;5;132;01m}\u001b[39;00m\u001b[33m \u001b[39m\u001b[38;5;132;01m{\u001b[39;00m\u001b[33m'\u001b[39m\u001b[33msample.mid\u001b[39m\u001b[33m'\u001b[39m\u001b[38;5;132;01m}\u001b[39;00m\u001b[33m\"\u001b[39m\n",
      "\u001b[31mNameError\u001b[39m: name 'audio_path' is not defined"
     ]
    }
   ],
   "source": [
    "f\"fluidsynth -R1 -F {audio_path} {'./ignore/Essential Keys-sforzando-v9.6.sf2'} {'sample.mid'}\""
   ]
  },
  {
   "cell_type": "code",
   "execution_count": 47,
   "metadata": {},
   "outputs": [
    {
     "data": {
      "text/plain": [
       "<matplotlib.image.AxesImage at 0x1fc2a0c47d0>"
      ]
     },
     "execution_count": 47,
     "metadata": {},
     "output_type": "execute_result"
    },
    {
     "data": {
      "image/png": "[encoded data removed]",
      "text/plain": [
       "<Figure size 640x480 with 1 Axes>"
      ]
     },
     "metadata": {},
     "output_type": "display_data"
    }
   ],
   "source": [
    "import einops\n",
    "\n",
    "\n",
    "pe = one_hot_pe # (len, dim)\n",
    "pos = torch.tensor([ # (batch_size, len)\n",
    "    [0,1,2,3,4],\n",
    "    [0,1,1,1,2]\n",
    "])\n",
    "pe_extracted = pe[pos]\n",
    "plt.imshow(pe_extracted[1])"
   ]
  },
  {
   "cell_type": "code",
   "execution_count": 49,
   "metadata": {},
   "outputs": [
    {
     "data": {
      "text/plain": [
       "(torch.Size([128, 32]), torch.Size([2, 5]))"
      ]
     },
     "execution_count": 49,
     "metadata": {},
     "output_type": "execute_result"
    }
   ],
   "source": [
    "pe.shape, pos.shape"
   ]
  },
  {
   "cell_type": "code",
   "execution_count": 59,
   "metadata": {},
   "outputs": [],
   "source": [
    "from torch.utils.data import DataLoader\n",
    "\n",
    "\n",
    "dataloader = DataLoader(ds, batch_size=10, collate_fn=lambda x: collate_fn(x, max_tokens=model_params.max_tokens))"
   ]
  },
  {
   "cell_type": "code",
   "execution_count": 58,
   "metadata": {},
   "outputs": [
    {
     "data": {
      "text/plain": [
       "torch.Size([10, 268, 2])"
      ]
     },
     "execution_count": 58,
     "metadata": {},
     "output_type": "execute_result"
    }
   ],
   "source": [
    "next(iter(dataloader))[0].shape"
   ]
  },
  {
   "cell_type": "code",
   "execution_count": 36,
   "metadata": {},
   "outputs": [
    {
     "data": {
      "image/png": "[encoded data removed]",
      "text/plain": [
       "<Figure size 640x480 with 1 Axes>"
      ]
     },
     "metadata": {},
     "output_type": "display_data"
    }
   ],
   "source": [
    "for token, token_type, pos in dataloader:\n",
    "    print(token.shape, token_type.shape, pos.shape)\n",
    "    break"
   ]
  }
 ],
 "metadata": {
  "kernelspec": {
   "display_name": "13",
   "language": "python",
   "name": "python3"
  },
  "language_info": {
   "codemirror_mode": {
    "name": "ipython",
    "version": 3
   },
   "file_extension": ".py",
   "mimetype": "text/x-python",
   "name": "python",
   "nbconvert_exporter": "python",
   "pygments_lexer": "ipython3",
   "version": "3.13.2"
  }
 },
 "nbformat": 4,
 "nbformat_minor": 2
}
