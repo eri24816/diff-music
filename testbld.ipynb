{
 "cells": [
  {
   "cell_type": "code",
   "execution_count": 1,
   "metadata": {},
   "outputs": [],
   "source": [
    "import sympy\n",
    "import sympy.stats"
   ]
  },
  {
   "cell_type": "code",
   "execution_count": 2,
   "metadata": {},
   "outputs": [
    {
     "data": {
      "text/latex": [
       "$\\displaystyle - \\frac{\\left(z_{t} \\left(\\beta_{t} \\gamma - z_{t-1} \\left(\\beta_{t} - 1\\right)\\right) - \\left(z_{t} - 1\\right) \\left(- \\beta_{t} \\gamma + z_{t-1} \\left(\\beta_{t} - 1\\right) + 1\\right)\\right) \\left(z_{t-1} \\left(\\gamma \\left(\\beta_{t} - 1\\right) \\left(\\beta_{t} + k_{t} - 1\\right) - k_{t} z_{0} \\left(\\beta_{t} - 1\\right)\\right) + \\left(z_{t-1} - 1\\right) \\left(\\gamma \\left(\\beta_{t} - 1\\right) \\left(\\beta_{t} + k_{t} - 1\\right) + k_{t} z_{0} \\left(1 - \\beta_{t}\\right) - \\left(\\beta_{t} - 1\\right)^{2}\\right)\\right)}{\\left(\\beta_{t} - 1\\right)^{2} \\left(z_{t} \\left(\\gamma \\left(k_{t} - 1\\right) - k_{t} z_{0}\\right) + \\left(z_{t} - 1\\right) \\left(\\gamma \\left(k_{t} - 1\\right) - k_{t} z_{0} + 1\\right)\\right)}$"
      ],
      "text/plain": [
       "-(z_t*(\\beta_t*\\gamma - z_{t-1}*(\\beta_t - 1)) - (z_t - 1)*(-\\beta_t*\\gamma + z_{t-1}*(\\beta_t - 1) + 1))*(z_{t-1}*(\\gamma*(\\beta_t - 1)*(\\beta_t + k_t - 1) - k_t*z_0*(\\beta_t - 1)) + (z_{t-1} - 1)*(\\gamma*(\\beta_t - 1)*(\\beta_t + k_t - 1) + k_t*z_0*(1 - \\beta_t) - (\\beta_t - 1)**2))/((\\beta_t - 1)**2*(z_t*(\\gamma*(k_t - 1) - k_t*z_0) + (z_t - 1)*(\\gamma*(k_t - 1) - k_t*z_0 + 1)))"
      ]
     },
     "execution_count": 2,
     "metadata": {},
     "output_type": "execute_result"
    }
   ],
   "source": [
    "temp: list[sympy.Symbol] = sympy.symbols(r'z_t z_{t-1} \\gamma \\beta_t k_t z_0')\n",
    "(zt, ztm1, gamma, betat, kt, z0) = temp\n",
    "\n",
    "# the method in the paper is equivalent to setting gamma = 0.5.\n",
    "\n",
    "# eq. 5\n",
    "ktm1 = kt / (1-betat)\n",
    "bt = gamma*(1-kt)\n",
    "btm1 = gamma*(1-ktm1)\n",
    "\n",
    "\n",
    "def bernoulli_posterior(x, positive_prob) -> sympy.Expr:\n",
    "    '''\n",
    "    This function computes p(x|conditions) for a variable x that \n",
    "    follows a Bernoulli distribution B(x; positive_prob(conditions)), where positive_prob is a function of the conditions.\n",
    "    '''\n",
    "    return x*(positive_prob) + (1-x)*(1-positive_prob)\n",
    "\n",
    "# eq. 4\n",
    "# q(z^t|z^{t-1}) = B(zt; ztm1(1-betat)+gamma*betat)\n",
    "q_zt_ztm1 = bernoulli_posterior(zt, ztm1*(1-betat)+gamma*betat)\n",
    "\n",
    "# eq. 5\n",
    "# q(z^t|z^0) = B(zt; kt*z0+bt)\n",
    "q_zt_z0 = bernoulli_posterior(zt, kt*z0+bt)\n",
    "\n",
    "# eq. 5\n",
    "# q(z^{t-1}|z^0) = B(ztm1; ktm1*z0+btm1)\n",
    "q_ztm1_z0 = bernoulli_posterior(ztm1, ktm1*z0+btm1)\n",
    "\n",
    "# the denoizer predicts p_\\theta(z^0|z^t) = B(z^0; pred1)\n",
    "pred1 = sympy.symbols('pred1')\n",
    "pred0 = 1-pred1\n",
    "\n",
    "# eq. 9\n",
    "# q(z^{t-1}|z^t, z^0) =  q(z^t|z^{t-1}) * q(z^{t-1}|z^0) / q(z^t|z^0)\n",
    "q_ztm1_zt_z0 = (q_zt_ztm1 * q_ztm1_z0) / q_zt_z0\n",
    "q_ztm1_zt_z0.simplify()"
   ]
  },
  {
   "cell_type": "code",
   "execution_count": 20,
   "metadata": {},
   "outputs": [],
   "source": [
    "# subsititute the variables that we don't care much about in the following steps.\n",
    "\n",
    "# q(z^{t-1}=1|z^t, z^0)\n",
    "q_ztm1_eq_1_zt_z0 = q_ztm1_zt_z0.subs(gamma, sympy.Rational(.5)).subs(betat, 0.2).subs(zt, 0).subs(kt, 0.1).subs(ztm1, 1)"
   ]
  },
  {
   "cell_type": "code",
   "execution_count": 32,
   "metadata": {},
   "outputs": [
    {
     "ename": "ValueError",
     "evalue": "only one element tensors can be converted to Python scalars",
     "output_type": "error",
     "traceback": [
      "\u001b[1;31m---------------------------------------------------------------------------\u001b[0m",
      "\u001b[1;31mValueError\u001b[0m                                Traceback (most recent call last)",
      "Cell \u001b[1;32mIn[32], line 6\u001b[0m\n\u001b[0;32m      2\u001b[0m \u001b[38;5;28;01mimport\u001b[39;00m \u001b[38;5;21;01mtorch\u001b[39;00m\n\u001b[0;32m      5\u001b[0m q_z0_eq_1 \u001b[38;5;241m=\u001b[39m q_ztm1_eq_1_zt_z0\u001b[38;5;241m.\u001b[39msubs(z0,\u001b[38;5;241m1\u001b[39m)\n\u001b[1;32m----> 6\u001b[0m q_z0_eq_0 \u001b[38;5;241m=\u001b[39m \u001b[43mq_ztm1_eq_1_zt_z0\u001b[49m\u001b[38;5;241;43m.\u001b[39;49m\u001b[43msubs\u001b[49m\u001b[43m(\u001b[49m\u001b[43mz0\u001b[49m\u001b[43m,\u001b[49m\u001b[43mtorch\u001b[49m\u001b[38;5;241;43m.\u001b[39;49m\u001b[43mtensor\u001b[49m\u001b[43m(\u001b[49m\u001b[43m[\u001b[49m\u001b[38;5;241;43m1\u001b[39;49m\u001b[43m,\u001b[49m\u001b[38;5;241;43m2\u001b[39;49m\u001b[43m]\u001b[49m\u001b[43m)\u001b[49m\u001b[43m)\u001b[49m\n\u001b[0;32m      7\u001b[0m p_ztm1 \u001b[38;5;241m=\u001b[39m q_z0_eq_1\u001b[38;5;241m*\u001b[39mpred1 \u001b[38;5;241m+\u001b[39m q_z0_eq_0\u001b[38;5;241m*\u001b[39mpred0\n\u001b[0;32m      8\u001b[0m d \u001b[38;5;241m=\u001b[39m p_ztm1\u001b[38;5;241m.\u001b[39msimplify()\n",
      "File \u001b[1;32mc:\\Users\\User\\miniconda3\\envs\\gr\\Lib\\site-packages\\sympy\\core\\basic.py:1074\u001b[0m, in \u001b[0;36mBasic.subs\u001b[1;34m(self, *args, **kwargs)\u001b[0m\n\u001b[0;32m   1071\u001b[0m     \u001b[38;5;28;01melse\u001b[39;00m:\n\u001b[0;32m   1072\u001b[0m         \u001b[38;5;28;01mreturn\u001b[39;00m sympify(new, strict\u001b[38;5;241m=\u001b[39m\u001b[38;5;28;01mTrue\u001b[39;00m)\n\u001b[1;32m-> 1074\u001b[0m sequence \u001b[38;5;241m=\u001b[39m \u001b[43m[\u001b[49m\u001b[43m(\u001b[49m\u001b[43msympify_old\u001b[49m\u001b[43m(\u001b[49m\u001b[43ms1\u001b[49m\u001b[43m)\u001b[49m\u001b[43m,\u001b[49m\u001b[43m \u001b[49m\u001b[43msympify_new\u001b[49m\u001b[43m(\u001b[49m\u001b[43ms2\u001b[49m\u001b[43m)\u001b[49m\u001b[43m)\u001b[49m\u001b[43m \u001b[49m\u001b[38;5;28;43;01mfor\u001b[39;49;00m\u001b[43m \u001b[49m\u001b[43ms1\u001b[49m\u001b[43m,\u001b[49m\u001b[43m \u001b[49m\u001b[43ms2\u001b[49m\u001b[43m \u001b[49m\u001b[38;5;129;43;01min\u001b[39;49;00m\u001b[43m \u001b[49m\u001b[43msequence\u001b[49m\u001b[43m]\u001b[49m\n\u001b[0;32m   1076\u001b[0m \u001b[38;5;66;03m# skip if there is no change\u001b[39;00m\n\u001b[0;32m   1077\u001b[0m sequence \u001b[38;5;241m=\u001b[39m [(s1, s2) \u001b[38;5;28;01mfor\u001b[39;00m s1, s2 \u001b[38;5;129;01min\u001b[39;00m sequence \u001b[38;5;28;01mif\u001b[39;00m \u001b[38;5;129;01mnot\u001b[39;00m _aresame(s1, s2)]\n",
      "File \u001b[1;32mc:\\Users\\User\\miniconda3\\envs\\gr\\Lib\\site-packages\\sympy\\core\\basic.py:1074\u001b[0m, in \u001b[0;36m<listcomp>\u001b[1;34m(.0)\u001b[0m\n\u001b[0;32m   1071\u001b[0m     \u001b[38;5;28;01melse\u001b[39;00m:\n\u001b[0;32m   1072\u001b[0m         \u001b[38;5;28;01mreturn\u001b[39;00m sympify(new, strict\u001b[38;5;241m=\u001b[39m\u001b[38;5;28;01mTrue\u001b[39;00m)\n\u001b[1;32m-> 1074\u001b[0m sequence \u001b[38;5;241m=\u001b[39m [(sympify_old(s1), \u001b[43msympify_new\u001b[49m\u001b[43m(\u001b[49m\u001b[43ms2\u001b[49m\u001b[43m)\u001b[49m) \u001b[38;5;28;01mfor\u001b[39;00m s1, s2 \u001b[38;5;129;01min\u001b[39;00m sequence]\n\u001b[0;32m   1076\u001b[0m \u001b[38;5;66;03m# skip if there is no change\u001b[39;00m\n\u001b[0;32m   1077\u001b[0m sequence \u001b[38;5;241m=\u001b[39m [(s1, s2) \u001b[38;5;28;01mfor\u001b[39;00m s1, s2 \u001b[38;5;129;01min\u001b[39;00m sequence \u001b[38;5;28;01mif\u001b[39;00m \u001b[38;5;129;01mnot\u001b[39;00m _aresame(s1, s2)]\n",
      "File \u001b[1;32mc:\\Users\\User\\miniconda3\\envs\\gr\\Lib\\site-packages\\sympy\\core\\basic.py:1072\u001b[0m, in \u001b[0;36mBasic.subs.<locals>.sympify_new\u001b[1;34m(new)\u001b[0m\n\u001b[0;32m   1070\u001b[0m     \u001b[38;5;28;01mreturn\u001b[39;00m sympify(new, strict\u001b[38;5;241m=\u001b[39m\u001b[38;5;28;01mFalse\u001b[39;00m)\n\u001b[0;32m   1071\u001b[0m \u001b[38;5;28;01melse\u001b[39;00m:\n\u001b[1;32m-> 1072\u001b[0m     \u001b[38;5;28;01mreturn\u001b[39;00m \u001b[43msympify\u001b[49m\u001b[43m(\u001b[49m\u001b[43mnew\u001b[49m\u001b[43m,\u001b[49m\u001b[43m \u001b[49m\u001b[43mstrict\u001b[49m\u001b[38;5;241;43m=\u001b[39;49m\u001b[38;5;28;43;01mTrue\u001b[39;49;00m\u001b[43m)\u001b[49m\n",
      "File \u001b[1;32mc:\\Users\\User\\miniconda3\\envs\\gr\\Lib\\site-packages\\sympy\\core\\sympify.py:449\u001b[0m, in \u001b[0;36msympify\u001b[1;34m(a, locals, convert_xor, strict, rational, evaluate)\u001b[0m\n\u001b[0;32m    445\u001b[0m                 \u001b[38;5;28;01mpass\u001b[39;00m\n\u001b[0;32m    446\u001b[0m \u001b[38;5;28;01melif\u001b[39;00m \u001b[38;5;28mhasattr\u001b[39m(a, \u001b[38;5;124m'\u001b[39m\u001b[38;5;124m__float__\u001b[39m\u001b[38;5;124m'\u001b[39m):\n\u001b[0;32m    447\u001b[0m     \u001b[38;5;66;03m# float and int can coerce size-one numpy arrays to their lone\u001b[39;00m\n\u001b[0;32m    448\u001b[0m     \u001b[38;5;66;03m# element.  See issue https://github.com/numpy/numpy/issues/10404.\u001b[39;00m\n\u001b[1;32m--> 449\u001b[0m     \u001b[38;5;28;01mreturn\u001b[39;00m sympify(\u001b[38;5;28mfloat\u001b[39m(a))\n\u001b[0;32m    450\u001b[0m \u001b[38;5;28;01melif\u001b[39;00m \u001b[38;5;28mhasattr\u001b[39m(a, \u001b[38;5;124m'\u001b[39m\u001b[38;5;124m__int__\u001b[39m\u001b[38;5;124m'\u001b[39m):\n\u001b[0;32m    451\u001b[0m     \u001b[38;5;28;01mreturn\u001b[39;00m sympify(\u001b[38;5;28mint\u001b[39m(a))\n",
      "\u001b[1;31mValueError\u001b[0m: only one element tensors can be converted to Python scalars"
     ]
    }
   ],
   "source": [
    "# eq 8 (ground truth)\n",
    "q_z0_eq_1 = q_ztm1_eq_1_zt_z0.subs(z0,1)\n",
    "q_z0_eq_0 = q_ztm1_eq_1_zt_z0.subs(z0,0)\n",
    "p_ztm1 = q_z0_eq_1*pred1 + q_z0_eq_0*pred0\n",
    "d = p_ztm1.simplify()\n",
    "d"
   ]
  },
  {
   "cell_type": "code",
   "execution_count": 29,
   "metadata": {},
   "outputs": [
    {
     "data": {
      "text/latex": [
       "$\\displaystyle \\frac{- 0.01 pred_{1} - 0.0225}{0.08 pred_{1} - 0.315}$"
      ],
      "text/plain": [
       "(-0.01*pred1 - 0.0225)/(0.08*pred1 - 0.315)"
      ]
     },
     "metadata": {},
     "output_type": "display_data"
    },
    {
     "data": {
      "text/latex": [
       "$\\displaystyle \\frac{0.00363636363636364 pred_{1}^{2} + 0.00204545454545456 pred_{1} - 0.00255681818181817}{0.08 pred_{1} - 0.315}$"
      ],
      "text/plain": [
       "(0.00363636363636364*pred1**2 + 0.00204545454545456*pred1 - 0.00255681818181817)/(0.08*pred1 - 0.315)"
      ]
     },
     "metadata": {},
     "output_type": "display_data"
    }
   ],
   "source": [
    "# eq. 10 on the paper. Its numerical result does not match eq. 8.\n",
    "import IPython\n",
    "import IPython.display\n",
    "\n",
    "\n",
    "e = ((1-betat)*zt+gamma*betat)*(kt*pred1+bt*0.5)\n",
    "f = ((1-betat)*(1-zt)+gamma*betat)*(kt*pred0+bt*0.5)\n",
    "\n",
    "# the eq. 10 claims this is the correct value of pθ(zt−1|zt) \n",
    "g = (e/(e+f)).subs(gamma, sympy.Rational(.5)).subs(betat, 0.2).subs(zt, 0).subs(kt, 0.1).simplify()\n",
    "IPython.display.display(g)\n",
    "IPython.display.display((d-g).simplify()) # large"
   ]
  },
  {
   "cell_type": "code",
   "execution_count": 30,
   "metadata": {},
   "outputs": [
    {
     "data": {
      "text/latex": [
       "$\\displaystyle \\frac{- 0.01 pred_{1} - 0.035}{0.08 pred_{1} - 0.44}$"
      ],
      "text/plain": [
       "(-0.01*pred1 - 0.035)/(0.08*pred1 - 0.44)"
      ]
     },
     "metadata": {},
     "output_type": "display_data"
    },
    {
     "data": {
      "text/latex": [
       "$\\displaystyle \\frac{0.00363636363636364 pred_{1}^{2} - 0.00363636363636364 pred_{1} + 6.93889390390723 \\cdot 10^{-18}}{0.08 pred_{1} - 0.44}$"
      ],
      "text/plain": [
       "(0.00363636363636364*pred1**2 - 0.00363636363636364*pred1 + 6.93889390390723e-18)/(0.08*pred1 - 0.44)"
      ]
     },
     "metadata": {},
     "output_type": "display_data"
    }
   ],
   "source": [
    "# This should be the correct version of eq. 10. But it only works for pred1 = 0 or 1.\n",
    "e = ((1-betat)*zt+gamma*betat)*(kt*pred1+bt-gamma*betat)\n",
    "f = ((1-betat)*(1-zt)+gamma*betat)*(kt*pred0+bt-gamma*betat)\n",
    "\n",
    "\n",
    "g = (e/(e+f)).subs(gamma, sympy.Rational(.5)).subs(betat, 0.2).subs(zt, 0).subs(kt, 0.1).simplify()\n",
    "IPython.display.display(g)\n",
    "IPython.display.display((d-g).simplify()) # small. zero when pred1 = 0 or 1."
   ]
  },
  {
   "cell_type": "code",
   "execution_count": null,
   "metadata": {},
   "outputs": [],
   "source": []
  },
  {
   "cell_type": "code",
   "execution_count": null,
   "metadata": {},
   "outputs": [],
   "source": []
  },
  {
   "cell_type": "code",
   "execution_count": null,
   "metadata": {},
   "outputs": [],
   "source": []
  },
  {
   "cell_type": "code",
   "execution_count": null,
   "metadata": {},
   "outputs": [
    {
     "data": {
      "text/latex": [
       "$\\displaystyle \\frac{- 0.0125 pred_{1} - 0.04375}{0.1 pred_{1} - 0.55}$"
      ],
      "text/plain": [
       "(-0.0125*pred1 - 0.04375)/(0.1*pred1 - 0.55)"
      ]
     },
     "execution_count": 294,
     "metadata": {},
     "output_type": "execute_result"
    }
   ],
   "source": [
    "# The paper used this idea that directly plugs in pred1 into z0. Works for pred1 = 0 or 1.\n",
    "d = q_ztm1_eq_1_zt_z0.subs(z0, pred1)\n",
    "d.simplify()"
   ]
  }
 ],
 "metadata": {
  "kernelspec": {
   "display_name": "gr",
   "language": "python",
   "name": "python3"
  },
  "language_info": {
   "codemirror_mode": {
    "name": "ipython",
    "version": 3
   },
   "file_extension": ".py",
   "mimetype": "text/x-python",
   "name": "python",
   "nbconvert_exporter": "python",
   "pygments_lexer": "ipython3",
   "version": "3.11.9"
  }
 },
 "nbformat": 4,
 "nbformat_minor": 2
}
